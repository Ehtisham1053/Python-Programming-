{
  "nbformat": 4,
  "nbformat_minor": 0,
  "metadata": {
    "colab": {
      "provenance": [],
      "authorship_tag": "ABX9TyMWtgcdGHze2vb3I4J2YxHM",
      "include_colab_link": true
    },
    "kernelspec": {
      "name": "python3",
      "display_name": "Python 3"
    },
    "language_info": {
      "name": "python"
    }
  },
  "cells": [
    {
      "cell_type": "markdown",
      "metadata": {
        "id": "view-in-github",
        "colab_type": "text"
      },
      "source": [
        "<a href=\"https://colab.research.google.com/github/Ehtisham1053/Python-Programming-/blob/main/Dictionary.ipynb\" target=\"_parent\"><img src=\"https://colab.research.google.com/assets/colab-badge.svg\" alt=\"Open In Colab\"/></a>"
      ]
    },
    {
      "cell_type": "markdown",
      "source": [
        "## 📚 What is a Dictionary (`dict`) in Python?\n",
        "\n",
        "A dictionary in Python is an **unordered**, **mutable**, and **indexed** collection that stores data in **key-value pairs**.\n",
        "\n",
        "### ✅ Characteristics:\n",
        "- Each key in a dictionary must be unique and immutable.\n",
        "- Values can be of any data type and can be duplicated.\n",
        "- Defined using `{ key: value }` syntax.\n",
        "\n",
        "---\n",
        "\n",
        "### 🛠️ Different Ways to Create a Dictionary:\n",
        "\n",
        "1. **Using curly braces `{}`**\n",
        "2. **Using the `dict()` constructor**\n",
        "3. **Using list of tuples**\n",
        "4. **Using dictionary comprehension**\n"
      ],
      "metadata": {
        "id": "ka2BXKc7ni2W"
      }
    },
    {
      "cell_type": "code",
      "execution_count": null,
      "metadata": {
        "colab": {
          "base_uri": "https://localhost:8080/"
        },
        "id": "uk5QDjWZnX1C",
        "outputId": "c756e53a-78a7-41ac-dc08-58e2439d1017"
      },
      "outputs": [
        {
          "output_type": "stream",
          "name": "stdout",
          "text": [
            "Dict 1: {'name': 'Alice', 'age': 25, 'city': 'Lahore'}\n",
            "Dict 2: {'name': 'Bob', 'age': 30, 'city': 'Karachi'}\n",
            "Dict 3: {'name': 'Charlie', 'age': 28, 'city': 'Islamabad'}\n",
            "Dict 4 (Comprehension): {1: 1, 2: 4, 3: 9}\n"
          ]
        }
      ],
      "source": [
        "# 1️⃣ Using curly braces\n",
        "dict1 = {\"name\": \"Alice\", \"age\": 25, \"city\": \"Lahore\"}\n",
        "print(\"Dict 1:\", dict1)\n",
        "\n",
        "# 2️⃣ Using dict() constructor\n",
        "dict2 = dict(name=\"Bob\", age=30, city=\"Karachi\")\n",
        "print(\"Dict 2:\", dict2)\n",
        "\n",
        "# 3️⃣ Using list of tuples\n",
        "dict3 = dict([(\"name\", \"Charlie\"), (\"age\", 28), (\"city\", \"Islamabad\")])\n",
        "print(\"Dict 3:\", dict3)\n",
        "\n",
        "# 4️⃣ Using dictionary comprehension\n",
        "dict4 = {x: x**2 for x in range(1, 4)}\n",
        "print(\"Dict 4 (Comprehension):\", dict4)\n"
      ]
    },
    {
      "cell_type": "code",
      "source": [],
      "metadata": {
        "id": "dBmGGXlooMZB"
      },
      "execution_count": null,
      "outputs": []
    },
    {
      "cell_type": "markdown",
      "source": [
        "## 📚 Characteristics of `dict` in Python\n",
        "\n",
        "A dictionary (`dict`) in Python is a powerful and flexible data structure. Here are its main characteristics:\n",
        "\n",
        "---\n",
        "\n",
        "### ✅ 1. **Unordered (Before Python 3.7) / Ordered (Python 3.7+)**\n",
        "- From Python 3.7 onwards, dictionaries preserve insertion order.\n",
        "- Prior to Python 3.7, dictionaries did not guarantee order.\n",
        "\n",
        "---\n",
        "\n",
        "### ✅ 2. **Key-Value Pairs**\n",
        "- Data is stored in `key: value` format.\n",
        "- Keys must be unique and immutable (e.g., strings, numbers, tuples).\n",
        "- Values can be any data type and can be duplicated.\n",
        "\n",
        "---\n",
        "\n",
        "### ✅ 3. **Mutable**\n",
        "- Dictionaries can be changed after creation.\n",
        "- You can add, update, or delete key-value pairs.\n",
        "\n",
        "---\n",
        "\n",
        "### ✅ 4. **Dynamic Size**\n",
        "- You can add or remove items at runtime.\n",
        "- There is no fixed size.\n",
        "\n",
        "---\n",
        "\n",
        "### ✅ 5. **Efficient Lookup**\n",
        "- Dictionaries provide fast access to data using keys (on average O(1) time complexity).\n",
        "\n",
        "---\n",
        "\n",
        "### ✅ 6. **Nested Dictionaries**\n",
        "- You can store dictionaries within dictionaries (multi-level structure).\n",
        "\n",
        "---\n",
        "\n",
        "### ✅ 7. **Supports Various Methods**\n",
        "- Common methods include `.get()`, `.keys()`, `.values()`, `.items()`, `.pop()`, `.update()`, and more.\n"
      ],
      "metadata": {
        "id": "-0W108LpofR3"
      }
    },
    {
      "cell_type": "code",
      "source": [],
      "metadata": {
        "id": "g-e2X1gKof1E"
      },
      "execution_count": null,
      "outputs": []
    }
  ]
}