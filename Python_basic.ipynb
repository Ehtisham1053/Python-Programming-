{
  "nbformat": 4,
  "nbformat_minor": 0,
  "metadata": {
    "colab": {
      "provenance": [],
      "authorship_tag": "ABX9TyPNUJC7wOq7esGfybltd7KP",
      "include_colab_link": true
    },
    "kernelspec": {
      "name": "python3",
      "display_name": "Python 3"
    },
    "language_info": {
      "name": "python"
    }
  },
  "cells": [
    {
      "cell_type": "markdown",
      "metadata": {
        "id": "view-in-github",
        "colab_type": "text"
      },
      "source": [
        "<a href=\"https://colab.research.google.com/github/Ehtisham1053/Python-Programming-/blob/main/Python_basic.ipynb\" target=\"_parent\"><img src=\"https://colab.research.google.com/assets/colab-badge.svg\" alt=\"Open In Colab\"/></a>"
      ]
    },
    {
      "cell_type": "markdown",
      "source": [
        "#Python"
      ],
      "metadata": {
        "id": "WYeTOTPWMvOC"
      }
    },
    {
      "cell_type": "markdown",
      "source": [
        "# What is Python?\n",
        "\n",
        "Python is a high-level, interpreted programming language known for its simplicity and readability. It supports multiple programming paradigms, including procedural, object-oriented, and functional programming.\n",
        "\n",
        "Python is widely used for web development, automation, data analysis, artificial intelligence, machine learning, and scientific computing.\n",
        "\n",
        "---\n",
        "\n",
        "# Why Python for Data Science?\n",
        "\n",
        "Python is one of the most popular languages for data science due to its rich ecosystem of libraries and ease of use. Here are some key reasons why Python is preferred for data science:\n",
        "\n",
        "1. **Easy to Learn & Use**: Python has a simple syntax, making it beginner-friendly.\n",
        "2. **Rich Ecosystem**: Libraries like NumPy, pandas, scikit-learn, TensorFlow, and PyTorch make data science tasks easier.\n",
        "3. **Strong Community Support**: A vast community provides continuous improvements, documentation, and troubleshooting.\n",
        "4. **Interoperability**: Python integrates well with other languages such as C, C++, and Java.\n",
        "5. **Visualization Capabilities**: Libraries like Matplotlib and Seaborn allow easy data visualization.\n",
        "6. **Scalability**: Python is used in both small projects and large-scale enterprise applications.\n",
        "7. **Automation & Scripting**: Python can automate repetitive tasks in data processing and analysis.\n",
        "\n",
        "---\n",
        "\n",
        "# Advantages of Python\n",
        "\n",
        "- **Simple and Readable**: Python’s syntax is clean and easy to understand.\n",
        "- **Extensive Libraries**: Pre-built libraries reduce development time.\n",
        "- **Cross-Platform Compatibility**: Works on Windows, Mac, and Linux.\n",
        "- **Large Community**: Millions of developers contribute to its growth.\n",
        "- **Versatile**: Supports multiple domains such as web development, AI, and automation.\n",
        "\n",
        "---\n",
        "\n",
        "# Disadvantages of Python\n",
        "\n",
        "- **Slower Execution**: Since Python is an interpreted language, it is slower than compiled languages like C++.\n",
        "- **High Memory Usage**: Python consumes more memory compared to low-level languages.\n",
        "- **Not Ideal for Mobile Development**: While Python is great for backend development, it is less common in mobile app development.\n",
        "- **GIL (Global Interpreter Lock)**: Limits true parallel execution of threads, affecting multi-threaded applications.\n",
        "\n",
        "---\n",
        "\n",
        "# Conclusion\n",
        "\n",
        "Python is a powerful and versatile language, making it an excellent choice for data science. Despite some performance limitations, its simplicity, extensive libraries, and strong community support make it the go-to language for data professionals.\n"
      ],
      "metadata": {
        "id": "Fug_jihnM2HD"
      }
    },
    {
      "cell_type": "markdown",
      "source": [
        "# Print Statement"
      ],
      "metadata": {
        "id": "qlvXE11JOVcV"
      }
    },
    {
      "cell_type": "markdown",
      "source": [
        "# The print() Statement in Python\n",
        "\n",
        "The `print()` function is used to display output in Python. It has the following syntax:\n",
        "\n",
        "```python\n",
        "print(*objects, sep=' ', end='\\n', file=sys.stdout, flush=False)\n",
        "\n",
        "\n",
        "\n",
        "\n"
      ],
      "metadata": {
        "id": "VjIDhNNsOYks"
      }
    },
    {
      "cell_type": "markdown",
      "source": [
        "Parameters:\n",
        "1. objects: The values to be printed. Multiple values can be separated by commas.\n",
        "\n",
        "2. sep (optional): Defines the separator between multiple objects. Default is a space ' '.\n",
        "\n",
        "3. end (optional): Defines what to print at the end. Default is a newline '\\n'.\n",
        "\n",
        "4. file (optional): Specifies the output stream. Default is sys.stdout (console).\n",
        "\n",
        "5. flush (optional): If True, forces the output to be written immediately.\n",
        "\n"
      ],
      "metadata": {
        "id": "n9v48CcvOayc"
      }
    },
    {
      "cell_type": "code",
      "execution_count": null,
      "metadata": {
        "colab": {
          "base_uri": "https://localhost:8080/"
        },
        "id": "Omzt4P3b97Bx",
        "outputId": "a91310a6-c17b-42e0-8efb-1a782aa51e78"
      },
      "outputs": [
        {
          "output_type": "stream",
          "name": "stdout",
          "text": [
            "Alice | 25 | New York !!!\n"
          ]
        }
      ],
      "source": [
        "import sys\n",
        "\n",
        "name = \"Alice\"\n",
        "age = 25\n",
        "city = \"New York\"\n",
        "print(name, age, city, sep=\" | \", end=\" !!!\\n\", file=sys.stdout, flush=True)\n"
      ]
    },
    {
      "cell_type": "markdown",
      "source": [
        "* sep=\" | \" → Separates values with \" | \" instead of the default space.\n",
        "\n",
        "* end=\" !!!\\n\" → Ends the output with \" !!!\" instead of a new line.\n",
        "\n",
        "* file=sys.stdout → Prints to the standard output (console).\n",
        "\n",
        "* flush=True → Forces immediate output."
      ],
      "metadata": {
        "id": "2WsKcJt9Oo4V"
      }
    },
    {
      "cell_type": "code",
      "source": [],
      "metadata": {
        "id": "HdqTvh4pOkw6"
      },
      "execution_count": null,
      "outputs": []
    },
    {
      "cell_type": "markdown",
      "source": [
        "# Data Types"
      ],
      "metadata": {
        "id": "3z6IJZn3Qf8e"
      }
    },
    {
      "cell_type": "markdown",
      "source": [
        "# Python Data Types\n",
        "\n",
        "Python has several built-in data types, categorized as follows:\n",
        "\n",
        "---\n",
        "\n",
        "## 1. Numeric Types\n",
        "- **int** (Integer)\n",
        "- **float** (Floating-Point)\n",
        "- **complex** (Complex Number)\n",
        "\n",
        "---\n",
        "\n",
        "## 2. Sequence Types\n",
        "- **list** (Ordered, Mutable Collection)\n",
        "- **tuple** (Ordered, Immutable Collection)\n",
        "- **range** (Sequence of Numbers)\n",
        "\n",
        "---\n",
        "\n",
        "## 3. String Type\n",
        "- **str** (Textual Data)\n",
        "\n",
        "---\n",
        "\n",
        "## 4. Set Types\n",
        "- **set** (Unordered, Unique Elements)\n",
        "- **frozenset** (Immutable Set)\n",
        "\n",
        "---\n",
        "\n",
        "## 5. Mapping Type\n",
        "- **dict** (Key-Value Pairs)\n",
        "\n",
        "---\n",
        "\n",
        "## 6. Boolean Type\n",
        "- **bool** (True or False)\n",
        "\n",
        "---\n",
        "\n",
        "## 7. Binary Types\n",
        "- **bytes** (Immutable Byte Sequence)\n",
        "- **bytearray** (Mutable Byte Sequence)\n",
        "- **memoryview** (Binary Memory View)\n",
        "\n",
        "---\n",
        "\n",
        "## 8. None Type\n",
        "- **NoneType** (Represents No Value)\n"
      ],
      "metadata": {
        "id": "ag8eJckDQhul"
      }
    },
    {
      "cell_type": "code",
      "source": [
        "# 1. Numeric Types\n",
        "x = 10  # int: Integer data type, stores whole numbers\n",
        "y = 3.14  # float: Floating-point number, stores decimal values\n",
        "z = 2 + 3j  # complex: Stores real and imaginary parts\n",
        "print(\"---------------------------------integer Types----------------------\")\n",
        "\n",
        "print(\"Integer:\", x , type(x))\n",
        "print(\"Float:\", y , type(y))\n",
        "print(\"Complex:\", z , type(z))\n",
        "\n",
        "\n",
        "# 2. Sequence Types\n",
        "print(\"---------------------------------Sequence Types-----------------------\")\n",
        "my_list = [1, 2, 3, \"apple\"]  # list: Ordered, mutable collection\n",
        "my_tuple = (10, 20, 30)  # tuple: Ordered, immutable collection\n",
        "my_range = range(5)  # range: Generates numbers from 0 to 4\n",
        "\n",
        "print(\"List:\", my_list , type(my_list))\n",
        "print(\"Tuple:\", my_tuple , type(my_tuple))\n",
        "print(\"Range:\", list(my_range))  # Convert range to list for display\n",
        "\n",
        "# 3. String Type\n",
        "print(\"---------------------------------String Type----------------------\")\n",
        "text = \"Python is powerful!\"  # str: Represents text\n",
        "print(\"String:\", text , type(text))\n",
        "\n",
        "print(\"---------------------------------Set Types----------------------\")\n",
        "# 4. Set Types\n",
        "my_set = {1, 2, 3, 4}  # set: Unordered collection of unique elements\n",
        "my_frozenset = frozenset([5, 6, 7])  # frozenset: Immutable version of set\n",
        "\n",
        "print(\"Set:\", my_set , type(my_set))\n",
        "print(\"Frozenset:\", my_frozenset , type(my_frozenset))\n",
        "\n",
        "# 5. Mapping Type\n",
        "print(\"---------------------------------Mapping Types----------------------\")\n",
        "dictionary = {\"name\": \"Alice\", \"age\": 25, \"city\": \"New York\"}  # dict: Key-value pairs\n",
        "print(\"Dictionary:\", dictionary, type(dictionary))\n",
        "\n",
        "# 6. Boolean Type\n",
        "print(\"---------------------------------Boolean Types----------------------\")\n",
        "is_python_fun = True  # bool: Represents True or False\n",
        "is_raining = False\n",
        "\n",
        "print(\"Boolean Values:\", is_python_fun, is_raining , type(is_python_fun), type(is_raining))\n",
        "\n",
        "\n",
        "# 7. Binary Types\n",
        "print(\"---------------------------------Binary Types----------------------\")\n",
        "byte_data = b\"Hello\"  # bytes: Immutable sequence of bytes\n",
        "byte_arr = bytearray([65, 66, 67])  # bytearray: Mutable sequence of bytes\n",
        "memory = memoryview(byte_arr)  # memoryview: Provides a view of binary memory\n",
        "\n",
        "print(\"Bytes:\", byte_data , type(byte_data))\n",
        "print(\"Bytearray:\", byte_arr , type(byte_arr))\n",
        "print(\"Memoryview:\", memory.tolist())  # Convert memoryview to list\n",
        "\n",
        "# 8. None Type\n",
        "print(\"---------------------------------None Types----------------------\")\n",
        "nothing = None  # NoneType: Represents the absence of a value\n",
        "print(\"None Type:\", nothing , type(nothing))\n",
        "\n",
        "\n",
        "print(\"---------------------------------string----------------------\")\n",
        "str = \"my name is Ehtisham\"\n",
        "print(str  , type(str))"
      ],
      "metadata": {
        "colab": {
          "base_uri": "https://localhost:8080/"
        },
        "id": "ytur4vzDQhJX",
        "outputId": "779e42a7-0540-49b5-9bba-227e8e4f195b"
      },
      "execution_count": null,
      "outputs": [
        {
          "output_type": "stream",
          "name": "stdout",
          "text": [
            "---------------------------------integer Types----------------------\n",
            "Integer: 10 <class 'int'>\n",
            "Float: 3.14 <class 'float'>\n",
            "Complex: (2+3j) <class 'complex'>\n",
            "---------------------------------Sequence Types-----------------------\n",
            "List: [1, 2, 3, 'apple'] <class 'list'>\n",
            "Tuple: (10, 20, 30) <class 'tuple'>\n",
            "Range: [0, 1, 2, 3, 4]\n",
            "---------------------------------String Type----------------------\n",
            "String: Python is powerful! <class 'str'>\n",
            "---------------------------------Set Types----------------------\n",
            "Set: {1, 2, 3, 4} <class 'set'>\n",
            "Frozenset: frozenset({5, 6, 7}) <class 'frozenset'>\n",
            "---------------------------------Mapping Types----------------------\n",
            "Dictionary: {'name': 'Alice', 'age': 25, 'city': 'New York'} <class 'dict'>\n",
            "---------------------------------Boolean Types----------------------\n",
            "Boolean Values: True False <class 'bool'> <class 'bool'>\n",
            "---------------------------------Binary Types----------------------\n",
            "Bytes: b'Hello' <class 'bytes'>\n",
            "Bytearray: bytearray(b'ABC') <class 'bytearray'>\n",
            "Memoryview: [65, 66, 67]\n",
            "---------------------------------None Types----------------------\n",
            "None Type: None <class 'NoneType'>\n",
            "---------------------------------string----------------------\n",
            "my name is Ehtisham <class 'str'>\n"
          ]
        }
      ]
    },
    {
      "cell_type": "code",
      "source": [],
      "metadata": {
        "id": "bEiHVFJvRB0H"
      },
      "execution_count": null,
      "outputs": []
    },
    {
      "cell_type": "markdown",
      "source": [
        "# Compile VS interpretation"
      ],
      "metadata": {
        "id": "Ng6Yn2QgVwve"
      }
    },
    {
      "cell_type": "markdown",
      "source": [
        "# Difference Between Compilation and Interpretation\n",
        "\n",
        "In programming, two main methods are used to execute code: **Compilation** and **Interpretation**. Below is a comparison of both:\n",
        "\n",
        "---\n",
        "\n",
        "## 1. Compilation  \n",
        "- The entire source code is translated into machine code before execution.  \n",
        "- The compiled code runs faster since it's already converted into machine instructions.  \n",
        "- Errors are detected at compile time before execution.  \n",
        "- Requires a separate compilation step before running the program.  \n",
        "- Example Languages: **C, C++, Java (compiled to bytecode)**  \n",
        "\n",
        "**Example:**  \n",
        "```c\n",
        "// C Program (compiled before execution)\n",
        "#include <stdio.h>\n",
        "int main() {\n",
        "    printf(\"Hello, World!\");\n",
        "    return 0;\n",
        "}\n"
      ],
      "metadata": {
        "id": "6oAPACarVzZb"
      }
    },
    {
      "cell_type": "markdown",
      "source": [
        "# Interpretation in Programming\n",
        "\n",
        "Interpretation is a method of executing a program where the source code is **translated line by line** into machine code at runtime.\n",
        "\n",
        "---\n",
        "\n",
        "## 1. How Interpretation Works?\n",
        "- The interpreter reads the source code **line by line**.\n",
        "- It converts each line into machine code and executes it immediately.\n",
        "- If an error occurs, the execution **stops at that line** and shows an error message.\n",
        "\n",
        "---\n",
        "\n",
        "## 2. Key Features of Interpretation:\n",
        "- **No separate compilation** step; the code runs directly.\n",
        "- **Slower execution** because the code is translated while running.\n",
        "- **More flexible** since it allows immediate execution and testing.\n",
        "- **Common in scripting languages** like Python, JavaScript, and Ruby.\n",
        "\n",
        "---\n",
        "\n",
        "## 3. Example of Interpreted Languages\n",
        "\n",
        "### **Python (Interpreted Language)**\n",
        "```python\n",
        "print(\"Hello, World!\")  # Directly executed by the Python interpreter\n"
      ],
      "metadata": {
        "id": "VWubiqoWWBzd"
      }
    },
    {
      "cell_type": "markdown",
      "source": [
        "# Difference Between Compilation and Interpretation\n",
        "\n",
        "| Feature             | Compilation                          | Interpretation                      |\n",
        "|---------------------|------------------------------------|-----------------------------------|\n",
        "| **Execution Process** | Translates the entire code before running | Translates and runs line by line |\n",
        "| **Execution Speed**  | Faster (precompiled)              | Slower (due to real-time translation) |\n",
        "| **Error Detection**  | Detects all errors before execution | Stops at the first error during execution |\n",
        "| **Compilation Step** | Requires a separate compilation step | No separate compilation required |\n",
        "| **Dependency**      | Needs a compiler                   | Needs an interpreter |\n",
        "| **Flexibility**     | Less flexible (must recompile after changes) | More flexible (instant execution) |\n",
        "| **Examples**        | C, C++, Java (compiled to bytecode) | Python, JavaScript, PHP |\n",
        "| **Output Generation** | Creates an independent executable file | Does not create an independent file |\n",
        "\n",
        "---\n",
        "\n",
        "# Summary\n",
        "- **Compiled languages** are **faster** but require a **compilation step**.\n",
        "- **Interpreted languages** are **more flexible** but run **slower**.\n",
        "- Some languages like **Java** use both compilation and interpretation.\n"
      ],
      "metadata": {
        "id": "8Mq2ts8uWSrc"
      }
    },
    {
      "cell_type": "code",
      "source": [],
      "metadata": {
        "id": "37CqyE-dVzBf"
      },
      "execution_count": null,
      "outputs": []
    },
    {
      "cell_type": "markdown",
      "source": [
        "# variable"
      ],
      "metadata": {
        "id": "VFgx7A8PNDwo"
      }
    },
    {
      "cell_type": "markdown",
      "source": [
        "# Variable and Its Types in Python\n",
        "\n",
        "## What is a Variable?\n",
        "A **variable** is a name that stores data in memory. It acts as a container for storing values.\n",
        "\n",
        "---\n",
        "\n",
        "## Types of Variables in Python:\n",
        "\n",
        "1. **Integer Variable (`int`)**\n",
        "2. **Floating-Point Variable (`float`)**\n",
        "3. **Complex Variable (`complex`)**\n",
        "4. **String Variable (`str`)**\n",
        "5. **Boolean Variable (`bool`)**\n",
        "6. **List Variable (`list`)**\n",
        "7. **Tuple Variable (`tuple`)**\n",
        "8. **Set Variable (`set`)**\n",
        "9. **Frozen Set Variable (`frozenset`)**\n",
        "10. **Dictionary Variable (`dict`)**\n",
        "11. **Bytes Variable (`bytes`)**\n",
        "12. **Bytearray Variable (`bytearray`)**\n",
        "13. **Memoryview Variable (`memoryview`)**\n",
        "14. **None Type Variable (`NoneType`)**\n"
      ],
      "metadata": {
        "id": "AgPGcJQIMXrY"
      }
    },
    {
      "cell_type": "code",
      "source": [
        "# Variable Types in Python\n",
        "\n",
        "# 1. Integer Variable (int)\n",
        "integer_var = 10  # Stores whole numbers\n",
        "\n",
        "# 2. Floating-Point Variable (float)\n",
        "floating_var = 3.14  # Stores decimal numbers\n",
        "\n",
        "# 3. Complex Variable (complex)\n",
        "complex_var = 2 + 3j  # Stores real and imaginary parts\n",
        "\n",
        "# 4. String Variable (str)\n",
        "string_var = \"Hello, Python!\"  # Stores text data\n",
        "\n",
        "# 5. Boolean Variable (bool)\n",
        "boolean_var = True  # Stores True or False values\n",
        "\n",
        "# 6. List Variable (list)\n",
        "list_var = [1, 2, 3, \"apple\"]  # Ordered, mutable collection\n",
        "\n",
        "# 7. Tuple Variable (tuple)\n",
        "tuple_var = (10, 20, 30)  # Ordered, immutable collection\n",
        "\n",
        "# 8. Set Variable (set)\n",
        "set_var = {1, 2, 3, 4}  # Unordered collection of unique elements\n",
        "\n",
        "# 9. Frozen Set Variable (frozenset)\n",
        "frozenset_var = frozenset([5, 6, 7])  # Immutable version of set\n",
        "\n",
        "# 10. Dictionary Variable (dict)\n",
        "dict_var = {\"name\": \"Alice\", \"age\": 25, \"city\": \"New York\"}  # Key-value pairs\n",
        "\n",
        "# 11. Bytes Variable (bytes)\n",
        "bytes_var = b\"Hello\"  # Immutable sequence of bytes\n",
        "\n",
        "# 12. Bytearray Variable (bytearray)\n",
        "bytearray_var = bytearray([65, 66, 67])  # Mutable sequence of bytes\n",
        "\n",
        "# 13. Memoryview Variable (memoryview)\n",
        "memory_var = memoryview(bytearray_var)  # View of binary memory\n",
        "\n",
        "# 14. None Type Variable (NoneType)\n",
        "none_var = None  # Represents the absence of a value\n",
        "\n",
        "# Printing all variables\n",
        "print(\"Integer:\", integer_var)\n",
        "print(\"Float:\", floating_var)\n",
        "print(\"Complex:\", complex_var)\n",
        "print(\"String:\", string_var)\n",
        "print(\"Boolean:\", boolean_var)\n",
        "print(\"List:\", list_var)\n",
        "print(\"Tuple:\", tuple_var)\n",
        "print(\"Set:\", set_var)\n",
        "print(\"Frozenset:\", frozenset_var)\n",
        "print(\"Dictionary:\", dict_var)\n",
        "print(\"Bytes:\", bytes_var)\n",
        "print(\"Bytearray:\", bytearray_var)\n",
        "print(\"Memoryview:\", memory_var.tolist())  # Convert memoryview to list\n",
        "print(\"None Type:\", none_var)\n"
      ],
      "metadata": {
        "colab": {
          "base_uri": "https://localhost:8080/"
        },
        "id": "XB2OHrumNC1C",
        "outputId": "c5bbd94f-9e78-46e7-95e7-74f4ff83a4a4"
      },
      "execution_count": null,
      "outputs": [
        {
          "output_type": "stream",
          "name": "stdout",
          "text": [
            "Integer: 10\n",
            "Float: 3.14\n",
            "Complex: (2+3j)\n",
            "String: Hello, Python!\n",
            "Boolean: True\n",
            "List: [1, 2, 3, 'apple']\n",
            "Tuple: (10, 20, 30)\n",
            "Set: {1, 2, 3, 4}\n",
            "Frozenset: frozenset({5, 6, 7})\n",
            "Dictionary: {'name': 'Alice', 'age': 25, 'city': 'New York'}\n",
            "Bytes: b'Hello'\n",
            "Bytearray: bytearray(b'ABC')\n",
            "Memoryview: [65, 66, 67]\n",
            "None Type: None\n"
          ]
        }
      ]
    },
    {
      "cell_type": "code",
      "source": [],
      "metadata": {
        "id": "ldmV0gxUNgsM"
      },
      "execution_count": null,
      "outputs": []
    },
    {
      "cell_type": "markdown",
      "source": [
        "# 1. Static Typing vs. Dynamic Typing in Python\n",
        "\n",
        "| Feature             | Static Typing                        | Dynamic Typing                        |\n",
        "|---------------------|------------------------------------|--------------------------------------|\n",
        "| **Definition**      | Type checking is done at compile-time | Type checking is done at runtime |\n",
        "| **Flexibility**     | Less flexible (types must be defined before use) | More flexible (types can change dynamically) |\n",
        "| **Error Detection** | Detects type errors before execution | Errors appear only during execution |\n",
        "| **Language Examples** | C, C++, Java                     | Python, JavaScript, Ruby |\n",
        "| **Python's Approach** | Python is **dynamically typed** | No need to declare variable types |\n",
        "\n",
        "**Example in Python (Dynamic Typing):**\n",
        "```python\n",
        "x = 10  # Initially an integer\n",
        "x = \"Hello\"  # Now a string (allowed in dynamic typing)\n"
      ],
      "metadata": {
        "id": "x10D4hu7OMIH"
      }
    },
    {
      "cell_type": "code",
      "source": [
        "a , b = 5 , 4\n",
        "print(a)\n",
        "print(b)"
      ],
      "metadata": {
        "colab": {
          "base_uri": "https://localhost:8080/"
        },
        "id": "qF_2w7EEOMg4",
        "outputId": "743ef2ca-7298-4eff-e1cc-868e99cd89f4"
      },
      "execution_count": null,
      "outputs": [
        {
          "output_type": "stream",
          "name": "stdout",
          "text": [
            "5\n",
            "4\n"
          ]
        }
      ]
    },
    {
      "cell_type": "markdown",
      "source": [
        "# Difference Between Keyword and Identifier in Python\n",
        "\n",
        "| Feature           | Keyword                                | Identifier                          |\n",
        "|------------------|--------------------------------------|-----------------------------------|\n",
        "| **Definition**   | A **reserved word** that has a special meaning in Python | A **user-defined name** for variables, functions, classes, etc. |\n",
        "| **Usage**        | Used to define the syntax and structure of Python | Used to label or identify program elements |\n",
        "| **Predefined?**  | Yes, predefined by Python | No, created by the programmer |\n",
        "| **Can Be Modified?** | No, keywords cannot be changed | Yes, identifiers can be chosen by the user |\n",
        "| **Example**      | `if`, `else`, `while`, `def`, `return` | `age`, `my_function`, `ClassName` |\n",
        "| **Rules**        | Must be used exactly as defined by Python | Must start with a letter or underscore, followed by letters, digits, or underscores |\n",
        "\n",
        "---\n",
        "\n",
        "# Examples in Python\n",
        "\n",
        "## **1. Keywords (Reserved Words)**\n",
        "```python\n",
        "# Example of Python Keywords\n",
        "if True:\n",
        "    print(\"This is a keyword example\")\n",
        "\n",
        "\n",
        "# Example of the identifier\n",
        "def my_func():\n",
        "  pass\n",
        "\n",
        "```"
      ],
      "metadata": {
        "id": "INf4oJzlQICm"
      }
    },
    {
      "cell_type": "code",
      "source": [
        "import keyword\n",
        "l = []\n",
        "l.append(keyword.kwlist)\n",
        "print(\"keywords in python\")\n",
        "print(l)\n"
      ],
      "metadata": {
        "colab": {
          "base_uri": "https://localhost:8080/"
        },
        "id": "aPfjcKI7Pnzt",
        "outputId": "c53d92e0-f857-4543-b5fa-bbff02fd6b88"
      },
      "execution_count": null,
      "outputs": [
        {
          "output_type": "stream",
          "name": "stdout",
          "text": [
            "keywords in python\n",
            "[['False', 'None', 'True', 'and', 'as', 'assert', 'async', 'await', 'break', 'class', 'continue', 'def', 'del', 'elif', 'else', 'except', 'finally', 'for', 'from', 'global', 'if', 'import', 'in', 'is', 'lambda', 'nonlocal', 'not', 'or', 'pass', 'raise', 'return', 'try', 'while', 'with', 'yield']]\n"
          ]
        }
      ]
    },
    {
      "cell_type": "code",
      "source": [],
      "metadata": {
        "id": "Gr2_BmnRS3Hm"
      },
      "execution_count": null,
      "outputs": []
    },
    {
      "cell_type": "markdown",
      "source": [
        "# Type conversion"
      ],
      "metadata": {
        "id": "bWFqbfoDT-gu"
      }
    },
    {
      "cell_type": "markdown",
      "source": [
        "# Type Conversion in Python\n",
        "\n",
        "## **1. What is Type Conversion?**\n",
        "Type conversion is the process of converting one data type into another. In Python, there are two types of type conversion:\n",
        "\n",
        "1. **Implicit Type Conversion** (Automatic conversion by Python)\n",
        "2. **Explicit Type Conversion** (Manually converting data types)\n",
        "\n",
        "---\n",
        "\n",
        "## **2. Implicit Type Conversion**\n",
        "- Python **automatically** converts smaller data types to larger ones to avoid data loss.\n",
        "- Example: An integer is automatically converted to a float in an arithmetic operation.\n",
        "\n",
        "```python\n",
        "int_value = 10\n",
        "float_value = 2.5\n",
        "result = int_value + float_value  # int is automatically converted to float\n",
        "print(result, type(result))  # Output: 12.5 <class 'float'>\n"
      ],
      "metadata": {
        "id": "zVMpBT1ZUPDG"
      }
    },
    {
      "cell_type": "code",
      "source": [
        "# Type Conversion in Python\n",
        "\n",
        "# 1. Implicit Type Conversion (Automatically done by Python)\n",
        "int_value = 10\n",
        "float_value = 2.5\n",
        "result = int_value + float_value  # int is automatically converted to float\n",
        "print(\"Implicit Type Conversion:\", result, type(result))\n",
        "\n",
        "# 2. Explicit Type Conversion (Manually converting data types)\n",
        "\n",
        "# Converting integer to string\n",
        "int_var = 100\n",
        "str_var = str(int_var)\n",
        "print(\"Explicit Conversion (int to str):\", str_var, type(str_var))\n",
        "\n",
        "# Converting string to integer\n",
        "str_num = \"50\"\n",
        "int_num = int(str_num)\n",
        "print(\"Explicit Conversion (str to int):\", int_num, type(int_num))\n",
        "\n",
        "# Converting float to integer\n",
        "float_num = 9.99\n",
        "int_from_float = int(float_num)\n",
        "print(\"Explicit Conversion (float to int):\", int_from_float, type(int_from_float))\n",
        "\n",
        "# Converting list to tuple\n",
        "list_var = [1, 2, 3]\n",
        "tuple_var = tuple(list_var)\n",
        "print(\"Explicit Conversion (list to tuple):\", tuple_var, type(tuple_var))\n",
        "\n",
        "# Converting tuple to list\n",
        "tuple_var = (4, 5, 6)\n",
        "list_var = list(tuple_var)\n",
        "print(\"Explicit Conversion (tuple to list):\", list_var, type(list_var))\n",
        "\n",
        "# Converting integer to float\n",
        "int_to_float = float(42)\n",
        "print(\"Explicit Conversion (int to float):\", int_to_float, type(int_to_float))\n",
        "\n",
        "# Converting set to list\n",
        "set_var = {10, 20, 30}\n",
        "list_from_set = list(set_var)\n",
        "print(\"Explicit Conversion (set to list):\", list_from_set, type(list_from_set))\n"
      ],
      "metadata": {
        "colab": {
          "base_uri": "https://localhost:8080/"
        },
        "id": "MWtZHvddUAdf",
        "outputId": "63bd928e-e09c-4d17-da21-bc4e60486267"
      },
      "execution_count": null,
      "outputs": [
        {
          "output_type": "stream",
          "name": "stdout",
          "text": [
            "Implicit Type Conversion: 12.5 <class 'float'>\n",
            "Explicit Conversion (int to str): 100 <class 'str'>\n",
            "Explicit Conversion (str to int): 50 <class 'int'>\n",
            "Explicit Conversion (float to int): 9 <class 'int'>\n",
            "Explicit Conversion (list to tuple): (1, 2, 3) <class 'tuple'>\n",
            "Explicit Conversion (tuple to list): [4, 5, 6] <class 'list'>\n",
            "Explicit Conversion (int to float): 42.0 <class 'float'>\n",
            "Explicit Conversion (set to list): [10, 20, 30] <class 'list'>\n"
          ]
        }
      ]
    },
    {
      "cell_type": "code",
      "source": [
        "a = input(\"Enter your name: \")\n",
        "print(a)\n",
        "# python by dfault take input as string , then we have to type cast it into the required type"
      ],
      "metadata": {
        "colab": {
          "base_uri": "https://localhost:8080/"
        },
        "id": "6ZcWQvzCUHWw",
        "outputId": "cfacd214-00de-456e-8e71-9db7452dd919"
      },
      "execution_count": null,
      "outputs": [
        {
          "output_type": "stream",
          "name": "stdout",
          "text": [
            "Enter your name:  Ehtisham\n",
            "Ehtisham\n"
          ]
        }
      ]
    },
    {
      "cell_type": "code",
      "source": [],
      "metadata": {
        "id": "qYMueEpjUaQA"
      },
      "execution_count": null,
      "outputs": []
    },
    {
      "cell_type": "markdown",
      "source": [
        "# Literals"
      ],
      "metadata": {
        "id": "ZbIVz7waV-St"
      }
    },
    {
      "cell_type": "markdown",
      "source": [
        "# Literals in Python\n",
        "\n",
        "## **1. What are Literals?**\n",
        "Literals are **fixed values** assigned to variables or constants in Python. They represent **constant values** directly in the code.\n",
        "\n",
        "---\n",
        "\n",
        "## **2. Types of Literals in Python**\n",
        "\n",
        "| Literal Type        | Description |\n",
        "|---------------------|------------|\n",
        "| **Numeric Literals** | Integer, Float, Complex Numbers |\n",
        "| **String Literals**  | Characters enclosed in quotes (`\"text\"`, `'text'`) |\n",
        "| **Boolean Literals** | `True` and `False` (used in conditions) |\n",
        "| **Special Literal**  | `None` (represents null/empty value) |\n",
        "| **Collection Literals** | List (`[]`), Tuple (`()`), Dictionary (`{}`), Set (`{}`) |\n",
        "\n",
        "---\n",
        "\n",
        "## **3. Examples of Each Literal Type**\n",
        "\n",
        "### **a. Numeric Literals**\n",
        "```python\n",
        "int_literal = 100  # Integer\n",
        "float_literal = 10.5  # Float\n",
        "complex_literal = 3 + 4j  # Complex number\n"
      ],
      "metadata": {
        "id": "Pu47v8bdWTW0"
      }
    },
    {
      "cell_type": "code",
      "source": [
        "# Literals in Python\n",
        "\n",
        "# 1. Numeric Literals\n",
        "int_literal = 100  # Integer\n",
        "float_literal = 10.5  # Float\n",
        "complex_literal = 3 + 4j  # Complex number\n",
        "print(\"Numeric Literals:\", int_literal, float_literal, complex_literal , sep=\"'----'\")\n",
        "\n",
        "# 2. String Literals\n",
        "string_literal = \"Hello, Python!\"  # Double quotes\n",
        "char_literal = 'A'  # Single character\n",
        "multi_line_literal = \"\"\"This is a\n",
        "multi-line string\"\"\"  # Triple quotes for multiple lines\n",
        "print(\"String Literals:\", string_literal, char_literal, multi_line_literal)\n",
        "\n",
        "# 3. Boolean Literals\n",
        "is_python_fun = True\n",
        "is_sky_green = False\n",
        "print(\"Boolean Literals:\", is_python_fun, is_sky_green)\n",
        "\n",
        "# 4. Special Literal (None)\n",
        "nothing = None  # Represents absence of value\n",
        "print(\"Special Literal (None):\", nothing)\n",
        "\n",
        "# 5. Collection Literals\n",
        "list_literal = [1, 2, 3, 4]  # List\n",
        "tuple_literal = (5, 6, 7, 8)  # Tuple\n",
        "dict_literal = {\"name\": \"Alice\", \"age\": 25}  # Dictionary\n",
        "set_literal = {10, 20, 30}  # Set\n",
        "print(\"Collection Literals:\", list_literal, tuple_literal, dict_literal, set_literal)\n"
      ],
      "metadata": {
        "colab": {
          "base_uri": "https://localhost:8080/"
        },
        "id": "iD73XVLeV_am",
        "outputId": "218b2b78-f9f9-420a-eec3-39217362a947"
      },
      "execution_count": null,
      "outputs": [
        {
          "output_type": "stream",
          "name": "stdout",
          "text": [
            "Numeric Literals:'----'100'----'10.5'----'(3+4j)\n",
            "String Literals: Hello, Python! A This is a\n",
            "multi-line string\n",
            "Boolean Literals: True False\n",
            "Special Literal (None): None\n",
            "Collection Literals: [1, 2, 3, 4] (5, 6, 7, 8) {'name': 'Alice', 'age': 25} {10, 20, 30}\n"
          ]
        }
      ]
    },
    {
      "cell_type": "code",
      "source": [],
      "metadata": {
        "id": "jw5Gayk0V_4W"
      },
      "execution_count": null,
      "outputs": []
    },
    {
      "cell_type": "markdown",
      "source": [
        "# operators in python"
      ],
      "metadata": {
        "id": "RmjpxLhlwdx-"
      }
    },
    {
      "cell_type": "code",
      "source": [
        "# Operators in Python\n",
        "\n",
        "# 1. Arithmetic Operators\n",
        "print(\"Arithmetic Operators\")\n",
        "x = 10\n",
        "y = 3\n",
        "print(\"Addition:\", x + y)        # 13\n",
        "print(\"Subtraction:\", x - y)     # 7\n",
        "print(\"Multiplication:\", x * y)  # 30\n",
        "print(\"Division:\", x / y)        # 3.33\n",
        "print(\"Floor Division:\", x // y) # 3\n",
        "print(\"Modulus  or remainder:\", x % y)      # 1\n",
        "print(\"Exponent:\", x ** y)       # 1000\n",
        "\n",
        "\n",
        "# 2. Comparison Operators\n",
        "print(\"\\n\")\n",
        "print(\"\\nComparison Operators\")\n",
        "print(\"x > y:\", x > y)   # True\n",
        "print(\"x < y:\", x < y)   # False\n",
        "print(\"x == y:\", x == y) # False\n",
        "print(\"x != y:\", x != y) # True\n",
        "print(\"x >= y:\", x >= y) # True\n",
        "print(\"x <= y:\", x <= y) # False\n",
        "\n",
        "# 3. Logical Operators\n",
        "a = True\n",
        "b = False\n",
        "print(\"\\nLogical Operators\")\n",
        "print(\"a and b:\", a and b) # False\n",
        "print(\"a or b:\", a or b)   # True\n",
        "print(\"not a:\", not a)     # False\n",
        "\n",
        "\n",
        "# 4. Assignment Operators\n",
        "z = 5\n",
        "print(\"\\nAssignment Operators\")\n",
        "z += 2\n",
        "print(\"z += 2:\", z)  # 7\n",
        "z -= 1\n",
        "print(\"z -= 1:\", z)  # 6\n",
        "z *= 3\n",
        "print(\"z *= 3:\", z)  # 18\n",
        "z /= 2\n",
        "print(\"z /= 2:\", z)  # 9.0\n",
        "z %= 4\n",
        "print(\"z %= 4:\", z)  # 1.0\n",
        "z **= 3\n",
        "print(\"z **= 3:\", z) # 1.0\n",
        "z //= 2\n",
        "print(\"z //= 2:\", z) # 0.0\n",
        "\n",
        "\n",
        "# 5. Bitwise Operators\n",
        "m = 6   # 110\n",
        "n = 3   # 011\n",
        "print(\"\\nBitwise Operators\")\n",
        "print(\"AND:\", m & n)   # 2\n",
        "print(\"OR:\", m | n)    # 7\n",
        "print(\"XOR:\", m ^ n)   # 5\n",
        "print(\"NOT m:\", ~m)    # -7\n",
        "print(\"Left Shift m:\", m << 1) # 12\n",
        "print(\"Right Shift m:\", m >> 1) # 3\n",
        "\n",
        "# 6. Membership Operators\n",
        "nums = [1, 2, 3, 4]\n",
        "print(\"\\nMembership Operators\")\n",
        "print(\"2 in nums:\", 2 in nums)     # True\n",
        "print(\"5 not in nums:\", 5 not in nums) # True\n",
        "\n",
        "# 7. Identity Operators\n",
        "x = [1, 2, 3]\n",
        "y = [1, 2, 3]\n",
        "z = x\n",
        "print(\"\\nIdentity Operators\")\n",
        "print(\"x is z:\", x is z)       # True\n",
        "print(\"x is y:\", x is y)       # False\n",
        "print(\"x == y:\", x == y)       # True\n",
        "print(\"x is not y:\", x is not y) # True\n"
      ],
      "metadata": {
        "colab": {
          "base_uri": "https://localhost:8080/"
        },
        "id": "Sk7BiStGk6Nl",
        "outputId": "860865a9-2a41-413c-e2f0-98462d7094d7"
      },
      "execution_count": 3,
      "outputs": [
        {
          "output_type": "stream",
          "name": "stdout",
          "text": [
            "Arithmetic Operators\n",
            "Addition: 13\n",
            "Subtraction: 7\n",
            "Multiplication: 30\n",
            "Division: 3.3333333333333335\n",
            "Floor Division: 3\n",
            "Modulus  or remainder: 1\n",
            "Exponent: 1000\n",
            "\n",
            "\n",
            "\n",
            "Comparison Operators\n",
            "x > y: True\n",
            "x < y: False\n",
            "x == y: False\n",
            "x != y: True\n",
            "x >= y: True\n",
            "x <= y: False\n",
            "\n",
            "Logical Operators\n",
            "a and b: False\n",
            "a or b: True\n",
            "not a: False\n",
            "\n",
            "Assignment Operators\n",
            "z += 2: 7\n",
            "z -= 1: 6\n",
            "z *= 3: 18\n",
            "z /= 2: 9.0\n",
            "z %= 4: 1.0\n",
            "z **= 3: 1.0\n",
            "z //= 2: 0.0\n",
            "\n",
            "Bitwise Operators\n",
            "AND: 2\n",
            "OR: 7\n",
            "XOR: 5\n",
            "NOT m: -7\n",
            "Left Shift m: 12\n",
            "Right Shift m: 3\n",
            "\n",
            "Membership Operators\n",
            "2 in nums: True\n",
            "5 not in nums: True\n",
            "\n",
            "Identity Operators\n",
            "x is z: True\n",
            "x is y: False\n",
            "x == y: True\n",
            "x is not y: True\n"
          ]
        }
      ]
    },
    {
      "cell_type": "code",
      "source": [],
      "metadata": {
        "id": "GMYECb03wr8h"
      },
      "execution_count": null,
      "outputs": []
    }
  ]
}