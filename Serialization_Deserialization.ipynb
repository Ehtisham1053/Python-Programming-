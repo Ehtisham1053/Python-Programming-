{
  "nbformat": 4,
  "nbformat_minor": 0,
  "metadata": {
    "colab": {
      "provenance": [],
      "authorship_tag": "ABX9TyOVTv9cEFR9Gm3TkBWKBamb",
      "include_colab_link": true
    },
    "kernelspec": {
      "name": "python3",
      "display_name": "Python 3"
    },
    "language_info": {
      "name": "python"
    }
  },
  "cells": [
    {
      "cell_type": "markdown",
      "metadata": {
        "id": "view-in-github",
        "colab_type": "text"
      },
      "source": [
        "<a href=\"https://colab.research.google.com/github/Ehtisham1053/Python-Programming-/blob/main/Serialization_Deserialization.ipynb\" target=\"_parent\"><img src=\"https://colab.research.google.com/assets/colab-badge.svg\" alt=\"Open In Colab\"/></a>"
      ]
    },
    {
      "cell_type": "markdown",
      "source": [
        "# 📘 What is JSON?\n",
        "\n",
        "**JSON (JavaScript Object Notation)** is a lightweight data interchange format that is easy for humans to read and write, and easy for machines to parse and generate.\n",
        "\n",
        "It is commonly used for:\n",
        "- Storing and exchanging data between a client and server.\n",
        "- Configuration files\n",
        "- APIs (especially REST APIs)\n",
        "\n",
        "---\n",
        "\n",
        "## 🔹 JSON Syntax Rules\n",
        "\n",
        "- Data is in **key/value** pairs.\n",
        "- Keys must be **strings** wrapped in double quotes.\n",
        "- Values can be:\n",
        "  - String\n",
        "  - Number\n",
        "  - Boolean\n",
        "  - Array\n",
        "  - Object (dictionary)\n",
        "  - null\n",
        "- JSON data is always enclosed in **curly braces `{}`**.\n",
        "\n",
        "---\n",
        "\n",
        "## 🔸 Example of JSON\n",
        "\n",
        "```json\n",
        "{\n",
        "  \"name\": \"Alice\",\n",
        "  \"age\": 25,\n",
        "  \"isStudent\": false,\n",
        "  \"skills\": [\"Python\", \"Data Science\", \"ML\"],\n",
        "  \"address\": {\n",
        "    \"city\": \"New York\",\n",
        "    \"zip\": \"10001\"\n",
        "  }\n",
        "}\n"
      ],
      "metadata": {
        "id": "6iAp2h8A3hWn"
      }
    },
    {
      "cell_type": "code",
      "execution_count": null,
      "metadata": {
        "id": "QHxd_19K1ZAE"
      },
      "outputs": [],
      "source": []
    },
    {
      "cell_type": "markdown",
      "source": [
        "# 📘 What is Serialization in Python?\n",
        "\n",
        "**Serialization** is the process of converting a Python object (like a list, dict, class object) into a format that can be stored or transmitted (e.g., to a file or over a network) and reconstructed later.\n",
        "\n",
        "In Python, serialization is commonly done using:\n",
        "- `json` module (for JSON format)\n",
        "- `pickle` module (for binary format)\n",
        "\n",
        "Serialization is essential for:\n",
        "- Saving data to disk\n",
        "- Sending data over networks\n",
        "- Caching\n",
        "- API communication\n",
        "\n",
        "---\n",
        "\n",
        "# 🔁 Serialization vs Deserialization\n",
        "\n",
        "| Concept         | Explanation                                |\n",
        "|-----------------|--------------------------------------------|\n",
        "| Serialization   | Convert Python object → Storable format    |\n",
        "| Deserialization | Convert stored format → Python object      |\n",
        "\n",
        "---\n",
        "\n",
        "# 📦 JSON Serialization of List in Python\n",
        "\n",
        "To serialize a Python list using `json`, use the `json.dumps()` function.\n",
        "\n"
      ],
      "metadata": {
        "id": "WBf2QdLu4EZI"
      }
    },
    {
      "cell_type": "code",
      "source": [
        "import json\n",
        "my_list = [\"apple\", \"banana\", \"cherry\"]\n",
        "\n",
        "json_data = json.dumps(my_list)\n",
        "print(\"Serialized JSON:\", json_data)\n"
      ],
      "metadata": {
        "colab": {
          "base_uri": "https://localhost:8080/"
        },
        "id": "CGpkLzaV4E6K",
        "outputId": "0383a259-074d-4b03-f3e5-1c85d04ff661"
      },
      "execution_count": 2,
      "outputs": [
        {
          "output_type": "stream",
          "name": "stdout",
          "text": [
            "Serialized JSON: [\"apple\", \"banana\", \"cherry\"]\n"
          ]
        }
      ]
    },
    {
      "cell_type": "code",
      "source": [
        "with open(\"my_list.json\", \"w\") as file:\n",
        "    json.dump(my_list, file)"
      ],
      "metadata": {
        "id": "MtXLBzgo4O21"
      },
      "execution_count": 3,
      "outputs": []
    },
    {
      "cell_type": "code",
      "source": [],
      "metadata": {
        "id": "Y_bUycQN4cqe"
      },
      "execution_count": null,
      "outputs": []
    }
  ]
}