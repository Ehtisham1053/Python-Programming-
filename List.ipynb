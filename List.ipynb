{
  "nbformat": 4,
  "nbformat_minor": 0,
  "metadata": {
    "colab": {
      "provenance": [],
      "authorship_tag": "ABX9TyPL4M1L5ofdpTQa2M+dny5s",
      "include_colab_link": true
    },
    "kernelspec": {
      "name": "python3",
      "display_name": "Python 3"
    },
    "language_info": {
      "name": "python"
    }
  },
  "cells": [
    {
      "cell_type": "markdown",
      "metadata": {
        "id": "view-in-github",
        "colab_type": "text"
      },
      "source": [
        "<a href=\"https://colab.research.google.com/github/Ehtisham1053/Python-Programming-/blob/main/List.ipynb\" target=\"_parent\"><img src=\"https://colab.research.google.com/assets/colab-badge.svg\" alt=\"Open In Colab\"/></a>"
      ]
    },
    {
      "cell_type": "markdown",
      "source": [
        "### What is a List in Python?\n",
        "\n",
        "A **list** in Python is a built-in **mutable** (changeable) data structure that is used to **store multiple items in a single variable**. Lists can hold elements of different data types including integers, floats, strings, or even other lists.\n",
        "\n",
        "Python lists are:\n",
        "- **Ordered**: Elements have a defined order.\n",
        "- **Mutable**: You can change, add, or remove elements.\n",
        "- **Heterogeneous**: Can store different types of data in a single list.\n",
        "- **Indexable**: Each element is accessed using an index starting from 0.\n",
        "\n",
        "Lists are defined using **square brackets `[]`**, and the elements are separated by **commas**.\n",
        "\n",
        "**Syntax:**\n",
        "```python\n",
        "my_list = [1, 2, 3, \"apple\", 4.5, True]\n"
      ],
      "metadata": {
        "id": "4d20yI9TdDFl"
      }
    },
    {
      "cell_type": "code",
      "execution_count": null,
      "metadata": {
        "colab": {
          "base_uri": "https://localhost:8080/"
        },
        "id": "zMOFctGcZVZZ",
        "outputId": "51cdc6d5-0c31-4155-cefa-2d77bb555771"
      },
      "outputs": [
        {
          "output_type": "stream",
          "name": "stdout",
          "text": [
            "List: [1, 2, 3, 'apple', 4.5, True]\n",
            "List: [1, 2, 3, 4]\n"
          ]
        }
      ],
      "source": [
        "my_list = [1, 2, 3, \"apple\", 4.5, True]\n",
        "print(\"List:\", my_list)\n",
        "my_list = [1,2,3,4]\n",
        "print(\"List:\", my_list)"
      ]
    },
    {
      "cell_type": "markdown",
      "source": [
        "# Different List creation"
      ],
      "metadata": {
        "id": "M7mrXfhxiYmY"
      }
    },
    {
      "cell_type": "code",
      "source": [
        "empty_list = []\n",
        "print(\"Empty List:\", empty_list)\n",
        "\n",
        "one_d_list = [1, 2, 3, 4, 5]\n",
        "print(\"1D List:\", one_d_list)\n",
        "\n",
        "two_d_list = [[1, 2], [3, 4], [5, 6]]\n",
        "print(\"2D List:\", two_d_list)\n",
        "\n",
        "three_d_list = [\n",
        "    [[1, 2], [3, 4]],\n",
        "    [[5, 6], [7, 8]]\n",
        "]\n",
        "print(\"3D List:\", three_d_list)\n",
        "\n",
        "heterogeneous_list = [10, \"Python\", 3.14, True, [1, 2, 3]]\n",
        "print(\"Heterogeneous List:\", heterogeneous_list)\n",
        "\n",
        "string_to_list = list(\"Python\")\n",
        "tuple_to_list = list((1, 2, 3))\n",
        "range_to_list = list(range(5))\n",
        "print(\"List from String:\", string_to_list)\n",
        "print(\"List from Tuple:\", tuple_to_list)\n",
        "print(\"List from Range:\", range_to_list)\n"
      ],
      "metadata": {
        "id": "qYslHp0EdKO3",
        "colab": {
          "base_uri": "https://localhost:8080/"
        },
        "outputId": "45f4d2ca-c9c2-4fca-c0cc-e54ea47908fb"
      },
      "execution_count": 6,
      "outputs": [
        {
          "output_type": "stream",
          "name": "stdout",
          "text": [
            "Empty List: []\n",
            "1D List: [1, 2, 3, 4, 5]\n",
            "2D List: [[1, 2], [3, 4], [5, 6]]\n",
            "3D List: [[[1, 2], [3, 4]], [[5, 6], [7, 8]]]\n",
            "Heterogeneous List: [10, 'Python', 3.14, True, [1, 2, 3]]\n",
            "List from String: ['P', 'y', 't', 'h', 'o', 'n']\n",
            "List from Tuple: [1, 2, 3]\n",
            "List from Range: [0, 1, 2, 3, 4]\n"
          ]
        }
      ]
    },
    {
      "cell_type": "markdown",
      "source": [
        "# list vs array"
      ],
      "metadata": {
        "id": "2veBN3JxdjsJ"
      }
    },
    {
      "cell_type": "markdown",
      "source": [
        "### List vs Array in Python\n",
        "\n",
        "| Feature              | List                                  | Array (from `array` module)             |\n",
        "|----------------------|----------------------------------------|-----------------------------------------|\n",
        "| Data Type            | Can store different data types         | Stores only similar data types          |\n",
        "| Flexibility          | More flexible                          | Less flexible, more memory efficient    |\n",
        "| Performance          | Slightly slower for large data         | Faster for numerical data operations    |\n",
        "| Memory Usage         | More memory                           | Less memory                             |\n",
        "| Import Requirement   | No need to import                      | Must import `array` module              |\n",
        "| Use Case             | General-purpose storage                | Numeric computations                    |\n",
        "| Methods              | Rich set of methods and functions      | Limited methods                         |\n",
        "\n",
        "#### Summary:\n",
        "- Use **list** when dealing with a collection of mixed or non-numeric data types.\n",
        "- Use **array** (from `array` module or NumPy) for numeric computations and performance optimization.\n"
      ],
      "metadata": {
        "id": "WIAqnhpZdl7P"
      }
    },
    {
      "cell_type": "code",
      "source": [
        "# List Example\n",
        "my_list = [1, \"two\", 3.0, True]\n",
        "print(\"List:\", my_list)\n",
        "\n",
        "# Array Example (using array module)\n",
        "import array\n",
        "\n",
        "# All elements must be of the same type (e.g., integers)\n",
        "my_array = array.array('i', [1, 2, 3, 4])\n",
        "print(\"Array:\", my_array)\n",
        "\n",
        "# Access elements\n",
        "print(\"\\nAccess elements\")\n",
        "print(\"List first element:\", my_list[0])\n",
        "print(\"Array first element:\", my_array[0])\n",
        "\n",
        "# Add elements\n",
        "print(\"\\nAdd elements\")\n",
        "my_list.append(\"new\")\n",
        "print(\"List after append:\", my_list)\n",
        "\n",
        "my_array.append(5)\n",
        "print(\"Array after append:\", my_array)\n",
        "\n",
        "# Type enforcement (array will raise error on wrong type)\n",
        "print(\"\\nType enforcement\")\n",
        "try:\n",
        "    my_array.append(\"wrong\")  # Will raise an error\n",
        "except TypeError as e:\n",
        "    print(\"Array error:\", e)\n"
      ],
      "metadata": {
        "colab": {
          "base_uri": "https://localhost:8080/"
        },
        "id": "2rAQK1AodlLt",
        "outputId": "ff40faf0-380a-4612-8bb0-3bf3ab2ddd6e"
      },
      "execution_count": 1,
      "outputs": [
        {
          "output_type": "stream",
          "name": "stdout",
          "text": [
            "List: [1, 'two', 3.0, True]\n",
            "Array: array('i', [1, 2, 3, 4])\n",
            "\n",
            "Access elements\n",
            "List first element: 1\n",
            "Array first element: 1\n",
            "\n",
            "Add elements\n",
            "List after append: [1, 'two', 3.0, True, 'new']\n",
            "Array after append: array('i', [1, 2, 3, 4, 5])\n",
            "\n",
            "Type enforcement\n",
            "Array error: 'str' object cannot be interpreted as an integer\n"
          ]
        }
      ]
    },
    {
      "cell_type": "code",
      "source": [],
      "metadata": {
        "id": "QwMNFo_9d2aI"
      },
      "execution_count": null,
      "outputs": []
    },
    {
      "cell_type": "markdown",
      "source": [
        "# How list data is stored in memory"
      ],
      "metadata": {
        "id": "2NPFxYxIeKo5"
      }
    },
    {
      "cell_type": "markdown",
      "source": [
        "### How List Data is Stored in Memory in Python\n",
        "\n",
        "In Python, a **list** is implemented as a **dynamic array of pointers**. Here's how the data is stored and managed in memory:\n",
        "\n",
        "#### Key Characteristics:\n",
        "\n",
        "- **Dynamic Size**: Python lists can grow or shrink dynamically. When the list exceeds its current memory allocation, it resizes itself by allocating more memory.\n",
        "  \n",
        "- **Memory Allocation**: Instead of storing the values directly, a list stores **references (or pointers)** to the objects in memory. Each element in the list is a pointer to the actual data stored elsewhere in memory.\n",
        "\n",
        "- **Heterogeneous Elements**: Because lists store references, they can hold elements of different data types (e.g., integers, strings, objects).\n",
        "\n",
        "- **Internal Representation**: Internally, Python uses an array of pointers (`PyObject*`) in C to implement a list.\n",
        "\n",
        "#### Example:\n",
        "If you create a list like:\n",
        "```python\n",
        "my_list = [10, \"apple\", 3.14]\n"
      ],
      "metadata": {
        "id": "olkcdcxbeO-g"
      }
    },
    {
      "cell_type": "code",
      "source": [
        "import sys\n",
        "my_list = [10, \"apple\", 3.14, True]\n",
        "\n",
        "\n",
        "for index, item in enumerate(my_list):\n",
        "    print(f\"Index {index}: Value = {item}, Type = {type(item)}, Memory Address = {id(item)}, Size = {sys.getsizeof(item)} bytes\")\n",
        "\n",
        "print(\"\\nTotal memory used by the list object (excluding elements):\", sys.getsizeof(my_list), \"bytes\")\n",
        "\n",
        "\n",
        "\n",
        "l = [1,2,3]\n",
        "print(\"\\nMemory address of the l: \",id(l))\n",
        "print(\"Memory address of 1\" , id(l[0]))\n",
        "print(\"Memory address of 2\" , id(l[1]))\n",
        "print(\"Memory address of 3\" , id(l[2]))\n"
      ],
      "metadata": {
        "colab": {
          "base_uri": "https://localhost:8080/"
        },
        "id": "f7trcuBseNVD",
        "outputId": "f3314375-b752-4093-b2f2-ac318cb5994c"
      },
      "execution_count": 4,
      "outputs": [
        {
          "output_type": "stream",
          "name": "stdout",
          "text": [
            "Index 0: Value = 10, Type = <class 'int'>, Memory Address = 10751144, Size = 28 bytes\n",
            "Index 1: Value = apple, Type = <class 'str'>, Memory Address = 133306003221424, Size = 54 bytes\n",
            "Index 2: Value = 3.14, Type = <class 'float'>, Memory Address = 133304882901296, Size = 24 bytes\n",
            "Index 3: Value = True, Type = <class 'bool'>, Memory Address = 9692800, Size = 28 bytes\n",
            "\n",
            "Total memory used by the list object (excluding elements): 88 bytes\n",
            "\n",
            "Memory address of the l:  133304882506112\n",
            "Memory address of 1 10750856\n",
            "Memory address of 2 10750888\n",
            "Memory address of 3 10750920\n"
          ]
        }
      ]
    },
    {
      "cell_type": "code",
      "source": [],
      "metadata": {
        "id": "_a-89jEFeaXb"
      },
      "execution_count": null,
      "outputs": []
    },
    {
      "cell_type": "markdown",
      "source": [
        "# Characteristics of List\n",
        "\n",
        "1. **Ordered**  \n",
        "   - Elements in a list have a defined order.\n",
        "   - This order is maintained, and indexing is based on that order.\n",
        "\n",
        "2. **Mutable**  \n",
        "   - Lists can be changed after creation.\n",
        "   - You can add, remove, or modify elements.\n",
        "\n",
        "3. **Heterogeneous**  \n",
        "   - A list can contain elements of different data types, e.g., integers, strings, floats, booleans, etc.\n",
        "\n",
        "4. **Indexable**  \n",
        "   - Each element in a list can be accessed via its index.\n",
        "   - Indexing starts from 0.\n",
        "\n",
        "5. **Dynamic Sizing**  \n",
        "   - Lists can grow or shrink dynamically during runtime as elements are added or removed.\n",
        "\n",
        "6. **Nested Lists**  \n",
        "   - Lists can contain other lists (multi-dimensional lists).\n",
        "\n",
        "7. **Supports Iteration**  \n",
        "   - Lists can be traversed using loops (e.g., `for` or `while` loops).\n",
        "\n",
        "8. **Supports Slicing**  \n",
        "   - You can extract sublists using slice notation (e.g., `my_list[1:4]`).\n",
        "\n",
        "9. **Memory Efficient for Mixed Data**  \n",
        "   - Since lists store references to objects, they can efficiently store mixed types but at the cost of extra memory overhead.\n",
        "\n",
        "10. **Built-in Methods**  \n",
        "    - Python provides many built-in methods such as `.append()`, `.remove()`, `.insert()`, `.pop()`, `.sort()`, etc., for list manipulation.\n",
        "\n",
        "### Example:\n",
        "```python\n",
        "my_list = [10, \"apple\", 3.14, True]\n",
        "print(my_list[0])          # Access by index\n",
        "my_list.append(\"new\")      # Append element\n",
        "print(my_list)\n"
      ],
      "metadata": {
        "id": "I5Htul9vhQNz"
      }
    },
    {
      "cell_type": "markdown",
      "source": [
        "# Methods to Access Elements in a List in Python\n",
        "\n",
        "Python provides several ways to access list elements:\n",
        "\n",
        "1. **Indexing**  \n",
        "   - Access elements using their index (starting from 0).  \n",
        "   - Example: `my_list[2]` gives the third element.\n",
        "\n",
        "2. **Negative Indexing**  \n",
        "   - Access elements from the end using negative indices.  \n",
        "   - Example: `my_list[-1]` gives the last element.\n",
        "\n",
        "3. **Slicing**  \n",
        "   - Access a range (sub-list) using the syntax `my_list[start:stop:step]`.  \n",
        "   - Example: `my_list[1:4]` gives elements from index 1 to 3.\n",
        "\n",
        "4. **Looping through the List**  \n",
        "   - Access each element using a loop (`for` or `while`).\n",
        "\n",
        "5. **Using List Comprehension**  \n",
        "   - Access and transform elements in one line.\n",
        "\n",
        "---\n",
        "\n",
        "\n"
      ],
      "metadata": {
        "id": "TWMyBCOwg70M"
      }
    },
    {
      "cell_type": "code",
      "source": [
        "my_list = [10, 20, 30, 40, 50, 60]\n",
        "\n",
        "# 1. Indexing\n",
        "print(\"Element at index 2:\", my_list[2])\n",
        "\n",
        "# 2. Negative Indexing\n",
        "print(\"Last element using -1:\", my_list[-1])\n",
        "print(\"Second last element using -2:\", my_list[-2])\n",
        "\n",
        "# 3. Slicing\n",
        "print(\"Elements from index 1 to 4:\", my_list[1:5])\n",
        "print(\"Every second element:\", my_list[::2])\n",
        "\n",
        "# 4. Looping\n",
        "print(\"Access using for loop:\")\n",
        "for item in my_list:\n",
        "    print(item, end=\" \")\n",
        "\n",
        "# 5. List Comprehension\n",
        "squared = [x**2 for x in my_list]\n",
        "print(\"\\nSquared elements using list comprehension:\", squared)\n"
      ],
      "metadata": {
        "id": "F76WMy8lg_Fn",
        "outputId": "2d36c35a-6cea-4579-f3dd-94de0ca194cd",
        "colab": {
          "base_uri": "https://localhost:8080/"
        }
      },
      "execution_count": 8,
      "outputs": [
        {
          "output_type": "stream",
          "name": "stdout",
          "text": [
            "Element at index 2: 30\n",
            "Last element using -1: 60\n",
            "Second last element using -2: 50\n",
            "Elements from index 1 to 4: [20, 30, 40, 50]\n",
            "Every second element: [10, 30, 50]\n",
            "Access using for loop:\n",
            "10 20 30 40 50 60 \n",
            "Squared elements using list comprehension: [100, 400, 900, 1600, 2500, 3600]\n"
          ]
        }
      ]
    },
    {
      "cell_type": "code",
      "source": [],
      "metadata": {
        "id": "oNFjWsoVlAwQ"
      },
      "execution_count": null,
      "outputs": []
    }
  ]
}