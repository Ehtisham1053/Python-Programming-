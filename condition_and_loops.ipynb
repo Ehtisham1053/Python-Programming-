{
  "nbformat": 4,
  "nbformat_minor": 0,
  "metadata": {
    "colab": {
      "provenance": [],
      "authorship_tag": "ABX9TyMyCJwj59FDT5WCrGJY0oXH",
      "include_colab_link": true
    },
    "kernelspec": {
      "name": "python3",
      "display_name": "Python 3"
    },
    "language_info": {
      "name": "python"
    }
  },
  "cells": [
    {
      "cell_type": "markdown",
      "metadata": {
        "id": "view-in-github",
        "colab_type": "text"
      },
      "source": [
        "<a href=\"https://colab.research.google.com/github/Ehtisham1053/Python-Programming-/blob/main/condition_and_loops.ipynb\" target=\"_parent\"><img src=\"https://colab.research.google.com/assets/colab-badge.svg\" alt=\"Open In Colab\"/></a>"
      ]
    },
    {
      "cell_type": "markdown",
      "source": [
        "# If else statements"
      ],
      "metadata": {
        "id": "lh50gfA7CXY4"
      }
    },
    {
      "cell_type": "code",
      "source": [
        "# Conditional Statements in Python (if, elif, else)\n",
        "\n",
        "# 1. Simple if Statement\n",
        "print(\"\\nsimple if statement\")\n",
        "x = 10\n",
        "if x > 5:\n",
        "    print(\"x is greater than 5\")\n",
        "\n",
        "# 2. if-else Statement\n",
        "print(\"if-else statement\")\n",
        "x = 3\n",
        "if x > 5:\n",
        "    print(\"x is greater than 5\")\n",
        "else:\n",
        "    print(\"x is not greater than 5\")\n",
        "\n",
        "# 3. if-elif-else Statement\n",
        "print(\"\\nif-elif-else statement\")\n",
        "x = 7\n",
        "if x > 10:\n",
        "    print(\"x is greater than 10\")\n",
        "elif x == 7:\n",
        "    print(\"x is exactly 7\")\n",
        "elif x > 5:\n",
        "    print(\"x is greater than 5\")\n",
        "else:\n",
        "    print(\"x is 5 or less\")\n",
        "\n",
        "# 4. Nested if Statement\n",
        "print(\"\\nnested if statement\")\n",
        "x = 15\n",
        "if x > 10:\n",
        "    print(\"x is greater than 10\")\n",
        "    if x > 20:\n",
        "        print(\"x is also greater than 20\")\n",
        "    else:\n",
        "        print(\"x is not greater than 20\")\n",
        "\n",
        "# 5. Multiple Conditions in One Line\n",
        "print(\"\\nmultiple conditions in one line\")\n",
        "x = 10\n",
        "y = 20\n",
        "if x < 15 and y > 15:\n",
        "    print(\"Both conditions are True\")\n",
        "\n",
        "# 6. Ternary Conditional Expression\n",
        "print(\"\\nternary conditional expression\")\n",
        "x = 5\n",
        "y = 10\n",
        "max_val = x if x > y else y\n",
        "print(\"The maximum value is:\", max_val)\n"
      ],
      "metadata": {
        "id": "DJPJJIlmY5uD",
        "outputId": "d4408670-eef8-44b4-ed18-71eed55af022",
        "colab": {
          "base_uri": "https://localhost:8080/"
        }
      },
      "execution_count": 14,
      "outputs": [
        {
          "output_type": "stream",
          "name": "stdout",
          "text": [
            "\n",
            "simple if statement\n",
            "x is greater than 5\n",
            "if-else statement\n",
            "x is not greater than 5\n",
            "\n",
            "if-elif-else statement\n",
            "x is exactly 7\n",
            "\n",
            "nested if statement\n",
            "x is greater than 10\n",
            "x is not greater than 20\n",
            "\n",
            "multiple conditions in one line\n",
            "Both conditions are True\n",
            "\n",
            "ternary conditional expression\n",
            "The maximum value is: 10\n"
          ]
        }
      ]
    },
    {
      "cell_type": "code",
      "execution_count": 9,
      "metadata": {
        "id": "zc1tSC18BHyL",
        "outputId": "de0b7270-d19d-453b-ed89-bf7aedef99ec",
        "colab": {
          "base_uri": "https://localhost:8080/"
        }
      },
      "outputs": [
        {
          "output_type": "stream",
          "name": "stdout",
          "text": [
            "enter the number 0: 2\n",
            "enter the number 1: 1\n",
            "enter the number 2: 1\n",
            "4\n"
          ]
        }
      ],
      "source": [
        "l = []\n",
        "for i in range (3):\n",
        "  l.append(int(input(f\"enter the number {i}: \")))\n",
        "\n",
        "sum = 0\n",
        "for i in l:\n",
        "  sum +=i\n",
        "\n",
        "print(sum)\n",
        ""
      ]
    },
    {
      "cell_type": "code",
      "source": [
        "num = int(input(\"enter the number:   \"))\n",
        "\n",
        "a = num % 10\n",
        "\n",
        "num = num // 10\n",
        "\n",
        "b = num % 10\n",
        "\n",
        "num = num // 10\n",
        "\n",
        "c = num % 10\n",
        "\n",
        "print(a+b+c)"
      ],
      "metadata": {
        "id": "p3WnSJXsCTbV",
        "outputId": "e2c88350-fe98-46ba-91a4-27f5fb93d782",
        "colab": {
          "base_uri": "https://localhost:8080/"
        }
      },
      "execution_count": 12,
      "outputs": [
        {
          "output_type": "stream",
          "name": "stdout",
          "text": [
            "enter the number:   123\n",
            "6\n"
          ]
        }
      ]
    },
    {
      "cell_type": "code",
      "source": [],
      "metadata": {
        "id": "TIcKa0JLGbmK"
      },
      "execution_count": null,
      "outputs": []
    }
  ]
}