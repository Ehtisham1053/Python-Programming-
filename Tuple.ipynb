{
  "nbformat": 4,
  "nbformat_minor": 0,
  "metadata": {
    "colab": {
      "provenance": [],
      "authorship_tag": "ABX9TyOtMQON6GPggjTL6zxV/XTw",
      "include_colab_link": true
    },
    "kernelspec": {
      "name": "python3",
      "display_name": "Python 3"
    },
    "language_info": {
      "name": "python"
    }
  },
  "cells": [
    {
      "cell_type": "markdown",
      "metadata": {
        "id": "view-in-github",
        "colab_type": "text"
      },
      "source": [
        "<a href=\"https://colab.research.google.com/github/Ehtisham1053/Python-Programming-/blob/main/Tuple.ipynb\" target=\"_parent\"><img src=\"https://colab.research.google.com/assets/colab-badge.svg\" alt=\"Open In Colab\"/></a>"
      ]
    },
    {
      "cell_type": "markdown",
      "source": [
        "## 🧱 What is a Tuple in Python?\n",
        "\n",
        "A **tuple** is an immutable, ordered collection of elements. This means:\n",
        "- Elements are indexed (starting from 0)\n",
        "- Elements can be of any data type\n",
        "- You cannot change (modify), add, or remove elements after creation\n",
        "\n",
        "Tuples are faster and memory-efficient compared to lists.\n",
        "\n",
        "---\n",
        "\n",
        "## 🛠️ Ways to Create a Tuple\n",
        "\n",
        "### 1. Using Round Brackets `()`\n",
        "```python\n",
        "t1 = (1, 2, 3)\n"
      ],
      "metadata": {
        "id": "v98H88tPUN67"
      }
    },
    {
      "cell_type": "code",
      "execution_count": null,
      "metadata": {
        "colab": {
          "base_uri": "https://localhost:8080/"
        },
        "id": "nN83pdadTmef",
        "outputId": "70835a85-22f5-4bcf-947b-cba1bf59fa9c"
      },
      "outputs": [
        {
          "output_type": "stream",
          "name": "stdout",
          "text": [
            "t1: (1, 2, 3)\n",
            "t2: (4, 5, 6)\n",
            "t3: (7,)\n",
            "t4 (not a tuple): 7 Type: <class 'int'>\n",
            "t5: (8, 9, 10)\n",
            "t6: (1, 2, (3, 4), [5, 6])\n"
          ]
        }
      ],
      "source": [
        "# 1. Using ()\n",
        "t1 = (1, 2, 3)\n",
        "\n",
        "# 2. Without parentheses\n",
        "t2 = 4, 5, 6\n",
        "\n",
        "# 3. Single element tuple\n",
        "t3 = (7,)\n",
        "t4 = (7)  # Not a tuple\n",
        "\n",
        "# 4. Using tuple() constructor\n",
        "t5 = tuple([8, 9, 10])\n",
        "\n",
        "# 5. Nested tuple\n",
        "t6 = (1, 2, (3, 4), [5, 6])\n",
        "\n",
        "# Print all tuples\n",
        "print(\"t1:\", t1)\n",
        "print(\"t2:\", t2)\n",
        "print(\"t3:\", t3)\n",
        "print(\"t4 (not a tuple):\", t4, \"Type:\", type(t4))\n",
        "print(\"t5:\", t5)\n",
        "print(\"t6:\", t6)\n"
      ]
    },
    {
      "cell_type": "code",
      "source": [],
      "metadata": {
        "id": "mTbVH4raUU2o"
      },
      "execution_count": null,
      "outputs": []
    },
    {
      "cell_type": "markdown",
      "source": [
        "## 📌 Characteristics of a Tuple in Python\n",
        "\n",
        "1. **Ordered Collection**  \n",
        "   Tuples maintain the order of elements. Indexing starts from 0.\n",
        "\n",
        "2. **Immutable**  \n",
        "   Once created, the elements of a tuple **cannot be changed**. You cannot add, remove, or modify elements.\n",
        "\n",
        "3. **Allows Duplicates**  \n",
        "   Tuples can contain duplicate values.\n",
        "\n",
        "4. **Heterogeneous**  \n",
        "   Tuples can store elements of **different data types** (integers, strings, lists, etc.).\n",
        "\n",
        "5. **Faster than Lists**  \n",
        "   Because they are immutable, tuples are generally **faster** and more **memory-efficient** than lists.\n",
        "\n",
        "6. **Can Be Nested**  \n",
        "   Tuples can contain other tuples, lists, or any Python objects.\n",
        "\n",
        "7. **Hashable (if elements are immutable)**  \n",
        "   Tuples can be used as keys in dictionaries if all of their elements are hashable (e.g., strings, numbers).\n",
        "\n",
        "8. **Indexing and Slicing Supported**  \n",
        "   You can access elements using indexing and slicing just like in lists.\n",
        "\n",
        "---\n",
        "\n",
        "✅ Tuples are especially useful when you want to ensure that data does not change throughout the program.\n"
      ],
      "metadata": {
        "id": "lcH-jE0IU2_O"
      }
    },
    {
      "cell_type": "code",
      "source": [],
      "metadata": {
        "id": "XWRZDJNQU3uu"
      },
      "execution_count": null,
      "outputs": []
    },
    {
      "cell_type": "markdown",
      "source": [
        "## 🎯 Accessing Tuple Elements in Python\n",
        "\n",
        "You can access elements in a tuple using:\n",
        "\n",
        "### 1. **Indexing**\n",
        "- Access elements using their index (starting from 0)\n",
        "- Negative indexing is also allowed (e.g., -1 refers to the last element)\n",
        "\n",
        "### 2. **Slicing**\n",
        "- Access a range of elements using the syntax: `tuple[start:stop:step]`\n",
        "- It returns a new tuple with the selected elements\n",
        "\n",
        "---\n",
        "\n",
        "## 📌 Examples:\n",
        "\n",
        "```python\n",
        "my_tuple = ('apple', 'banana', 'cherry', 'date', 'elderberry')\n",
        "\n",
        "# Accessing by positive index\n",
        "print(my_tuple[0])      # Output: apple\n",
        "print(my_tuple[2])      # Output: cherry\n",
        "\n",
        "# Accessing by negative index\n",
        "print(my_tuple[-1])     # Output: elderberry\n",
        "print(my_tuple[-3])     # Output: cherry\n",
        "\n",
        "# Slicing the tuple\n",
        "print(my_tuple[1:4])    # Output: ('banana', 'cherry', 'date')\n",
        "print(my_tuple[:3])     # Output: ('apple', 'banana', 'cherry')\n",
        "print(my_tuple[::2])    # Output: ('apple', 'cherry', 'elderberry')\n"
      ],
      "metadata": {
        "id": "rDfWxg8YVR_D"
      }
    },
    {
      "cell_type": "code",
      "source": [],
      "metadata": {
        "id": "uQvwud2VVTM2"
      },
      "execution_count": null,
      "outputs": []
    },
    {
      "cell_type": "markdown",
      "source": [
        "## ❌ Deleting Elements from a Tuple\n",
        "\n",
        "Tuples are immutable, so:\n",
        "- You **cannot delete** a specific element from a tuple.\n",
        "- You **can delete the entire tuple** using the `del` keyword.\n",
        "- To \"remove\" an element, you must create a **new tuple** that excludes it.\n",
        "\n",
        "---\n",
        "\n",
        "## 🛠️ Examples:\n",
        "\n",
        "\n"
      ],
      "metadata": {
        "id": "km1mbd-7V5IB"
      }
    },
    {
      "cell_type": "code",
      "source": [
        "\n",
        "# Original tuple\n",
        "my_tuple = (10, 20, 30, 40, 50)\n",
        "\n",
        "# ❌ Not allowed - will raise an error\n",
        "# del my_tuple[2]\n",
        "\n",
        "# ✅ Deleting the entire tuple\n",
        "del my_tuple\n",
        "# print(my_tuple)  # NameError: name 'my_tuple' is not defined\n",
        "\n",
        "# ✅ Creating a new tuple without the third element (index 2)\n",
        "original = (10, 20, 30, 40, 50)\n",
        "new_tuple = original[:2] + original[3:]\n",
        "print(\"New tuple after removing 30:\", new_tuple)"
      ],
      "metadata": {
        "colab": {
          "base_uri": "https://localhost:8080/"
        },
        "id": "6-6ibVD5V94n",
        "outputId": "53992cef-5d43-407f-8580-7af1316d9a36"
      },
      "execution_count": 2,
      "outputs": [
        {
          "output_type": "stream",
          "name": "stdout",
          "text": [
            "New tuple after removing 30: (10, 20, 40, 50)\n"
          ]
        }
      ]
    },
    {
      "cell_type": "code",
      "source": [],
      "metadata": {
        "id": "_DScGiucWEi5"
      },
      "execution_count": null,
      "outputs": []
    },
    {
      "cell_type": "markdown",
      "source": [
        "## ⚙️ Tuple Operations in Python\n",
        "\n",
        "Tuples support several types of operations, including:\n",
        "\n",
        "---\n",
        "\n",
        "### 1️⃣ Arithmetic Operations\n",
        "\n",
        "Tuples do **not support direct arithmetic operations** like addition or multiplication element-wise. However:\n",
        "\n",
        "- `+` is used for **concatenation**\n",
        "- `*` is used for **repetition**\n",
        "\n",
        "---\n",
        "\n",
        "### 2️⃣ Logical Operations\n",
        "\n",
        "Logical operators like `and`, `or`, and `not` work based on the **truth value** of tuples:\n",
        "- Non-empty tuples are considered **True**\n",
        "- Empty tuples are **False**\n",
        "\n",
        "---\n",
        "\n",
        "### 3️⃣ Membership Test\n",
        "\n",
        "You can use `in` and `not in` to check whether an element exists in a tuple.\n",
        "\n",
        "---\n",
        "\n",
        "### 4️⃣ Assignment\n",
        "\n",
        "Tuples can be assigned to variables using normal assignment or **unpacking** syntax.\n",
        "\n",
        "---\n",
        "\n",
        "### 5️⃣ Comparison\n",
        "\n",
        "Tuples are compared element by element using relational operators like `==`, `<`, `>`, etc.\n",
        "\n",
        "---\n",
        "\n",
        "## 🧪 Examples in Code\n"
      ],
      "metadata": {
        "id": "0GFyM18GXYds"
      }
    },
    {
      "cell_type": "code",
      "source": [
        "# 1. Arithmetic Operations\n",
        "t1 = (1, 2, 3)\n",
        "t2 = (4, 5, 6)\n",
        "\n",
        "# Concatenation\n",
        "concat = t1 + t2\n",
        "print(\"Concatenated:\", concat)\n",
        "\n",
        "# Repetition\n",
        "repeated = t1 * 2\n",
        "print(\"Repeated:\", repeated)\n",
        "\n",
        "# 2. Logical Operations\n",
        "print(\"\\nLogical Operations\")\n",
        "a = (1,)\n",
        "b = ()\n",
        "\n",
        "print(\"a and b:\", a and b)  # b is empty -> False -> returns b\n",
        "print(\"a or b:\", a or b)    # a is non-empty -> True -> returns a\n",
        "print(\"not a:\", not a)      # False\n",
        "print(\"not b:\", not b)      # True\n",
        "\n",
        "# 3. Membership\n",
        "print(\"\\nMembership\")\n",
        "t1 = (1, 2, 3)\n",
        "t2 = (4, 5, 6)\n",
        "print(2 in t1)              # True\n",
        "print(10 not in t2)         # True\n",
        "\n",
        "# 4. Assignment and Unpacking\n",
        "print(\"\\nAssignment and Unpacking\")\n",
        "t3 = (100, 200, 300)\n",
        "x, y, z = t3\n",
        "print(\"x:\", x, \"y:\", y, \"z:\", z)\n",
        "\n",
        "# 5. Comparison\n",
        "print(\"\\nComparison\")\n",
        "print((1, 2) == (1, 2))     # True\n",
        "print((1, 2) < (2, 1))      # True\n",
        "print((3, 4) > (3, 2))      # True\n"
      ],
      "metadata": {
        "colab": {
          "base_uri": "https://localhost:8080/"
        },
        "id": "b5BRp9uRXZNR",
        "outputId": "89f64abc-ed58-4f91-cb3e-d3a356f276e7"
      },
      "execution_count": 4,
      "outputs": [
        {
          "output_type": "stream",
          "name": "stdout",
          "text": [
            "Concatenated: (1, 2, 3, 4, 5, 6)\n",
            "Repeated: (1, 2, 3, 1, 2, 3)\n",
            "\n",
            "Logical Operations\n",
            "a and b: ()\n",
            "a or b: (1,)\n",
            "not a: False\n",
            "not b: True\n",
            "\n",
            "Membership\n",
            "True\n",
            "True\n",
            "\n",
            "Assignment and Unpacking\n",
            "x: 100 y: 200 z: 300\n",
            "\n",
            "Comparison\n",
            "True\n",
            "True\n",
            "True\n"
          ]
        }
      ]
    },
    {
      "cell_type": "code",
      "source": [],
      "metadata": {
        "id": "YKuep3SpXe7C"
      },
      "execution_count": null,
      "outputs": []
    },
    {
      "cell_type": "markdown",
      "source": [
        "## 🧰 Built-in Tuple Functions in Python\n",
        "\n",
        "Although tuples are immutable, Python provides some built-in functions that you can use **with** tuples (but not to modify them directly):\n",
        "\n",
        "---\n",
        "\n",
        "### 🔹 1. `len()`\n",
        "Returns the number of elements in a tuple.\n",
        "\n",
        "### 🔹 2. `max()` and `min()`\n",
        "Return the maximum or minimum value from a tuple containing comparable elements.\n",
        "\n",
        "### 🔹 3. `sum()`\n",
        "Returns the sum of all numeric elements in the tuple.\n",
        "\n",
        "### 🔹 4. `any()` and `all()`\n",
        "- `any()` returns `True` if **any** element is truthy.\n",
        "- `all()` returns `True` only if **all** elements are truthy.\n",
        "\n",
        "### 🔹 5. `sorted()`\n",
        "Returns a **sorted list** of elements from the tuple (doesn’t modify the original tuple).\n",
        "\n",
        "### 🔹 6. `tuple()`\n",
        "Converts another iterable (like a list or string) into a tuple.\n",
        "\n",
        "---\n",
        "\n",
        "## 📌 Examples:\n"
      ],
      "metadata": {
        "id": "LWBgYwkvYAuu"
      }
    },
    {
      "cell_type": "code",
      "source": [
        "my_tuple = (3, 1, 4, 1, 5, 9)\n",
        "\n",
        "# Length of tuple\n",
        "print(\"Length function\")\n",
        "print(\"Length:\", len(my_tuple))\n",
        "\n",
        "# Max and Min\n",
        "print(\"\\nMax and Min\")\n",
        "print(\"Max:\", max(my_tuple))\n",
        "print(\"Min:\", min(my_tuple))\n",
        "\n",
        "# Sum of elements\n",
        "print(\"\\nSum function\")\n",
        "print(\"Sum:\", sum(my_tuple))\n",
        "\n",
        "# Any and All\n",
        "print(\"\\nAny and All\")\n",
        "truth_tuple = (True, False, True)\n",
        "print(\"Any:\", any(truth_tuple))   # True\n",
        "print(\"All:\", all(truth_tuple))   # False\n",
        "\n",
        "# Sorted (returns a list)\n",
        "print(\"\\nSorted\")\n",
        "print(\"Sorted:\", sorted(my_tuple))\n",
        "\n",
        "# Tuple from list\n",
        "print(\"\\nTuple from list\")\n",
        "list_data = [10, 20, 30]\n",
        "converted = tuple(list_data)\n",
        "print(\"Converted to tuple:\", converted)\n"
      ],
      "metadata": {
        "id": "K7wzBIaQYBOQ",
        "outputId": "16396167-1e3c-4718-b965-16447d475de0",
        "colab": {
          "base_uri": "https://localhost:8080/"
        }
      },
      "execution_count": 5,
      "outputs": [
        {
          "output_type": "stream",
          "name": "stdout",
          "text": [
            "Length function\n",
            "Length: 6\n",
            "\n",
            "Max and Min\n",
            "Max: 9\n",
            "Min: 1\n",
            "\n",
            "Sum function\n",
            "Sum: 23\n",
            "\n",
            "Any and All\n",
            "Any: True\n",
            "All: False\n",
            "\n",
            "Sorted\n",
            "Sorted: [1, 1, 3, 4, 5, 9]\n",
            "\n",
            "Tuple from list\n",
            "Converted to tuple: (10, 20, 30)\n"
          ]
        }
      ]
    },
    {
      "cell_type": "code",
      "source": [],
      "metadata": {
        "id": "ZWzFEP-ZYDd1"
      },
      "execution_count": null,
      "outputs": []
    },
    {
      "cell_type": "markdown",
      "source": [
        "# List vs Tuple"
      ],
      "metadata": {
        "id": "oNVUD3kZYoEl"
      }
    },
    {
      "cell_type": "markdown",
      "source": [
        "## 🔄 Difference Between List and Tuple in Python\n",
        "\n",
        "| Feature                 | List                          | Tuple                          |\n",
        "|------------------------|-------------------------------|-------------------------------|\n",
        "| **Definition**          | Ordered, mutable collection   | Ordered, immutable collection |\n",
        "| **Syntax**              | Defined using `[]` brackets   | Defined using `()` brackets   |\n",
        "| **Mutability**          | Mutable (can be changed)      | Immutable (cannot be changed) |\n",
        "| **Performance**         | Slightly slower               | Faster due to immutability    |\n",
        "| **Methods Supported**   | Many built-in methods         | Fewer built-in methods        |\n",
        "| **Use Case**            | Suitable for dynamic data     | Suitable for fixed data       |\n",
        "| **Memory Usage**        | More memory                   | Less memory                   |\n",
        "| **Can be used as Key in Dict** | ❌ No                    | ✅ Yes (if all elements are hashable) |\n",
        "| **Indexing & Slicing**  | ✅ Supported                  | ✅ Supported                  |\n",
        "| **Iteration**           | ✅ Supported                  | ✅ Supported                  |\n",
        "\n",
        "---\n",
        "\n",
        "## ✅ Summary\n",
        "\n",
        "- Use **lists** when your data needs to be **modified**.\n",
        "- Use **tuples** when your data should remain **constant**.\n"
      ],
      "metadata": {
        "id": "qeSL933DYr9f"
      }
    },
    {
      "cell_type": "code",
      "source": [],
      "metadata": {
        "id": "2Oq-dh6OYrRr"
      },
      "execution_count": null,
      "outputs": []
    },
    {
      "cell_type": "markdown",
      "source": [
        "## 🎁 Tuple Unpacking in Python\n",
        "\n",
        "**Tuple unpacking** allows you to assign each item of a tuple to a separate variable in a single statement.\n",
        "\n",
        "### ✅ Syntax:\n",
        "```python\n",
        "variable1, variable2, variable3 = tuple_name\n"
      ],
      "metadata": {
        "id": "9SV5bEOBaQc2"
      }
    },
    {
      "cell_type": "code",
      "source": [
        "# Basic Tuple Unpacking\n",
        "person = (\"Alice\", 25, \"Engineer\")\n",
        "name, age, profession = person\n",
        "print(\"Name:\", name)\n",
        "print(\"Age:\", age)\n",
        "print(\"Profession:\", profession)\n",
        "\n",
        "# Swapping variables using tuple unpacking\n",
        "a, b = 10, 20\n",
        "a, b = b, a\n",
        "print(\"Swapped a:\", a)\n",
        "print(\"Swapped b:\", b)\n",
        "\n",
        "# Extended unpacking\n",
        "numbers = (1, 2, 3, 4, 5)\n",
        "first, *middle, last = numbers\n",
        "print(\"First:\", first)\n",
        "print(\"Middle:\", middle)\n",
        "print(\"Last:\", last)\n",
        "\n",
        "# Tuple returned from a function\n",
        "def min_max(numbers):\n",
        "    return min(numbers), max(numbers)\n",
        "\n",
        "low, high = min_max([10, 50, 30])\n",
        "print(\"Min:\", low)\n",
        "print(\"Max:\", high)\n"
      ],
      "metadata": {
        "id": "uTM83ikTaQ9I",
        "outputId": "c8b45103-f088-4c5e-eaa1-fd2687dad4c2",
        "colab": {
          "base_uri": "https://localhost:8080/"
        }
      },
      "execution_count": 6,
      "outputs": [
        {
          "output_type": "stream",
          "name": "stdout",
          "text": [
            "Name: Alice\n",
            "Age: 25\n",
            "Profession: Engineer\n",
            "Swapped a: 20\n",
            "Swapped b: 10\n",
            "First: 1\n",
            "Middle: [2, 3, 4]\n",
            "Last: 5\n",
            "Min: 10\n",
            "Max: 50\n"
          ]
        }
      ]
    },
    {
      "cell_type": "code",
      "source": [],
      "metadata": {
        "id": "0D34LDzsaV8v"
      },
      "execution_count": null,
      "outputs": []
    }
  ]
}