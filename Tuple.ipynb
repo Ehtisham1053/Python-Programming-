{
  "nbformat": 4,
  "nbformat_minor": 0,
  "metadata": {
    "colab": {
      "provenance": [],
      "authorship_tag": "ABX9TyOVY5YR+q9eR95lkLyhFZNk",
      "include_colab_link": true
    },
    "kernelspec": {
      "name": "python3",
      "display_name": "Python 3"
    },
    "language_info": {
      "name": "python"
    }
  },
  "cells": [
    {
      "cell_type": "markdown",
      "metadata": {
        "id": "view-in-github",
        "colab_type": "text"
      },
      "source": [
        "<a href=\"https://colab.research.google.com/github/Ehtisham1053/Python-Programming-/blob/main/Tuple.ipynb\" target=\"_parent\"><img src=\"https://colab.research.google.com/assets/colab-badge.svg\" alt=\"Open In Colab\"/></a>"
      ]
    },
    {
      "cell_type": "markdown",
      "source": [
        "## 🧱 What is a Tuple in Python?\n",
        "\n",
        "A **tuple** is an immutable, ordered collection of elements. This means:\n",
        "- Elements are indexed (starting from 0)\n",
        "- Elements can be of any data type\n",
        "- You cannot change (modify), add, or remove elements after creation\n",
        "\n",
        "Tuples are faster and memory-efficient compared to lists.\n",
        "\n",
        "---\n",
        "\n",
        "## 🛠️ Ways to Create a Tuple\n",
        "\n",
        "### 1. Using Round Brackets `()`\n",
        "```python\n",
        "t1 = (1, 2, 3)\n"
      ],
      "metadata": {
        "id": "v98H88tPUN67"
      }
    },
    {
      "cell_type": "code",
      "execution_count": null,
      "metadata": {
        "colab": {
          "base_uri": "https://localhost:8080/"
        },
        "id": "nN83pdadTmef",
        "outputId": "70835a85-22f5-4bcf-947b-cba1bf59fa9c"
      },
      "outputs": [
        {
          "output_type": "stream",
          "name": "stdout",
          "text": [
            "t1: (1, 2, 3)\n",
            "t2: (4, 5, 6)\n",
            "t3: (7,)\n",
            "t4 (not a tuple): 7 Type: <class 'int'>\n",
            "t5: (8, 9, 10)\n",
            "t6: (1, 2, (3, 4), [5, 6])\n"
          ]
        }
      ],
      "source": [
        "# 1. Using ()\n",
        "t1 = (1, 2, 3)\n",
        "\n",
        "# 2. Without parentheses\n",
        "t2 = 4, 5, 6\n",
        "\n",
        "# 3. Single element tuple\n",
        "t3 = (7,)\n",
        "t4 = (7)  # Not a tuple\n",
        "\n",
        "# 4. Using tuple() constructor\n",
        "t5 = tuple([8, 9, 10])\n",
        "\n",
        "# 5. Nested tuple\n",
        "t6 = (1, 2, (3, 4), [5, 6])\n",
        "\n",
        "# Print all tuples\n",
        "print(\"t1:\", t1)\n",
        "print(\"t2:\", t2)\n",
        "print(\"t3:\", t3)\n",
        "print(\"t4 (not a tuple):\", t4, \"Type:\", type(t4))\n",
        "print(\"t5:\", t5)\n",
        "print(\"t6:\", t6)\n"
      ]
    },
    {
      "cell_type": "code",
      "source": [],
      "metadata": {
        "id": "mTbVH4raUU2o"
      },
      "execution_count": null,
      "outputs": []
    },
    {
      "cell_type": "markdown",
      "source": [
        "## 📌 Characteristics of a Tuple in Python\n",
        "\n",
        "1. **Ordered Collection**  \n",
        "   Tuples maintain the order of elements. Indexing starts from 0.\n",
        "\n",
        "2. **Immutable**  \n",
        "   Once created, the elements of a tuple **cannot be changed**. You cannot add, remove, or modify elements.\n",
        "\n",
        "3. **Allows Duplicates**  \n",
        "   Tuples can contain duplicate values.\n",
        "\n",
        "4. **Heterogeneous**  \n",
        "   Tuples can store elements of **different data types** (integers, strings, lists, etc.).\n",
        "\n",
        "5. **Faster than Lists**  \n",
        "   Because they are immutable, tuples are generally **faster** and more **memory-efficient** than lists.\n",
        "\n",
        "6. **Can Be Nested**  \n",
        "   Tuples can contain other tuples, lists, or any Python objects.\n",
        "\n",
        "7. **Hashable (if elements are immutable)**  \n",
        "   Tuples can be used as keys in dictionaries if all of their elements are hashable (e.g., strings, numbers).\n",
        "\n",
        "8. **Indexing and Slicing Supported**  \n",
        "   You can access elements using indexing and slicing just like in lists.\n",
        "\n",
        "---\n",
        "\n",
        "✅ Tuples are especially useful when you want to ensure that data does not change throughout the program.\n"
      ],
      "metadata": {
        "id": "lcH-jE0IU2_O"
      }
    },
    {
      "cell_type": "code",
      "source": [],
      "metadata": {
        "id": "XWRZDJNQU3uu"
      },
      "execution_count": null,
      "outputs": []
    },
    {
      "cell_type": "markdown",
      "source": [
        "## 🎯 Accessing Tuple Elements in Python\n",
        "\n",
        "You can access elements in a tuple using:\n",
        "\n",
        "### 1. **Indexing**\n",
        "- Access elements using their index (starting from 0)\n",
        "- Negative indexing is also allowed (e.g., -1 refers to the last element)\n",
        "\n",
        "### 2. **Slicing**\n",
        "- Access a range of elements using the syntax: `tuple[start:stop:step]`\n",
        "- It returns a new tuple with the selected elements\n",
        "\n",
        "---\n",
        "\n",
        "## 📌 Examples:\n",
        "\n",
        "```python\n",
        "my_tuple = ('apple', 'banana', 'cherry', 'date', 'elderberry')\n",
        "\n",
        "# Accessing by positive index\n",
        "print(my_tuple[0])      # Output: apple\n",
        "print(my_tuple[2])      # Output: cherry\n",
        "\n",
        "# Accessing by negative index\n",
        "print(my_tuple[-1])     # Output: elderberry\n",
        "print(my_tuple[-3])     # Output: cherry\n",
        "\n",
        "# Slicing the tuple\n",
        "print(my_tuple[1:4])    # Output: ('banana', 'cherry', 'date')\n",
        "print(my_tuple[:3])     # Output: ('apple', 'banana', 'cherry')\n",
        "print(my_tuple[::2])    # Output: ('apple', 'cherry', 'elderberry')\n"
      ],
      "metadata": {
        "id": "rDfWxg8YVR_D"
      }
    },
    {
      "cell_type": "code",
      "source": [],
      "metadata": {
        "id": "uQvwud2VVTM2"
      },
      "execution_count": null,
      "outputs": []
    }
  ]
}