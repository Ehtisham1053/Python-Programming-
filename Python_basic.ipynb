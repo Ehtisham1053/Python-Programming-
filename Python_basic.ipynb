{
  "nbformat": 4,
  "nbformat_minor": 0,
  "metadata": {
    "colab": {
      "provenance": [],
      "authorship_tag": "ABX9TyOlIngTRvJrceyiRSvtysrK",
      "include_colab_link": true
    },
    "kernelspec": {
      "name": "python3",
      "display_name": "Python 3"
    },
    "language_info": {
      "name": "python"
    }
  },
  "cells": [
    {
      "cell_type": "markdown",
      "metadata": {
        "id": "view-in-github",
        "colab_type": "text"
      },
      "source": [
        "<a href=\"https://colab.research.google.com/github/Ehtisham1053/Python-Programming-/blob/main/Python_basic.ipynb\" target=\"_parent\"><img src=\"https://colab.research.google.com/assets/colab-badge.svg\" alt=\"Open In Colab\"/></a>"
      ]
    },
    {
      "cell_type": "markdown",
      "source": [
        "#Python"
      ],
      "metadata": {
        "id": "WYeTOTPWMvOC"
      }
    },
    {
      "cell_type": "markdown",
      "source": [
        "# What is Python?\n",
        "\n",
        "Python is a high-level, interpreted programming language known for its simplicity and readability. It supports multiple programming paradigms, including procedural, object-oriented, and functional programming.\n",
        "\n",
        "Python is widely used for web development, automation, data analysis, artificial intelligence, machine learning, and scientific computing.\n",
        "\n",
        "---\n",
        "\n",
        "# Why Python for Data Science?\n",
        "\n",
        "Python is one of the most popular languages for data science due to its rich ecosystem of libraries and ease of use. Here are some key reasons why Python is preferred for data science:\n",
        "\n",
        "1. **Easy to Learn & Use**: Python has a simple syntax, making it beginner-friendly.\n",
        "2. **Rich Ecosystem**: Libraries like NumPy, pandas, scikit-learn, TensorFlow, and PyTorch make data science tasks easier.\n",
        "3. **Strong Community Support**: A vast community provides continuous improvements, documentation, and troubleshooting.\n",
        "4. **Interoperability**: Python integrates well with other languages such as C, C++, and Java.\n",
        "5. **Visualization Capabilities**: Libraries like Matplotlib and Seaborn allow easy data visualization.\n",
        "6. **Scalability**: Python is used in both small projects and large-scale enterprise applications.\n",
        "7. **Automation & Scripting**: Python can automate repetitive tasks in data processing and analysis.\n",
        "\n",
        "---\n",
        "\n",
        "# Advantages of Python\n",
        "\n",
        "- **Simple and Readable**: Python’s syntax is clean and easy to understand.\n",
        "- **Extensive Libraries**: Pre-built libraries reduce development time.\n",
        "- **Cross-Platform Compatibility**: Works on Windows, Mac, and Linux.\n",
        "- **Large Community**: Millions of developers contribute to its growth.\n",
        "- **Versatile**: Supports multiple domains such as web development, AI, and automation.\n",
        "\n",
        "---\n",
        "\n",
        "# Disadvantages of Python\n",
        "\n",
        "- **Slower Execution**: Since Python is an interpreted language, it is slower than compiled languages like C++.\n",
        "- **High Memory Usage**: Python consumes more memory compared to low-level languages.\n",
        "- **Not Ideal for Mobile Development**: While Python is great for backend development, it is less common in mobile app development.\n",
        "- **GIL (Global Interpreter Lock)**: Limits true parallel execution of threads, affecting multi-threaded applications.\n",
        "\n",
        "---\n",
        "\n",
        "# Conclusion\n",
        "\n",
        "Python is a powerful and versatile language, making it an excellent choice for data science. Despite some performance limitations, its simplicity, extensive libraries, and strong community support make it the go-to language for data professionals.\n"
      ],
      "metadata": {
        "id": "Fug_jihnM2HD"
      }
    },
    {
      "cell_type": "markdown",
      "source": [
        "# Print Statement"
      ],
      "metadata": {
        "id": "qlvXE11JOVcV"
      }
    },
    {
      "cell_type": "markdown",
      "source": [
        "# The print() Statement in Python\n",
        "\n",
        "The `print()` function is used to display output in Python. It has the following syntax:\n",
        "\n",
        "```python\n",
        "print(*objects, sep=' ', end='\\n', file=sys.stdout, flush=False)\n",
        "\n",
        "\n",
        "\n",
        "\n"
      ],
      "metadata": {
        "id": "VjIDhNNsOYks"
      }
    },
    {
      "cell_type": "markdown",
      "source": [
        "Parameters:\n",
        "1. objects: The values to be printed. Multiple values can be separated by commas.\n",
        "\n",
        "2. sep (optional): Defines the separator between multiple objects. Default is a space ' '.\n",
        "\n",
        "3. end (optional): Defines what to print at the end. Default is a newline '\\n'.\n",
        "\n",
        "4. file (optional): Specifies the output stream. Default is sys.stdout (console).\n",
        "\n",
        "5. flush (optional): If True, forces the output to be written immediately.\n",
        "\n"
      ],
      "metadata": {
        "id": "n9v48CcvOayc"
      }
    },
    {
      "cell_type": "code",
      "execution_count": null,
      "metadata": {
        "colab": {
          "base_uri": "https://localhost:8080/"
        },
        "id": "Omzt4P3b97Bx",
        "outputId": "a91310a6-c17b-42e0-8efb-1a782aa51e78"
      },
      "outputs": [
        {
          "output_type": "stream",
          "name": "stdout",
          "text": [
            "Alice | 25 | New York !!!\n"
          ]
        }
      ],
      "source": [
        "import sys\n",
        "\n",
        "name = \"Alice\"\n",
        "age = 25\n",
        "city = \"New York\"\n",
        "print(name, age, city, sep=\" | \", end=\" !!!\\n\", file=sys.stdout, flush=True)\n"
      ]
    },
    {
      "cell_type": "markdown",
      "source": [
        "* sep=\" | \" → Separates values with \" | \" instead of the default space.\n",
        "\n",
        "* end=\" !!!\\n\" → Ends the output with \" !!!\" instead of a new line.\n",
        "\n",
        "* file=sys.stdout → Prints to the standard output (console).\n",
        "\n",
        "* flush=True → Forces immediate output."
      ],
      "metadata": {
        "id": "2WsKcJt9Oo4V"
      }
    },
    {
      "cell_type": "code",
      "source": [],
      "metadata": {
        "id": "HdqTvh4pOkw6"
      },
      "execution_count": null,
      "outputs": []
    },
    {
      "cell_type": "markdown",
      "source": [
        "# Data Types"
      ],
      "metadata": {
        "id": "3z6IJZn3Qf8e"
      }
    },
    {
      "cell_type": "markdown",
      "source": [
        "# Python Data Types\n",
        "\n",
        "Python has several built-in data types, categorized as follows:\n",
        "\n",
        "---\n",
        "\n",
        "## 1. Numeric Types\n",
        "- **int** (Integer)\n",
        "- **float** (Floating-Point)\n",
        "- **complex** (Complex Number)\n",
        "\n",
        "---\n",
        "\n",
        "## 2. Sequence Types\n",
        "- **list** (Ordered, Mutable Collection)\n",
        "- **tuple** (Ordered, Immutable Collection)\n",
        "- **range** (Sequence of Numbers)\n",
        "\n",
        "---\n",
        "\n",
        "## 3. String Type\n",
        "- **str** (Textual Data)\n",
        "\n",
        "---\n",
        "\n",
        "## 4. Set Types\n",
        "- **set** (Unordered, Unique Elements)\n",
        "- **frozenset** (Immutable Set)\n",
        "\n",
        "---\n",
        "\n",
        "## 5. Mapping Type\n",
        "- **dict** (Key-Value Pairs)\n",
        "\n",
        "---\n",
        "\n",
        "## 6. Boolean Type\n",
        "- **bool** (True or False)\n",
        "\n",
        "---\n",
        "\n",
        "## 7. Binary Types\n",
        "- **bytes** (Immutable Byte Sequence)\n",
        "- **bytearray** (Mutable Byte Sequence)\n",
        "- **memoryview** (Binary Memory View)\n",
        "\n",
        "---\n",
        "\n",
        "## 8. None Type\n",
        "- **NoneType** (Represents No Value)\n"
      ],
      "metadata": {
        "id": "ag8eJckDQhul"
      }
    },
    {
      "cell_type": "code",
      "source": [
        "# 1. Numeric Types\n",
        "x = 10  # int: Integer data type, stores whole numbers\n",
        "y = 3.14  # float: Floating-point number, stores decimal values\n",
        "z = 2 + 3j  # complex: Stores real and imaginary parts\n",
        "print(\"---------------------------------integer Types----------------------\")\n",
        "\n",
        "print(\"Integer:\", x , type(x))\n",
        "print(\"Float:\", y , type(y))\n",
        "print(\"Complex:\", z , type(z))\n",
        "\n",
        "\n",
        "# 2. Sequence Types\n",
        "print(\"---------------------------------Sequence Types-----------------------\")\n",
        "my_list = [1, 2, 3, \"apple\"]  # list: Ordered, mutable collection\n",
        "my_tuple = (10, 20, 30)  # tuple: Ordered, immutable collection\n",
        "my_range = range(5)  # range: Generates numbers from 0 to 4\n",
        "\n",
        "print(\"List:\", my_list , type(my_list))\n",
        "print(\"Tuple:\", my_tuple , type(my_tuple))\n",
        "print(\"Range:\", list(my_range))  # Convert range to list for display\n",
        "\n",
        "# 3. String Type\n",
        "print(\"---------------------------------String Type----------------------\")\n",
        "text = \"Python is powerful!\"  # str: Represents text\n",
        "print(\"String:\", text , type(text))\n",
        "\n",
        "print(\"---------------------------------Set Types----------------------\")\n",
        "# 4. Set Types\n",
        "my_set = {1, 2, 3, 4}  # set: Unordered collection of unique elements\n",
        "my_frozenset = frozenset([5, 6, 7])  # frozenset: Immutable version of set\n",
        "\n",
        "print(\"Set:\", my_set , type(my_set))\n",
        "print(\"Frozenset:\", my_frozenset , type(my_frozenset))\n",
        "\n",
        "# 5. Mapping Type\n",
        "print(\"---------------------------------Mapping Types----------------------\")\n",
        "dictionary = {\"name\": \"Alice\", \"age\": 25, \"city\": \"New York\"}  # dict: Key-value pairs\n",
        "print(\"Dictionary:\", dictionary, type(dictionary))\n",
        "\n",
        "# 6. Boolean Type\n",
        "print(\"---------------------------------Boolean Types----------------------\")\n",
        "is_python_fun = True  # bool: Represents True or False\n",
        "is_raining = False\n",
        "\n",
        "print(\"Boolean Values:\", is_python_fun, is_raining , type(is_python_fun), type(is_raining))\n",
        "\n",
        "\n",
        "# 7. Binary Types\n",
        "print(\"---------------------------------Binary Types----------------------\")\n",
        "byte_data = b\"Hello\"  # bytes: Immutable sequence of bytes\n",
        "byte_arr = bytearray([65, 66, 67])  # bytearray: Mutable sequence of bytes\n",
        "memory = memoryview(byte_arr)  # memoryview: Provides a view of binary memory\n",
        "\n",
        "print(\"Bytes:\", byte_data , type(byte_data))\n",
        "print(\"Bytearray:\", byte_arr , type(byte_arr))\n",
        "print(\"Memoryview:\", memory.tolist())  # Convert memoryview to list\n",
        "\n",
        "# 8. None Type\n",
        "print(\"---------------------------------None Types----------------------\")\n",
        "nothing = None  # NoneType: Represents the absence of a value\n",
        "print(\"None Type:\", nothing , type(nothing))\n",
        "\n",
        "\n",
        "print(\"---------------------------------string----------------------\")\n",
        "str = \"my name is Ehtisham\"\n",
        "print(str  , type(str))"
      ],
      "metadata": {
        "colab": {
          "base_uri": "https://localhost:8080/"
        },
        "id": "ytur4vzDQhJX",
        "outputId": "779e42a7-0540-49b5-9bba-227e8e4f195b"
      },
      "execution_count": null,
      "outputs": [
        {
          "output_type": "stream",
          "name": "stdout",
          "text": [
            "---------------------------------integer Types----------------------\n",
            "Integer: 10 <class 'int'>\n",
            "Float: 3.14 <class 'float'>\n",
            "Complex: (2+3j) <class 'complex'>\n",
            "---------------------------------Sequence Types-----------------------\n",
            "List: [1, 2, 3, 'apple'] <class 'list'>\n",
            "Tuple: (10, 20, 30) <class 'tuple'>\n",
            "Range: [0, 1, 2, 3, 4]\n",
            "---------------------------------String Type----------------------\n",
            "String: Python is powerful! <class 'str'>\n",
            "---------------------------------Set Types----------------------\n",
            "Set: {1, 2, 3, 4} <class 'set'>\n",
            "Frozenset: frozenset({5, 6, 7}) <class 'frozenset'>\n",
            "---------------------------------Mapping Types----------------------\n",
            "Dictionary: {'name': 'Alice', 'age': 25, 'city': 'New York'} <class 'dict'>\n",
            "---------------------------------Boolean Types----------------------\n",
            "Boolean Values: True False <class 'bool'> <class 'bool'>\n",
            "---------------------------------Binary Types----------------------\n",
            "Bytes: b'Hello' <class 'bytes'>\n",
            "Bytearray: bytearray(b'ABC') <class 'bytearray'>\n",
            "Memoryview: [65, 66, 67]\n",
            "---------------------------------None Types----------------------\n",
            "None Type: None <class 'NoneType'>\n",
            "---------------------------------string----------------------\n",
            "my name is Ehtisham <class 'str'>\n"
          ]
        }
      ]
    },
    {
      "cell_type": "code",
      "source": [],
      "metadata": {
        "id": "bEiHVFJvRB0H"
      },
      "execution_count": null,
      "outputs": []
    },
    {
      "cell_type": "markdown",
      "source": [
        "# Compile VS interpretation"
      ],
      "metadata": {
        "id": "Ng6Yn2QgVwve"
      }
    },
    {
      "cell_type": "markdown",
      "source": [
        "# Difference Between Compilation and Interpretation\n",
        "\n",
        "In programming, two main methods are used to execute code: **Compilation** and **Interpretation**. Below is a comparison of both:\n",
        "\n",
        "---\n",
        "\n",
        "## 1. Compilation  \n",
        "- The entire source code is translated into machine code before execution.  \n",
        "- The compiled code runs faster since it's already converted into machine instructions.  \n",
        "- Errors are detected at compile time before execution.  \n",
        "- Requires a separate compilation step before running the program.  \n",
        "- Example Languages: **C, C++, Java (compiled to bytecode)**  \n",
        "\n",
        "**Example:**  \n",
        "```c\n",
        "// C Program (compiled before execution)\n",
        "#include <stdio.h>\n",
        "int main() {\n",
        "    printf(\"Hello, World!\");\n",
        "    return 0;\n",
        "}\n"
      ],
      "metadata": {
        "id": "6oAPACarVzZb"
      }
    },
    {
      "cell_type": "markdown",
      "source": [
        "# Interpretation in Programming\n",
        "\n",
        "Interpretation is a method of executing a program where the source code is **translated line by line** into machine code at runtime.\n",
        "\n",
        "---\n",
        "\n",
        "## 1. How Interpretation Works?\n",
        "- The interpreter reads the source code **line by line**.\n",
        "- It converts each line into machine code and executes it immediately.\n",
        "- If an error occurs, the execution **stops at that line** and shows an error message.\n",
        "\n",
        "---\n",
        "\n",
        "## 2. Key Features of Interpretation:\n",
        "- **No separate compilation** step; the code runs directly.\n",
        "- **Slower execution** because the code is translated while running.\n",
        "- **More flexible** since it allows immediate execution and testing.\n",
        "- **Common in scripting languages** like Python, JavaScript, and Ruby.\n",
        "\n",
        "---\n",
        "\n",
        "## 3. Example of Interpreted Languages\n",
        "\n",
        "### **Python (Interpreted Language)**\n",
        "```python\n",
        "print(\"Hello, World!\")  # Directly executed by the Python interpreter\n"
      ],
      "metadata": {
        "id": "VWubiqoWWBzd"
      }
    },
    {
      "cell_type": "markdown",
      "source": [
        "# Difference Between Compilation and Interpretation\n",
        "\n",
        "| Feature             | Compilation                          | Interpretation                      |\n",
        "|---------------------|------------------------------------|-----------------------------------|\n",
        "| **Execution Process** | Translates the entire code before running | Translates and runs line by line |\n",
        "| **Execution Speed**  | Faster (precompiled)              | Slower (due to real-time translation) |\n",
        "| **Error Detection**  | Detects all errors before execution | Stops at the first error during execution |\n",
        "| **Compilation Step** | Requires a separate compilation step | No separate compilation required |\n",
        "| **Dependency**      | Needs a compiler                   | Needs an interpreter |\n",
        "| **Flexibility**     | Less flexible (must recompile after changes) | More flexible (instant execution) |\n",
        "| **Examples**        | C, C++, Java (compiled to bytecode) | Python, JavaScript, PHP |\n",
        "| **Output Generation** | Creates an independent executable file | Does not create an independent file |\n",
        "\n",
        "---\n",
        "\n",
        "# Summary\n",
        "- **Compiled languages** are **faster** but require a **compilation step**.\n",
        "- **Interpreted languages** are **more flexible** but run **slower**.\n",
        "- Some languages like **Java** use both compilation and interpretation.\n"
      ],
      "metadata": {
        "id": "8Mq2ts8uWSrc"
      }
    },
    {
      "cell_type": "code",
      "source": [],
      "metadata": {
        "id": "37CqyE-dVzBf"
      },
      "execution_count": null,
      "outputs": []
    }
  ]
}