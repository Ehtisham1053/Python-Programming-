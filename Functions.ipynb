{
  "nbformat": 4,
  "nbformat_minor": 0,
  "metadata": {
    "colab": {
      "provenance": [],
      "authorship_tag": "ABX9TyPQUdXFqg+ZfunS+Agmsizt",
      "include_colab_link": true
    },
    "kernelspec": {
      "name": "python3",
      "display_name": "Python 3"
    },
    "language_info": {
      "name": "python"
    }
  },
  "cells": [
    {
      "cell_type": "markdown",
      "metadata": {
        "id": "view-in-github",
        "colab_type": "text"
      },
      "source": [
        "<a href=\"https://colab.research.google.com/github/Ehtisham1053/Python-Programming-/blob/main/Functions.ipynb\" target=\"_parent\"><img src=\"https://colab.research.google.com/assets/colab-badge.svg\" alt=\"Open In Colab\"/></a>"
      ]
    },
    {
      "cell_type": "markdown",
      "source": [
        "# 🧠 Functions in Python\n",
        "\n",
        "A **function** is a block of reusable code that performs a specific task. Functions help reduce repetition, increase modularity, and make code easier to manage.\n",
        "\n",
        "---\n",
        "\n",
        "## ✅ Why Use Functions?\n",
        "\n",
        "- 📦 Code reusability\n",
        "- 🔍 Easier debugging and testing\n",
        "- 🧩 Modularity\n",
        "- 📖 Better readability\n",
        "\n",
        "---\n",
        "\n",
        "## 🛠️ Types of Functions\n",
        "\n",
        "1. **Built-in Functions**  \n",
        "   - Predefined by Python (e.g., `print()`, `len()`, `type()`, `sum()`, etc.)\n",
        "\n",
        "2. **User-defined Functions**  \n",
        "   - Defined by the user using the `def` keyword.\n",
        "\n",
        "3. **Lambda (Anonymous) Functions**  \n",
        "   - One-liner unnamed functions using `lambda`.\n",
        "\n",
        "---\n",
        "\n",
        "## 🧱 Structure of a Function\n",
        "\n",
        "- `def`: Keyword to define a function.\n",
        "- Function name: Should follow naming rules.\n",
        "- Parameters (optional): Inputs to the function.\n",
        "- Docstring (optional): String describing what the function does.\n",
        "- Function body: Code to execute.\n",
        "- `return` (optional): Outputs result to caller.\n",
        "\n",
        "---\n",
        "\n",
        "## 🧾 Key Function Concepts\n",
        "\n",
        "| Concept              | Description |\n",
        "|----------------------|-------------|\n",
        "| Function Definition  | `def` keyword to define |\n",
        "| Function Call        | Invoke using `function_name()` |\n",
        "| Parameters           | Placeholder variables in definition |\n",
        "| Arguments            | Actual values passed to function |\n",
        "| Return Statement     | Send result back |\n",
        "| Docstring            | Document the purpose of function |\n",
        "| Scope                | Variable visibility and lifetime |\n",
        "| Default Arguments    | Provide default value to a parameter |\n",
        "| Keyword Arguments    | Call function using parameter names |\n",
        "| Variable Arguments   | Use `*args` and `**kwargs` for flexibility |\n",
        "\n",
        "---\n",
        "\n",
        "## 🔄 Types of Arguments\n",
        "\n",
        "### 1. Positional Arguments\n",
        "- Passed in the order they are defined.\n",
        "\n",
        "### 2. Keyword Arguments\n",
        "- Specified by parameter name.\n",
        "\n",
        "### 3. Default Arguments\n",
        "- Arguments with a default value.\n",
        "\n",
        "### 4. Variable-length Arguments\n",
        "- `*args`: Multiple non-keyword arguments.\n",
        "- `**kwargs`: Multiple keyword arguments.\n",
        "\n",
        "---\n",
        "\n",
        "## 🧠 Scope and Lifetime of Variables\n",
        "\n",
        "- **Local Scope**: Inside the function only.\n",
        "- **Global Scope**: Accessible throughout the program.\n",
        "- **LEGB Rule**: Local → Enclosing → Global → Built-in\n",
        "\n",
        "---\n",
        "\n",
        "## ⚡ Lambda (Anonymous) Functions\n",
        "\n",
        "- Defined using `lambda`.\n",
        "- No `def` or name required.\n",
        "- Single-expression only.\n",
        "- Often used with functions like `map()`, `filter()`, `reduce()`.\n",
        "\n",
        "---\n",
        "\n",
        "Let me know when you want the full code examples for each type and concept!\n"
      ],
      "metadata": {
        "id": "_Dd0HOB31gX4"
      }
    },
    {
      "cell_type": "code",
      "execution_count": null,
      "metadata": {
        "id": "4-UvSNXgtpLk"
      },
      "outputs": [],
      "source": []
    },
    {
      "cell_type": "markdown",
      "source": [
        "# ✅ 1. Basic Function (No Arguments, No Return)"
      ],
      "metadata": {
        "id": "6KLcGfYE1zlJ"
      }
    },
    {
      "cell_type": "code",
      "source": [
        "def greet():\n",
        "    print(\"Hello, welcome to Python functions!\")\n",
        "\n",
        "greet()\n"
      ],
      "metadata": {
        "colab": {
          "base_uri": "https://localhost:8080/"
        },
        "id": "W93Q3hYu10O0",
        "outputId": "5dbc162a-1595-4cbc-f503-d34a1db5ba13"
      },
      "execution_count": null,
      "outputs": [
        {
          "output_type": "stream",
          "name": "stdout",
          "text": [
            "Hello, welcome to Python functions!\n"
          ]
        }
      ]
    },
    {
      "cell_type": "code",
      "source": [],
      "metadata": {
        "id": "8Ngcufda13Ix"
      },
      "execution_count": null,
      "outputs": []
    },
    {
      "cell_type": "markdown",
      "source": [
        "#✅ 2. Function with Arguments (No Return)"
      ],
      "metadata": {
        "id": "JfTq8EEn2FfW"
      }
    },
    {
      "cell_type": "code",
      "source": [
        "def greet_user(name):\n",
        "    print(f\"Hello, {name}!\")\n",
        "\n",
        "\n",
        "greet_user(\"Ehtisham\")\n"
      ],
      "metadata": {
        "colab": {
          "base_uri": "https://localhost:8080/"
        },
        "id": "mFisbTE62GBd",
        "outputId": "3d4aeb24-db38-4ed6-bccf-b2e88b7fe9be"
      },
      "execution_count": 1,
      "outputs": [
        {
          "output_type": "stream",
          "name": "stdout",
          "text": [
            "Hello, Ehtisham!\n"
          ]
        }
      ]
    },
    {
      "cell_type": "code",
      "source": [],
      "metadata": {
        "id": "yt_jUcxS2Jhf"
      },
      "execution_count": null,
      "outputs": []
    },
    {
      "cell_type": "markdown",
      "source": [
        "# ✅ 3. Function with Return Statement"
      ],
      "metadata": {
        "id": "djtk4dSf2OhF"
      }
    },
    {
      "cell_type": "code",
      "source": [
        "def add(a, b):\n",
        "    return a + b\n",
        "\n",
        "result = add(5, 3)\n",
        "print(\"Sum:\", result)\n"
      ],
      "metadata": {
        "colab": {
          "base_uri": "https://localhost:8080/"
        },
        "id": "O_dfJaIh2PE8",
        "outputId": "00b98dd4-d098-4457-964a-99de14e803f1"
      },
      "execution_count": 2,
      "outputs": [
        {
          "output_type": "stream",
          "name": "stdout",
          "text": [
            "Sum: 8\n"
          ]
        }
      ]
    },
    {
      "cell_type": "code",
      "source": [],
      "metadata": {
        "colab": {
          "base_uri": "https://localhost:8080/"
        },
        "id": "IdwKJzU123vo",
        "outputId": "6b96dce6-97e5-490a-f69d-2b36bd7e54bf"
      },
      "execution_count": 6,
      "outputs": [
        {
          "output_type": "execute_result",
          "data": {
            "text/plain": [
              "int"
            ]
          },
          "metadata": {},
          "execution_count": 6
        }
      ]
    },
    {
      "cell_type": "code",
      "source": [
        "def add(a,b):\n",
        "  if type(a) == int and type(b) == int:\n",
        "    return a+b\n",
        "  else:\n",
        "    return \"Enter the integer only\"\n",
        "\n",
        "\n",
        "print(add(3,4))\n",
        "print(add(\"ehtisham\" , 3))"
      ],
      "metadata": {
        "colab": {
          "base_uri": "https://localhost:8080/"
        },
        "id": "YLQD-VtM2RkW",
        "outputId": "df0bb96f-755a-4751-fb21-73cbc7698e0e"
      },
      "execution_count": 9,
      "outputs": [
        {
          "output_type": "stream",
          "name": "stdout",
          "text": [
            "7\n",
            "Enter the integer only\n"
          ]
        }
      ]
    },
    {
      "cell_type": "code",
      "source": [],
      "metadata": {
        "id": "QyhCqZWq2n4Q"
      },
      "execution_count": null,
      "outputs": []
    },
    {
      "cell_type": "markdown",
      "source": [
        "# ✅ 4. Function with Default Argument"
      ],
      "metadata": {
        "id": "ujwFcFhr3gho"
      }
    },
    {
      "cell_type": "code",
      "source": [
        "def greet(name=\"Ehtisham\"):\n",
        "    print(f\"Hello, {name}!\")\n",
        "\n",
        "greet()\n",
        "greet(\"Aisha\")\n"
      ],
      "metadata": {
        "colab": {
          "base_uri": "https://localhost:8080/"
        },
        "id": "iqeCzlIe3fk-",
        "outputId": "00aafa49-def0-4a6a-e3fc-4a77af515d65"
      },
      "execution_count": 10,
      "outputs": [
        {
          "output_type": "stream",
          "name": "stdout",
          "text": [
            "Hello, Ehtisham!\n",
            "Hello, Aisha!\n"
          ]
        }
      ]
    },
    {
      "cell_type": "code",
      "source": [],
      "metadata": {
        "id": "_JflTstd3lnW"
      },
      "execution_count": null,
      "outputs": []
    },
    {
      "cell_type": "markdown",
      "source": [
        "# ✅ 5. Function with Keyword Arguments"
      ],
      "metadata": {
        "id": "0ZjaQlLT3n_u"
      }
    },
    {
      "cell_type": "code",
      "source": [
        "def student_info(name, age):\n",
        "    print(f\"Name: {name}, Age: {age}\")\n",
        "\n",
        "student_info(age=20, name=\"Ali\")\n"
      ],
      "metadata": {
        "colab": {
          "base_uri": "https://localhost:8080/"
        },
        "id": "MMGbVf9e3obt",
        "outputId": "30c4d611-8ac8-465f-84a1-106ea69bdae4"
      },
      "execution_count": 11,
      "outputs": [
        {
          "output_type": "stream",
          "name": "stdout",
          "text": [
            "Name: Ali, Age: 20\n"
          ]
        }
      ]
    },
    {
      "cell_type": "code",
      "source": [],
      "metadata": {
        "id": "eE3u9Vfb3qdW"
      },
      "execution_count": null,
      "outputs": []
    },
    {
      "cell_type": "markdown",
      "source": [
        "# ✅ 6. Function with Positional and Keyword Arguments"
      ],
      "metadata": {
        "id": "TvCHjKDv3tLu"
      }
    },
    {
      "cell_type": "code",
      "source": [
        "def employee_details(name, salary=50000):\n",
        "    print(f\"Employee: {name}, Salary: {salary}\")\n",
        "\n",
        "employee_details(\"Ehtisham\")\n",
        "employee_details(\"Ehti\", 70000)\n"
      ],
      "metadata": {
        "colab": {
          "base_uri": "https://localhost:8080/"
        },
        "id": "BWKN_QW93trW",
        "outputId": "b0353aec-669f-4cfb-bc00-9647f3947b9e"
      },
      "execution_count": 13,
      "outputs": [
        {
          "output_type": "stream",
          "name": "stdout",
          "text": [
            "Employee: Ehtisham, Salary: 50000\n",
            "Employee: Ehti, Salary: 70000\n"
          ]
        }
      ]
    },
    {
      "cell_type": "code",
      "source": [],
      "metadata": {
        "id": "7hU3063n3vHW"
      },
      "execution_count": null,
      "outputs": []
    },
    {
      "cell_type": "markdown",
      "source": [
        "#✅ 8. Function with Variable-length Keyword Arguments (**kwargs)"
      ],
      "metadata": {
        "id": "CX456Z2A38te"
      }
    },
    {
      "cell_type": "code",
      "source": [
        "def print_info(**info):\n",
        "    for key, value in info.items():\n",
        "        print(f\"{key} : {value}\")\n",
        "\n",
        "print_info(name=\"Ali\", age=25, country=\"Pakistan\")\n"
      ],
      "metadata": {
        "id": "_jT9lESh39Qd",
        "outputId": "57f77d27-1426-498e-d072-56b1a51751b2",
        "colab": {
          "base_uri": "https://localhost:8080/"
        }
      },
      "execution_count": 14,
      "outputs": [
        {
          "output_type": "stream",
          "name": "stdout",
          "text": [
            "name : Ali\n",
            "age : 25\n",
            "country : Pakistan\n"
          ]
        }
      ]
    },
    {
      "cell_type": "code",
      "source": [],
      "metadata": {
        "id": "f12_1hZR3_PG"
      },
      "execution_count": null,
      "outputs": []
    },
    {
      "cell_type": "markdown",
      "source": [
        "# ✅ 9. Function with Docstring"
      ],
      "metadata": {
        "id": "rR0irymt4FeP"
      }
    },
    {
      "cell_type": "code",
      "source": [
        "def multiply(x, y):\n",
        "    \"\"\"\n",
        "    This function multiplies two numbers and returns the result.\n",
        "    \"\"\"\n",
        "    return x * y\n",
        "\n",
        "print(multiply(4, 5))\n",
        "print(multiply.__doc__)\n"
      ],
      "metadata": {
        "id": "tnh_kg1k4Ggu",
        "outputId": "03300c00-1a47-4784-a321-1cbe586445f6",
        "colab": {
          "base_uri": "https://localhost:8080/"
        }
      },
      "execution_count": 15,
      "outputs": [
        {
          "output_type": "stream",
          "name": "stdout",
          "text": [
            "20\n",
            "\n",
            "    This function multiplies two numbers and returns the result.\n",
            "    \n"
          ]
        }
      ]
    },
    {
      "cell_type": "code",
      "source": [],
      "metadata": {
        "id": "zmOKEYgf4H12"
      },
      "execution_count": null,
      "outputs": []
    },
    {
      "cell_type": "markdown",
      "source": [
        "# ✅ 10. Nested Function (Function inside a function)"
      ],
      "metadata": {
        "id": "_9YKxl1X4Ks-"
      }
    },
    {
      "cell_type": "code",
      "source": [
        "def outer_function():\n",
        "    print(\"Outer Function\")\n",
        "\n",
        "    def inner_function():\n",
        "        print(\"Inner Function\")\n",
        "\n",
        "    inner_function()\n",
        "\n",
        "outer_function()\n"
      ],
      "metadata": {
        "id": "qP_U-AuD4Kfe",
        "outputId": "df5fae02-c68b-4053-bc36-18ef2ed062a9",
        "colab": {
          "base_uri": "https://localhost:8080/"
        }
      },
      "execution_count": 16,
      "outputs": [
        {
          "output_type": "stream",
          "name": "stdout",
          "text": [
            "Outer Function\n",
            "Inner Function\n"
          ]
        }
      ]
    },
    {
      "cell_type": "code",
      "source": [],
      "metadata": {
        "id": "8CXZbaWb4N9O"
      },
      "execution_count": null,
      "outputs": []
    },
    {
      "cell_type": "markdown",
      "source": [
        "# Print vs Return statement in python"
      ],
      "metadata": {
        "id": "1rKvpOsl4vVG"
      }
    },
    {
      "cell_type": "markdown",
      "source": [
        "# 🧾 Difference Between `print` and `return` in Python\n",
        "\n",
        "In Python, `print` and `return` are two commonly used statements in functions, but they serve very different purposes.\n",
        "\n",
        "---\n",
        "\n",
        "## 🖨️ `print` Statement\n",
        "\n",
        "- The `print()` function is used to **display** information/output to the console.\n",
        "- It is generally used for **debugging** or **user-facing messages**.\n",
        "- It **does not return any value**; the return type is `None`.\n",
        "\n",
        "---\n",
        "\n",
        "## 🔁 `return` Statement\n",
        "\n",
        "- The `return` statement is used to **send a value back** to the caller from a function.\n",
        "- It is used in **calculations, logic, or to pass results** from functions.\n",
        "- The function **stops executing** as soon as it hits a `return` statement.\n",
        "\n",
        "---\n",
        "\n",
        "## 📊 Tabular Comparison\n",
        "\n",
        "| Feature               | `print`                                      | `return`                                         |\n",
        "|-----------------------|----------------------------------------------|--------------------------------------------------|\n",
        "| Purpose               | Displays output to the console               | Sends a result back to the caller                |\n",
        "| Use Case              | For user-facing output/debugging             | For computation, storing, or further processing  |\n",
        "| Output Location       | Visible on screen only                       | Value can be stored in a variable                |\n",
        "| Return Value          | Always returns `None`                        | Returns the specified value                      |\n",
        "| Use in Function       | Does not affect function result              | Ends the function and returns value              |\n",
        "| Can be Chained        | ❌ No                                          | ✅ Yes                                             |\n",
        "\n",
        "---\n",
        "\n",
        "## ✅ Example\n",
        "\n",
        "The following functions show the use of both `print` and `return`:\n",
        "\n",
        "\n"
      ],
      "metadata": {
        "id": "QE-LgHC941Tu"
      }
    },
    {
      "cell_type": "code",
      "source": [
        "\n",
        "# Function using print\n",
        "def print_sum(a, b):\n",
        "    print(\"Sum (using print):\", a + b)\n",
        "\n",
        "# Function using return\n",
        "def return_sum(a, b):\n",
        "    return a + b\n",
        "\n",
        "# Using both functions\n",
        "print_sum(5, 3)   # Output shown directly\n",
        "result = return_sum(5, 3)   # Output stored in variable\n",
        "print(\"Returned Result:\", result)"
      ],
      "metadata": {
        "id": "fcvhXjM140fl",
        "outputId": "be7ede36-5fd1-4ccb-fced-16e1ea95d760",
        "colab": {
          "base_uri": "https://localhost:8080/"
        }
      },
      "execution_count": 17,
      "outputs": [
        {
          "output_type": "stream",
          "name": "stdout",
          "text": [
            "Sum (using print): 8\n",
            "Returned Result: 8\n"
          ]
        }
      ]
    },
    {
      "cell_type": "code",
      "source": [],
      "metadata": {
        "id": "xY0qoZom5DSG"
      },
      "execution_count": null,
      "outputs": []
    },
    {
      "cell_type": "markdown",
      "source": [
        "## ❌ print() cannot be chained"
      ],
      "metadata": {
        "id": "F8NsohkH5OyO"
      }
    },
    {
      "cell_type": "code",
      "source": [
        "def print_sum(a, b):\n",
        "    print(a + b)\n",
        "\n",
        "result = print_sum(3, 5)  # This prints 8 but returns None\n",
        "print(result + 10)        # ❌ Error: you can't add None to a number\n"
      ],
      "metadata": {
        "id": "UDT4r6N75P1t",
        "outputId": "041b983b-8825-43e5-e772-024dbdfe22f7",
        "colab": {
          "base_uri": "https://localhost:8080/",
          "height": 193
        }
      },
      "execution_count": 18,
      "outputs": [
        {
          "output_type": "stream",
          "name": "stdout",
          "text": [
            "8\n"
          ]
        },
        {
          "output_type": "error",
          "ename": "TypeError",
          "evalue": "unsupported operand type(s) for +: 'NoneType' and 'int'",
          "traceback": [
            "\u001b[0;31m---------------------------------------------------------------------------\u001b[0m",
            "\u001b[0;31mTypeError\u001b[0m                                 Traceback (most recent call last)",
            "\u001b[0;32m<ipython-input-18-a9fa823795ab>\u001b[0m in \u001b[0;36m<cell line: 0>\u001b[0;34m()\u001b[0m\n\u001b[1;32m      3\u001b[0m \u001b[0;34m\u001b[0m\u001b[0m\n\u001b[1;32m      4\u001b[0m \u001b[0mresult\u001b[0m \u001b[0;34m=\u001b[0m \u001b[0mprint_sum\u001b[0m\u001b[0;34m(\u001b[0m\u001b[0;36m3\u001b[0m\u001b[0;34m,\u001b[0m \u001b[0;36m5\u001b[0m\u001b[0;34m)\u001b[0m  \u001b[0;31m# This prints 8 but returns None\u001b[0m\u001b[0;34m\u001b[0m\u001b[0;34m\u001b[0m\u001b[0m\n\u001b[0;32m----> 5\u001b[0;31m \u001b[0mprint\u001b[0m\u001b[0;34m(\u001b[0m\u001b[0mresult\u001b[0m \u001b[0;34m+\u001b[0m \u001b[0;36m10\u001b[0m\u001b[0;34m)\u001b[0m        \u001b[0;31m# ❌ Error: you can't add None to a number\u001b[0m\u001b[0;34m\u001b[0m\u001b[0;34m\u001b[0m\u001b[0m\n\u001b[0m",
            "\u001b[0;31mTypeError\u001b[0m: unsupported operand type(s) for +: 'NoneType' and 'int'"
          ]
        }
      ]
    },
    {
      "cell_type": "code",
      "source": [],
      "metadata": {
        "id": "S7ahCOKU5RSO"
      },
      "execution_count": null,
      "outputs": []
    },
    {
      "cell_type": "markdown",
      "source": [
        "## ✅ return can be chained"
      ],
      "metadata": {
        "id": "v1S9A3KY5X73"
      }
    },
    {
      "cell_type": "code",
      "source": [
        "def return_sum(a, b):\n",
        "    return a + b\n",
        "\n",
        "result = return_sum(3, 5)\n",
        "print(result + 10)\n"
      ],
      "metadata": {
        "id": "VJNwPLfE5Y1N",
        "outputId": "06584a62-54c2-4946-d742-d01b70c1c4a2",
        "colab": {
          "base_uri": "https://localhost:8080/"
        }
      },
      "execution_count": 20,
      "outputs": [
        {
          "output_type": "stream",
          "name": "stdout",
          "text": [
            "18\n"
          ]
        }
      ]
    },
    {
      "cell_type": "code",
      "source": [],
      "metadata": {
        "id": "aGjxHa5w5aKm"
      },
      "execution_count": null,
      "outputs": []
    }
  ]
}