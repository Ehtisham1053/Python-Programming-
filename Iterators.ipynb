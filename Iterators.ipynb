{
  "nbformat": 4,
  "nbformat_minor": 0,
  "metadata": {
    "colab": {
      "provenance": [],
      "authorship_tag": "ABX9TyMIE/B5yLrMR+30W98epckf",
      "include_colab_link": true
    },
    "kernelspec": {
      "name": "python3",
      "display_name": "Python 3"
    },
    "language_info": {
      "name": "python"
    }
  },
  "cells": [
    {
      "cell_type": "markdown",
      "metadata": {
        "id": "view-in-github",
        "colab_type": "text"
      },
      "source": [
        "<a href=\"https://colab.research.google.com/github/Ehtisham1053/Python-Programming-/blob/main/Iterators.ipynb\" target=\"_parent\"><img src=\"https://colab.research.google.com/assets/colab-badge.svg\" alt=\"Open In Colab\"/></a>"
      ]
    },
    {
      "cell_type": "markdown",
      "source": [
        "# 🔁 Iteration and Iterators in Python\n",
        "\n",
        "---\n",
        "\n",
        "## 📌 Iteration\n",
        "\n",
        "**Iteration** refers to the process of **repeating a set of statements** for each item in a sequence (like lists, tuples, strings, etc.).\n",
        "\n",
        "It is usually performed using **loops** (e.g., `for` or `while` loops).\n",
        "\n",
        "### ✨ Examples of Iterable Objects\n",
        "- List\n",
        "- Tuple\n",
        "- String\n",
        "- Set\n",
        "- Dictionary\n",
        "\n",
        "These can be looped over using `for` loops.\n",
        "\n",
        "---\n",
        "\n",
        "## 📌 Iterator\n",
        "An Iterator is an object that allows a programmer to traverse a sequence of data without store the entire data into the memory\n",
        "\n",
        "\n",
        "An **iterator** is an object in Python that implements the **iterator protocol**, which includes:\n",
        "- A `__iter__()` method that returns the iterator object itself.\n",
        "- A `__next__()` method that returns the next item from the sequence. When there are no more items, it raises a `StopIteration` exception.\n",
        "\n",
        "Iterators allow elements of a container to be **traversed one at a time**.\n",
        "\n",
        "---\n",
        "\n",
        "## 🧠 Key Differences\n",
        "\n",
        "| Concept     | Iterable                            | Iterator                              |\n",
        "|-------------|-------------------------------------|----------------------------------------|\n",
        "| Definition  | Can be looped over                  | Used to fetch elements one-by-one      |\n",
        "| Method      | Has `__iter__()`                    | Has both `__iter__()` and `__next__()` |\n",
        "| Examples    | List, Tuple, Set, String            | Object from `iter()` function          |\n",
        "\n",
        "---\n",
        "\n",
        "## ✅ Real World Analogy\n",
        "\n",
        "Think of an **Iterable** as a playlist (it contains songs), and an **Iterator** as a music player that plays songs one at a time.\n",
        "\n",
        "---\n"
      ],
      "metadata": {
        "id": "FCa4fVleTvsf"
      }
    },
    {
      "cell_type": "markdown",
      "source": [
        "# 🔢 `range()` Function in Python\n",
        "\n",
        "---\n",
        "\n",
        "## 📌 What is `range()`?\n",
        "\n",
        "The `range()` function in Python is used to **generate a sequence of numbers**.  \n",
        "It is commonly used for looping a specific number of times in `for` loops.\n",
        "\n",
        "---\n",
        "\n",
        "## 🧱 Syntax\n",
        "\n",
        "```python\n",
        "range(start, stop, step)\n"
      ],
      "metadata": {
        "id": "bb6kJfnCULwh"
      }
    },
    {
      "cell_type": "markdown",
      "source": [
        "# 🔁 Iterable in Python\n",
        "\n",
        "---\n",
        "\n",
        "## 📌 What is an Iterable?\n",
        "\n",
        "An **iterable** is any Python object capable of returning its members **one at a time**.  \n",
        "It must implement either the `__iter__()` method or the `__getitem__()` method.\n",
        "\n",
        "---\n",
        "\n",
        "## 🧠 Key Characteristics\n",
        "\n",
        "- Can be used in a **`for` loop**.\n",
        "- Can be converted to an **iterator** using the `iter()` function.\n",
        "- Common built-in iterables:\n",
        "  - Lists\n",
        "  - Tuples\n",
        "  - Strings\n",
        "  - Sets\n",
        "  - Dictionaries\n",
        "  - Range objects\n",
        "\n",
        "---\n",
        "\n",
        "## 🔧 Behind the Scenes\n",
        "\n",
        "When you use a `for` loop:\n",
        "\n",
        "```python\n",
        "for element in iterable:\n",
        "    print(element)\n"
      ],
      "metadata": {
        "id": "fC4KvGapUpdp"
      }
    },
    {
      "cell_type": "code",
      "execution_count": 1,
      "metadata": {
        "colab": {
          "base_uri": "https://localhost:8080/"
        },
        "id": "gV6OZfj-TkdA",
        "outputId": "d0f54883-7b13-446c-e808-cc9dcf7286ed"
      },
      "outputs": [
        {
          "output_type": "stream",
          "name": "stdout",
          "text": [
            "10\n",
            "20\n",
            "30\n",
            "10\n",
            "20\n",
            "30\n"
          ]
        }
      ],
      "source": [
        "my_list = [10, 20, 30]\n",
        "\n",
        "\n",
        "for item in my_list:\n",
        "    print(item)\n",
        "\n",
        "\n",
        "it = iter(my_list)\n",
        "\n",
        "print(next(it))\n",
        "print(next(it))\n",
        "print(next(it))\n"
      ]
    }
  ]
}