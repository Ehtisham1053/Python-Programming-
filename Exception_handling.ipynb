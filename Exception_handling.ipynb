{
  "nbformat": 4,
  "nbformat_minor": 0,
  "metadata": {
    "colab": {
      "provenance": [],
      "authorship_tag": "ABX9TyNdLwQc9VsWvWhkBHbHRv2k",
      "include_colab_link": true
    },
    "kernelspec": {
      "name": "python3",
      "display_name": "Python 3"
    },
    "language_info": {
      "name": "python"
    }
  },
  "cells": [
    {
      "cell_type": "markdown",
      "metadata": {
        "id": "view-in-github",
        "colab_type": "text"
      },
      "source": [
        "<a href=\"https://colab.research.google.com/github/Ehtisham1053/Python-Programming-/blob/main/Exception_handling.ipynb\" target=\"_parent\"><img src=\"https://colab.research.google.com/assets/colab-badge.svg\" alt=\"Open In Colab\"/></a>"
      ]
    },
    {
      "cell_type": "markdown",
      "source": [
        "# 🐍 Python Errors and Their Types\n",
        "\n",
        "## 📌 What is an Error?\n",
        "\n",
        "An **error** in Python refers to a mistake in the program that causes it to behave unexpectedly or terminate execution.\n",
        "\n",
        "Errors are broadly classified into:\n",
        "\n",
        "1. **Syntax Errors**\n",
        "2. **Runtime Errors**\n",
        "3. **Logical Errors**\n",
        "4. **Exceptions**\n",
        "\n",
        "---\n",
        "\n",
        "## 1️⃣ Syntax Error\n",
        "\n",
        "Occurs when Python parser finds code that doesn’t follow the correct syntax.\n",
        "\n",
        "🔴 **These are detected before the program runs.**\n",
        "\n",
        "### ❌ Example:\n",
        "```python\n",
        "print(\"Hello\"\n"
      ],
      "metadata": {
        "id": "RW31iQJ3xNuF"
      }
    },
    {
      "cell_type": "code",
      "execution_count": null,
      "metadata": {
        "id": "eplGQueyxH-G"
      },
      "outputs": [],
      "source": [
        "'''\n",
        "2️⃣ Runtime Error\n",
        "Occurs during program execution and causes the program to crash.\n",
        "\n",
        "🟠 These are not detected until the program runs.\n",
        "'''"
      ]
    },
    {
      "cell_type": "code",
      "source": [
        "\n",
        "x = 10 / 0\n",
        "\n",
        "\n",
        "\n",
        "\n"
      ],
      "metadata": {
        "colab": {
          "base_uri": "https://localhost:8080/",
          "height": 211
        },
        "id": "ae_htPRexSj8",
        "outputId": "0f1568a5-6da5-40cf-de75-38fb9af3e52c"
      },
      "execution_count": 1,
      "outputs": [
        {
          "output_type": "error",
          "ename": "ZeroDivisionError",
          "evalue": "division by zero",
          "traceback": [
            "\u001b[0;31m---------------------------------------------------------------------------\u001b[0m",
            "\u001b[0;31mZeroDivisionError\u001b[0m                         Traceback (most recent call last)",
            "\u001b[0;32m<ipython-input-1-7989055dee4c>\u001b[0m in \u001b[0;36m<cell line: 0>\u001b[0;34m()\u001b[0m\n\u001b[1;32m      1\u001b[0m \u001b[0;31m# ZeroDivisionError\u001b[0m\u001b[0;34m\u001b[0m\u001b[0;34m\u001b[0m\u001b[0m\n\u001b[0;32m----> 2\u001b[0;31m \u001b[0mx\u001b[0m \u001b[0;34m=\u001b[0m \u001b[0;36m10\u001b[0m \u001b[0;34m/\u001b[0m \u001b[0;36m0\u001b[0m\u001b[0;34m\u001b[0m\u001b[0;34m\u001b[0m\u001b[0m\n\u001b[0m\u001b[1;32m      3\u001b[0m \u001b[0;34m\u001b[0m\u001b[0m\n\u001b[1;32m      4\u001b[0m \u001b[0;31m# NameError\u001b[0m\u001b[0;34m\u001b[0m\u001b[0;34m\u001b[0m\u001b[0m\n\u001b[1;32m      5\u001b[0m \u001b[0mprint\u001b[0m\u001b[0;34m(\u001b[0m\u001b[0mundeclared_variable\u001b[0m\u001b[0;34m)\u001b[0m\u001b[0;34m\u001b[0m\u001b[0;34m\u001b[0m\u001b[0m\n",
            "\u001b[0;31mZeroDivisionError\u001b[0m: division by zero"
          ]
        }
      ]
    },
    {
      "cell_type": "code",
      "source": [
        "# TypeError\n",
        "x = \"5\" + 2"
      ],
      "metadata": {
        "colab": {
          "base_uri": "https://localhost:8080/",
          "height": 158
        },
        "id": "UhElZMyJxTbK",
        "outputId": "d7046905-e412-4208-ef07-96a8eb717bbc"
      },
      "execution_count": 2,
      "outputs": [
        {
          "output_type": "error",
          "ename": "TypeError",
          "evalue": "can only concatenate str (not \"int\") to str",
          "traceback": [
            "\u001b[0;31m---------------------------------------------------------------------------\u001b[0m",
            "\u001b[0;31mTypeError\u001b[0m                                 Traceback (most recent call last)",
            "\u001b[0;32m<ipython-input-2-8d98d0858a24>\u001b[0m in \u001b[0;36m<cell line: 0>\u001b[0;34m()\u001b[0m\n\u001b[1;32m      1\u001b[0m \u001b[0;31m# TypeError\u001b[0m\u001b[0;34m\u001b[0m\u001b[0;34m\u001b[0m\u001b[0m\n\u001b[0;32m----> 2\u001b[0;31m \u001b[0mx\u001b[0m \u001b[0;34m=\u001b[0m \u001b[0;34m\"5\"\u001b[0m \u001b[0;34m+\u001b[0m \u001b[0;36m2\u001b[0m\u001b[0;34m\u001b[0m\u001b[0;34m\u001b[0m\u001b[0m\n\u001b[0m",
            "\u001b[0;31mTypeError\u001b[0m: can only concatenate str (not \"int\") to str"
          ]
        }
      ]
    },
    {
      "cell_type": "code",
      "source": [
        "# NameError\n",
        "print(undeclared_variable)"
      ],
      "metadata": {
        "colab": {
          "base_uri": "https://localhost:8080/",
          "height": 158
        },
        "id": "my9XJn5-xYDy",
        "outputId": "42e51415-a5eb-4158-cdd6-70e3816f7521"
      },
      "execution_count": 3,
      "outputs": [
        {
          "output_type": "error",
          "ename": "NameError",
          "evalue": "name 'undeclared_variable' is not defined",
          "traceback": [
            "\u001b[0;31m---------------------------------------------------------------------------\u001b[0m",
            "\u001b[0;31mNameError\u001b[0m                                 Traceback (most recent call last)",
            "\u001b[0;32m<ipython-input-3-0131ad8e625e>\u001b[0m in \u001b[0;36m<cell line: 0>\u001b[0;34m()\u001b[0m\n\u001b[1;32m      1\u001b[0m \u001b[0;31m# NameError\u001b[0m\u001b[0;34m\u001b[0m\u001b[0;34m\u001b[0m\u001b[0m\n\u001b[0;32m----> 2\u001b[0;31m \u001b[0mprint\u001b[0m\u001b[0;34m(\u001b[0m\u001b[0mundeclared_variable\u001b[0m\u001b[0;34m)\u001b[0m\u001b[0;34m\u001b[0m\u001b[0;34m\u001b[0m\u001b[0m\n\u001b[0m",
            "\u001b[0;31mNameError\u001b[0m: name 'undeclared_variable' is not defined"
          ]
        }
      ]
    },
    {
      "cell_type": "code",
      "source": [
        "'''\n",
        "3️⃣ Logical Error\n",
        "The program runs without crashing but produces incorrect results.\n",
        "\n",
        "🟡 Hard to detect because the syntax is correct.\n",
        "'''"
      ],
      "metadata": {
        "id": "A9SBBnYzxcTR"
      },
      "execution_count": null,
      "outputs": []
    },
    {
      "cell_type": "code",
      "source": [
        "\n",
        "total = 90 + 95 + 100\n",
        "average = total / 2   # Should be /3\n",
        "print(\"Average:\", average)\n"
      ],
      "metadata": {
        "colab": {
          "base_uri": "https://localhost:8080/"
        },
        "id": "W4T4u2YoxiRK",
        "outputId": "bd0cdfc5-3a08-4ff6-ec3b-cd61aace804c"
      },
      "execution_count": 4,
      "outputs": [
        {
          "output_type": "stream",
          "name": "stdout",
          "text": [
            "Average: 142.5\n"
          ]
        }
      ]
    },
    {
      "cell_type": "code",
      "source": [],
      "metadata": {
        "id": "b8HyGFd4xkBp"
      },
      "execution_count": null,
      "outputs": []
    },
    {
      "cell_type": "markdown",
      "source": [
        "## ✅ ZeroDivisionError"
      ],
      "metadata": {
        "id": "odOzLA7YxpBu"
      }
    },
    {
      "cell_type": "code",
      "source": [
        "try:\n",
        "    result = 10 / 0\n",
        "except ZeroDivisionError as e:\n",
        "    print(\"❌ ZeroDivisionError:\", e)\n"
      ],
      "metadata": {
        "colab": {
          "base_uri": "https://localhost:8080/"
        },
        "id": "b0JdfPvVxpkY",
        "outputId": "8bdf315e-205a-44d7-e539-c121cfc9a0f6"
      },
      "execution_count": 5,
      "outputs": [
        {
          "output_type": "stream",
          "name": "stdout",
          "text": [
            "❌ ZeroDivisionError: division by zero\n"
          ]
        }
      ]
    },
    {
      "cell_type": "markdown",
      "source": [
        "**✅ ValueError**"
      ],
      "metadata": {
        "id": "4g5tUb2Jyq6p"
      }
    },
    {
      "cell_type": "code",
      "source": [
        "try:\n",
        "    number = int(\"abc\")\n",
        "except ValueError as e:\n",
        "    print(\"❌ ValueError:\", e)\n"
      ],
      "metadata": {
        "colab": {
          "base_uri": "https://localhost:8080/"
        },
        "id": "NT9cjc9Tyk_1",
        "outputId": "81479012-4ffe-4d3e-ec5c-9e20b1c8d3a6"
      },
      "execution_count": 6,
      "outputs": [
        {
          "output_type": "stream",
          "name": "stdout",
          "text": [
            "❌ ValueError: invalid literal for int() with base 10: 'abc'\n"
          ]
        }
      ]
    },
    {
      "cell_type": "code",
      "source": [],
      "metadata": {
        "id": "3dkRKz_4y8SW"
      },
      "execution_count": null,
      "outputs": []
    },
    {
      "cell_type": "markdown",
      "source": [
        "## ✅ TypeError"
      ],
      "metadata": {
        "id": "U8vV0_XqzF7b"
      }
    },
    {
      "cell_type": "code",
      "source": [
        "try:\n",
        "    result = \"5\" + 5\n",
        "except TypeError as e:\n",
        "    print(\"❌ TypeError:\", e)\n"
      ],
      "metadata": {
        "colab": {
          "base_uri": "https://localhost:8080/"
        },
        "id": "FTpZxD0EzGi-",
        "outputId": "855cce4d-28e2-4811-f944-46f922c18869"
      },
      "execution_count": 7,
      "outputs": [
        {
          "output_type": "stream",
          "name": "stdout",
          "text": [
            "❌ TypeError: can only concatenate str (not \"int\") to str\n"
          ]
        }
      ]
    },
    {
      "cell_type": "code",
      "source": [],
      "metadata": {
        "id": "YjDbAyV5zHm2"
      },
      "execution_count": null,
      "outputs": []
    },
    {
      "cell_type": "markdown",
      "source": [
        "# ✅ IndexError"
      ],
      "metadata": {
        "id": "Kh92_DTnzUGj"
      }
    },
    {
      "cell_type": "code",
      "source": [
        "try:\n",
        "    my_list = [1, 2, 3]\n",
        "    print(my_list[5])\n",
        "except IndexError as e:\n",
        "    print(\"❌ IndexError:\", e)\n"
      ],
      "metadata": {
        "colab": {
          "base_uri": "https://localhost:8080/"
        },
        "id": "ZDZRw4wFzUiu",
        "outputId": "bcb69803-ea31-4755-aacd-08127665c943"
      },
      "execution_count": 8,
      "outputs": [
        {
          "output_type": "stream",
          "name": "stdout",
          "text": [
            "❌ IndexError: list index out of range\n"
          ]
        }
      ]
    },
    {
      "cell_type": "code",
      "source": [],
      "metadata": {
        "id": "na0OYAzNzVi3"
      },
      "execution_count": null,
      "outputs": []
    },
    {
      "cell_type": "markdown",
      "source": [
        "## ✅ KeyError"
      ],
      "metadata": {
        "id": "jasU4mEfzYtz"
      }
    },
    {
      "cell_type": "code",
      "source": [
        "try:\n",
        "    my_dict = {\"name\": \"Alice\"}\n",
        "    print(my_dict[\"age\"])\n",
        "except KeyError as e:\n",
        "    print(\"❌ KeyError:\", e)\n"
      ],
      "metadata": {
        "colab": {
          "base_uri": "https://localhost:8080/"
        },
        "id": "ppeBEO6pzZQf",
        "outputId": "3b3c51cf-0aa9-4640-d05e-3e1ab2aea4e5"
      },
      "execution_count": 9,
      "outputs": [
        {
          "output_type": "stream",
          "name": "stdout",
          "text": [
            "❌ KeyError: 'age'\n"
          ]
        }
      ]
    },
    {
      "cell_type": "markdown",
      "source": [
        "## ✅ NameError"
      ],
      "metadata": {
        "id": "KpHL3EFyzbzt"
      }
    },
    {
      "cell_type": "code",
      "source": [
        "try:\n",
        "    print(undeclared_variable)\n",
        "except NameError as e:\n",
        "    print(\"❌ NameError:\", e)\n"
      ],
      "metadata": {
        "colab": {
          "base_uri": "https://localhost:8080/"
        },
        "id": "SNAS21sVzaWn",
        "outputId": "d7bdb27e-182e-46ad-9ef3-2283d92afd72"
      },
      "execution_count": 10,
      "outputs": [
        {
          "output_type": "stream",
          "name": "stdout",
          "text": [
            "❌ NameError: name 'undeclared_variable' is not defined\n"
          ]
        }
      ]
    },
    {
      "cell_type": "markdown",
      "source": [
        "## ✅ FileNotFoundError"
      ],
      "metadata": {
        "id": "v0xj7X38zfMV"
      }
    },
    {
      "cell_type": "code",
      "source": [
        "try:\n",
        "    with open(\"non_existing_file.txt\", \"r\") as f:\n",
        "        content = f.read()\n",
        "except FileNotFoundError as e:\n",
        "    print(\"❌ FileNotFoundError:\", e)\n"
      ],
      "metadata": {
        "colab": {
          "base_uri": "https://localhost:8080/"
        },
        "id": "lecnTUMWzdR3",
        "outputId": "6472a321-1d03-4a38-f896-0f56d537f45c"
      },
      "execution_count": 11,
      "outputs": [
        {
          "output_type": "stream",
          "name": "stdout",
          "text": [
            "❌ FileNotFoundError: [Errno 2] No such file or directory: 'non_existing_file.txt'\n"
          ]
        }
      ]
    },
    {
      "cell_type": "markdown",
      "source": [
        "## ✅ AttributeError"
      ],
      "metadata": {
        "id": "TUhe4Ih4ziuN"
      }
    },
    {
      "cell_type": "code",
      "source": [
        "try:\n",
        "    x = 5\n",
        "    x.append(10)\n",
        "except AttributeError as e:\n",
        "    print(\"❌ AttributeError:\", e)\n"
      ],
      "metadata": {
        "colab": {
          "base_uri": "https://localhost:8080/"
        },
        "id": "AYoxFCH9zg1_",
        "outputId": "bc05d53d-c183-4850-92e4-65c287dfc0a7"
      },
      "execution_count": 12,
      "outputs": [
        {
          "output_type": "stream",
          "name": "stdout",
          "text": [
            "❌ AttributeError: 'int' object has no attribute 'append'\n"
          ]
        }
      ]
    },
    {
      "cell_type": "markdown",
      "source": [
        "## ✅ ImportError / ModuleNotFoundError"
      ],
      "metadata": {
        "id": "pS9g74qjzo5o"
      }
    },
    {
      "cell_type": "code",
      "source": [
        "try:\n",
        "    import non_existent_module\n",
        "except ImportError as e:\n",
        "    print(\"❌ ImportError:\", e)\n"
      ],
      "metadata": {
        "colab": {
          "base_uri": "https://localhost:8080/"
        },
        "id": "YBqKiKG6zkWn",
        "outputId": "77461b34-c3cb-4e8d-ad62-96532de146ac"
      },
      "execution_count": 13,
      "outputs": [
        {
          "output_type": "stream",
          "name": "stdout",
          "text": [
            "❌ ImportError: No module named 'non_existent_module'\n"
          ]
        }
      ]
    },
    {
      "cell_type": "code",
      "source": [],
      "metadata": {
        "id": "DBplwkEvzq63"
      },
      "execution_count": null,
      "outputs": []
    },
    {
      "cell_type": "markdown",
      "source": [
        "## Flow of Exception handling"
      ],
      "metadata": {
        "id": "OXzMOydBz6lO"
      }
    },
    {
      "cell_type": "code",
      "source": [
        "'''\n",
        "🔁 Flow of Exception Handling\n",
        "try block: Code that may raise an exception.\n",
        "\n",
        "except block: Code that runs when an exception occurs.\n",
        "\n",
        "else block: (Optional) Executes if no exception occurs.\n",
        "\n",
        "finally block: (Optional) Always executes regardless of exception.\n",
        "\n",
        "'''"
      ],
      "metadata": {
        "id": "-IFKFVeKz9JI"
      },
      "execution_count": null,
      "outputs": []
    },
    {
      "cell_type": "code",
      "source": [
        "def divide_numbers(x, y):\n",
        "    try:\n",
        "        print(\"📌 Trying to divide...\")\n",
        "        result = x / y\n",
        "    except ZeroDivisionError as e:\n",
        "        print(\"❌ Error: Division by zero is not allowed.\")\n",
        "        print(\"📌 Exception Message:\", e)\n",
        "    except TypeError as e:\n",
        "        print(\"❌ Error: Invalid data types used.\")\n",
        "        print(\"📌 Exception Message:\", e)\n",
        "    else:\n",
        "        print(\"✅ Division successful!\")\n",
        "        print(\"Result:\", result)\n",
        "    finally:\n",
        "        print(\"📦 This block always runs (cleanup or logging).\")\n",
        "\n",
        "# 🔹 Case 1: Valid input\n",
        "divide_numbers(10, 2)\n",
        "\n",
        "# 🔹 Case 2: Division by zero\n",
        "divide_numbers(10, 0)\n",
        "\n",
        "# 🔹 Case 3: Invalid types\n",
        "divide_numbers(\"ten\", 2)\n"
      ],
      "metadata": {
        "colab": {
          "base_uri": "https://localhost:8080/"
        },
        "id": "3X2bmVk-z_U2",
        "outputId": "cbc19c9a-59e7-44f3-e72f-9bc2d2f54e65"
      },
      "execution_count": 14,
      "outputs": [
        {
          "output_type": "stream",
          "name": "stdout",
          "text": [
            "📌 Trying to divide...\n",
            "✅ Division successful!\n",
            "Result: 5.0\n",
            "📦 This block always runs (cleanup or logging).\n",
            "📌 Trying to divide...\n",
            "❌ Error: Division by zero is not allowed.\n",
            "📌 Exception Message: division by zero\n",
            "📦 This block always runs (cleanup or logging).\n",
            "📌 Trying to divide...\n",
            "❌ Error: Invalid data types used.\n",
            "📌 Exception Message: unsupported operand type(s) for /: 'str' and 'int'\n",
            "📦 This block always runs (cleanup or logging).\n"
          ]
        }
      ]
    },
    {
      "cell_type": "code",
      "source": [],
      "metadata": {
        "id": "kX8cQWLX0B4I"
      },
      "execution_count": null,
      "outputs": []
    }
  ]
}