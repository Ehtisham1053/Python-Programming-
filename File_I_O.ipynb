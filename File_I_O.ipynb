{
  "nbformat": 4,
  "nbformat_minor": 0,
  "metadata": {
    "colab": {
      "provenance": [],
      "authorship_tag": "ABX9TyNaiufigkvsm+kZJAGqR0Sd",
      "include_colab_link": true
    },
    "kernelspec": {
      "name": "python3",
      "display_name": "Python 3"
    },
    "language_info": {
      "name": "python"
    }
  },
  "cells": [
    {
      "cell_type": "markdown",
      "metadata": {
        "id": "view-in-github",
        "colab_type": "text"
      },
      "source": [
        "<a href=\"https://colab.research.google.com/github/Ehtisham1053/Python-Programming-/blob/main/File_I_O.ipynb\" target=\"_parent\"><img src=\"https://colab.research.google.com/assets/colab-badge.svg\" alt=\"Open In Colab\"/></a>"
      ]
    },
    {
      "cell_type": "markdown",
      "source": [
        "# 📁 File Input and Output (File I/O) in Python\n",
        "\n",
        "## 🧾 What is File I/O?\n",
        "\n",
        "**File I/O (Input/Output)** allows a program to **read data from** and **write data to** files stored on disk.  \n",
        "This enables long-term data storage and retrieval in real-world applications.\n",
        "\n",
        "Python provides built-in functions and methods to perform file operations like:\n",
        "\n",
        "- Reading from files\n",
        "- Writing to files\n",
        "- Appending data\n",
        "- Modifying files\n",
        "- Managing file pointers and closing files\n",
        "\n",
        "---\n",
        "\n",
        "## 🗂️ File Modes\n",
        "\n",
        "You need to specify a mode when opening a file:\n",
        "\n",
        "| Mode | Description                      |\n",
        "|------|----------------------------------|\n",
        "| `'r'`  | Read (default). Error if file doesn't exist |\n",
        "| `'w'`  | Write. Creates a file or truncates if exists |\n",
        "| `'a'`  | Append. Creates a file if it doesn't exist |\n",
        "| `'x'`  | Create. Fails if file already exists |\n",
        "| `'r+'` | Read and Write |\n",
        "| `'b'`  | Binary mode (use with other modes) |\n",
        "| `'t'`  | Text mode (default) |\n",
        "\n",
        "---\n",
        "\n",
        "## 📌 Opening a File\n",
        "\n",
        "```python\n",
        "file = open(\"filename.txt\", \"mode\")\n"
      ],
      "metadata": {
        "id": "Jhoh3VDLcWKI"
      }
    },
    {
      "cell_type": "code",
      "execution_count": null,
      "metadata": {
        "id": "V_vePzj6cH42"
      },
      "outputs": [],
      "source": []
    },
    {
      "cell_type": "markdown",
      "source": [
        "# Writing a file"
      ],
      "metadata": {
        "id": "FaISrkOUcj3F"
      }
    },
    {
      "cell_type": "markdown",
      "source": [
        "# ✍️ Writing to a File in Python\n",
        "\n",
        "In Python, writing to a file is done using the `open()` function with **write** (`'w'`) or **append** (`'a'`) modes.\n",
        "\n",
        "---\n",
        "\n",
        "## 📌 1. Opening a File for Writing\n",
        "\n",
        "You can open a file using:\n",
        "\n",
        "```python\n",
        "file = open(\"filename.txt\", \"w\")\n"
      ],
      "metadata": {
        "id": "W6WPdRcdcnD1"
      }
    },
    {
      "cell_type": "markdown",
      "source": [
        "## ✅ 1. Write a Single Line to a New File"
      ],
      "metadata": {
        "id": "xrRD8dY2c6Wy"
      }
    },
    {
      "cell_type": "code",
      "source": [
        "# Writing a single line using 'w' mode (overwrite if file exists)\n",
        "file = open(\"single_line.txt\", \"w\")\n",
        "file.write(\"This is a single line written to the file.\\n\")\n",
        "file.close()\n"
      ],
      "metadata": {
        "id": "G5aRMVAacmcL"
      },
      "execution_count": 7,
      "outputs": []
    },
    {
      "cell_type": "markdown",
      "source": [
        "## ✅ 2. Write Multiple Lines Using a List"
      ],
      "metadata": {
        "id": "LA_YrJUcdWBO"
      }
    },
    {
      "cell_type": "code",
      "source": [
        "# Writing multiple lines from a list\n",
        "lines = [\"Line 1\\n\", \"Line 2\\n\", \"Line 3\\n\"]\n",
        "\n",
        "file = open(\"multiple_lines.txt\", \"w\")\n",
        "file.writelines(lines)\n",
        "file.close()\n"
      ],
      "metadata": {
        "id": "OIgKSD3Kc92_"
      },
      "execution_count": 1,
      "outputs": []
    },
    {
      "cell_type": "markdown",
      "source": [
        "## ✅ 3. Append a Line to an Existing File"
      ],
      "metadata": {
        "id": "8L3PGPBwdcdV"
      }
    },
    {
      "cell_type": "code",
      "source": [
        "# Appending text to an existing file using 'a' mode\n",
        "file = open(\"single_line.txt\", \"a\")\n",
        "file.write(\"This is an appended line.\\n\")\n",
        "file.close()\n"
      ],
      "metadata": {
        "id": "tL4K7oY5dYvW"
      },
      "execution_count": 2,
      "outputs": []
    },
    {
      "cell_type": "markdown",
      "source": [
        "## ✅ 4. Write Using with Statement (Best Practice)"
      ],
      "metadata": {
        "id": "3xSCuY9edh8d"
      }
    },
    {
      "cell_type": "code",
      "source": [
        "# Writing safely using the with statement\n",
        "with open(\"with_example.txt\", \"w\") as file:\n",
        "    file.write(\"This file is written using 'with' statement.\\n\")\n"
      ],
      "metadata": {
        "id": "57bZ1C1Tde5M"
      },
      "execution_count": 3,
      "outputs": []
    },
    {
      "cell_type": "markdown",
      "source": [
        "## ✅ 5. Append Using with Statement"
      ],
      "metadata": {
        "id": "0IWW7_UgdlXW"
      }
    },
    {
      "cell_type": "code",
      "source": [
        "# Appending safely using with\n",
        "with open(\"with_example.txt\", \"a\") as file:\n",
        "    file.write(\"This is another appended line.\\n\")"
      ],
      "metadata": {
        "id": "VjMK2vvddj58"
      },
      "execution_count": 4,
      "outputs": []
    },
    {
      "cell_type": "markdown",
      "source": [
        "## ✅ 6. Write with Exception Handling"
      ],
      "metadata": {
        "id": "6UBTTVNkdp3O"
      }
    },
    {
      "cell_type": "code",
      "source": [
        "# Safer write with try-except block\n",
        "try:\n",
        "    with open(\"error_handled_write.txt\", \"w\") as file:\n",
        "        file.write(\"File write inside try-except block.\\n\")\n",
        "except Exception as e:\n",
        "    print(\"An error occurred:\", e)\n"
      ],
      "metadata": {
        "id": "raZ_QX6gdoPs"
      },
      "execution_count": 5,
      "outputs": []
    },
    {
      "cell_type": "code",
      "source": [],
      "metadata": {
        "id": "36014m3DdsFM"
      },
      "execution_count": null,
      "outputs": []
    },
    {
      "cell_type": "markdown",
      "source": [
        "# 📂 `open()` Function in Python\n",
        "\n",
        "The `open()` function is used to open a file in Python. It returns a **file object** which provides methods and attributes to interact with the file contents.\n",
        "\n",
        "---\n",
        "\n",
        "## 🔧 Syntax:\n",
        "\n",
        "```python\n",
        "open(file, mode='r', buffering=-1, encoding=None, errors=None, newline=None, closefd=True, opener=None)\n"
      ],
      "metadata": {
        "id": "KoWbCKKDk-xc"
      }
    },
    {
      "cell_type": "code",
      "source": [],
      "metadata": {
        "id": "V7g6jBrKk_LJ"
      },
      "execution_count": null,
      "outputs": []
    },
    {
      "cell_type": "markdown",
      "source": [
        "# Reading a file"
      ],
      "metadata": {
        "id": "5bgc2iTglqgm"
      }
    },
    {
      "cell_type": "markdown",
      "source": [
        "# 📖 Reading a File in Python\n",
        "\n",
        "Reading a file in Python is typically done using the built-in `open()` function and file methods such as `read()`, `readline()`, and `readlines()`.\n",
        "\n",
        "---\n",
        "\n",
        "## 🔧 Modes for Reading a File:\n",
        "\n",
        "| Mode  | Description                         |\n",
        "|-------|-------------------------------------|\n",
        "| `'r'` | Opens the file in read-only mode.   |\n",
        "| `'rb'`| Opens in binary read mode.          |\n",
        "| `'r+'`| Opens for both reading and writing. |\n",
        "\n",
        "> ⚠️ The file must exist, otherwise an error will occur.\n",
        "\n",
        "---\n",
        "\n",
        "## 🧠 Common Reading Methods:\n",
        "\n",
        "| Method        | Description                                       |\n",
        "|---------------|---------------------------------------------------|\n",
        "| `read()`      | Reads the entire file content as a single string. |\n",
        "| `read(n)`     | Reads `n` characters/bytes from the file.         |\n",
        "| `readline()`  | Reads a single line from the file.                |\n",
        "| `readlines()` | Reads all lines and returns a list.               |\n",
        "\n",
        "---\n",
        "\n",
        "## ✅ Best Practice:\n",
        "\n",
        "Using `with open(...) as file:` ensures the file is automatically closed.\n",
        "\n",
        "```python\n",
        "with open(\"file.txt\", \"r\") as f:\n",
        "    data = f.read()\n"
      ],
      "metadata": {
        "id": "Gq2pR5kql7sN"
      }
    },
    {
      "cell_type": "markdown",
      "source": [
        "## 📄 1. Reading Entire File (`read()`)"
      ],
      "metadata": {
        "id": "WHw4K5-vmBjJ"
      }
    },
    {
      "cell_type": "code",
      "source": [
        "with open(\"single_line.txt\", \"r\") as file:\n",
        "    content = file.read()\n",
        "    print(\"File Content:\\n\", content)"
      ],
      "metadata": {
        "colab": {
          "base_uri": "https://localhost:8080/"
        },
        "id": "zVnU_52vlr2f",
        "outputId": "020f9f1e-9e41-4567-9e36-00db22628d56"
      },
      "execution_count": 8,
      "outputs": [
        {
          "output_type": "stream",
          "name": "stdout",
          "text": [
            "File Content:\n",
            " This is a single line written to the file.\n",
            "\n"
          ]
        }
      ]
    },
    {
      "cell_type": "markdown",
      "source": [
        "## 📄 2. Reading n Characters (read(n))"
      ],
      "metadata": {
        "id": "6eucdsaNmMz2"
      }
    },
    {
      "cell_type": "code",
      "source": [
        "with open(\"single_line.txt\", \"r\") as file:\n",
        "    first_10_chars = file.read(10)\n",
        "    print(\"First 10 characters:\", first_10_chars)\n"
      ],
      "metadata": {
        "colab": {
          "base_uri": "https://localhost:8080/"
        },
        "id": "xV0kJ5FKmEAJ",
        "outputId": "dbf52b8b-9c6f-4ac2-cdde-d55f2a5d88f9"
      },
      "execution_count": 9,
      "outputs": [
        {
          "output_type": "stream",
          "name": "stdout",
          "text": [
            "First 10 characters: This is a \n"
          ]
        }
      ]
    },
    {
      "cell_type": "markdown",
      "source": [
        "## 📄 3. Reading Line by Line (readline())"
      ],
      "metadata": {
        "id": "lKyWuHdnmTTp"
      }
    },
    {
      "cell_type": "code",
      "source": [
        "with open(\"/content/multiple_lines.txt\", \"r\") as file:\n",
        "    line1 = file.readline()\n",
        "    line2 = file.readline()\n",
        "    print(\"Line 1:\", line1)\n",
        "    print(\"Line 2:\", line2)\n"
      ],
      "metadata": {
        "colab": {
          "base_uri": "https://localhost:8080/"
        },
        "id": "VgZ_zOFkmQva",
        "outputId": "f40b79b6-a8ac-48b3-b2a9-8911d0eb465c"
      },
      "execution_count": 10,
      "outputs": [
        {
          "output_type": "stream",
          "name": "stdout",
          "text": [
            "Line 1: Line 1\n",
            "\n",
            "Line 2: Line 2\n",
            "\n"
          ]
        }
      ]
    },
    {
      "cell_type": "markdown",
      "source": [
        "## 📄 4. Reading All Lines as List (readlines())"
      ],
      "metadata": {
        "id": "nDQ59MEymgcg"
      }
    },
    {
      "cell_type": "code",
      "source": [
        "with open(\"/content/multiple_lines.txt\", \"r\") as file:\n",
        "    lines = file.readlines()\n",
        "    print(\"Lines List:\", lines)\n"
      ],
      "metadata": {
        "colab": {
          "base_uri": "https://localhost:8080/"
        },
        "id": "T_s_LNZumYWX",
        "outputId": "b0bf6572-b1f6-4ee6-920c-b675e24b21bd"
      },
      "execution_count": 11,
      "outputs": [
        {
          "output_type": "stream",
          "name": "stdout",
          "text": [
            "Lines List: ['Line 1\\n', 'Line 2\\n', 'Line 3\\n']\n"
          ]
        }
      ]
    },
    {
      "cell_type": "markdown",
      "source": [
        "## 📄 5. Using Loop to Read Line-by-Line"
      ],
      "metadata": {
        "id": "ONeWmQNimtXo"
      }
    },
    {
      "cell_type": "code",
      "source": [
        "with open(\"/content/multiple_lines.txt\", \"r\") as file:\n",
        "    for line in file:\n",
        "        print(\"Line:\", line.strip())  # .strip() removes newline character\n"
      ],
      "metadata": {
        "colab": {
          "base_uri": "https://localhost:8080/"
        },
        "id": "zHrokC8xmodB",
        "outputId": "0b05640f-5067-4337-b937-cf6cfebef5ed"
      },
      "execution_count": 12,
      "outputs": [
        {
          "output_type": "stream",
          "name": "stdout",
          "text": [
            "Line: Line 1\n",
            "Line: Line 2\n",
            "Line: Line 3\n"
          ]
        }
      ]
    },
    {
      "cell_type": "code",
      "source": [],
      "metadata": {
        "id": "n9HyZxpomyi5"
      },
      "execution_count": null,
      "outputs": []
    }
  ]
}