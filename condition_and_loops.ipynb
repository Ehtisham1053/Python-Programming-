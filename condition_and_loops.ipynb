{
  "nbformat": 4,
  "nbformat_minor": 0,
  "metadata": {
    "colab": {
      "provenance": [],
      "authorship_tag": "ABX9TyNY2uFcsf6O5r6Myza4VtTN",
      "include_colab_link": true
    },
    "kernelspec": {
      "name": "python3",
      "display_name": "Python 3"
    },
    "language_info": {
      "name": "python"
    }
  },
  "cells": [
    {
      "cell_type": "markdown",
      "metadata": {
        "id": "view-in-github",
        "colab_type": "text"
      },
      "source": [
        "<a href=\"https://colab.research.google.com/github/Ehtisham1053/Python-Programming-/blob/main/condition_and_loops.ipynb\" target=\"_parent\"><img src=\"https://colab.research.google.com/assets/colab-badge.svg\" alt=\"Open In Colab\"/></a>"
      ]
    },
    {
      "cell_type": "markdown",
      "source": [
        "# If else statements"
      ],
      "metadata": {
        "id": "lh50gfA7CXY4"
      }
    },
    {
      "cell_type": "code",
      "source": [
        "# Conditional Statements in Python (if, elif, else)\n",
        "\n",
        "# 1. Simple if Statement\n",
        "print(\"\\nsimple if statement\")\n",
        "x = 10\n",
        "if x > 5:\n",
        "    print(\"x is greater than 5\")\n",
        "\n",
        "# 2. if-else Statement\n",
        "print(\"if-else statement\")\n",
        "x = 3\n",
        "if x > 5:\n",
        "    print(\"x is greater than 5\")\n",
        "else:\n",
        "    print(\"x is not greater than 5\")\n",
        "\n",
        "# 3. if-elif-else Statement\n",
        "print(\"\\nif-elif-else statement\")\n",
        "x = 7\n",
        "if x > 10:\n",
        "    print(\"x is greater than 10\")\n",
        "elif x == 7:\n",
        "    print(\"x is exactly 7\")\n",
        "elif x > 5:\n",
        "    print(\"x is greater than 5\")\n",
        "else:\n",
        "    print(\"x is 5 or less\")\n",
        "\n",
        "# 4. Nested if Statement\n",
        "print(\"\\nnested if statement\")\n",
        "x = 15\n",
        "if x > 10:\n",
        "    print(\"x is greater than 10\")\n",
        "    if x > 20:\n",
        "        print(\"x is also greater than 20\")\n",
        "    else:\n",
        "        print(\"x is not greater than 20\")\n",
        "\n",
        "# 5. Multiple Conditions in One Line\n",
        "print(\"\\nmultiple conditions in one line\")\n",
        "x = 10\n",
        "y = 20\n",
        "if x < 15 and y > 15:\n",
        "    print(\"Both conditions are True\")\n",
        "\n",
        "# 6. Ternary Conditional Expression\n",
        "print(\"\\nternary conditional expression\")\n",
        "x = 5\n",
        "y = 10\n",
        "max_val = x if x > y else y\n",
        "print(\"The maximum value is:\", max_val)\n"
      ],
      "metadata": {
        "colab": {
          "base_uri": "https://localhost:8080/"
        },
        "id": "DJPJJIlmY5uD",
        "outputId": "d4408670-eef8-44b4-ed18-71eed55af022"
      },
      "execution_count": 14,
      "outputs": [
        {
          "output_type": "stream",
          "name": "stdout",
          "text": [
            "\n",
            "simple if statement\n",
            "x is greater than 5\n",
            "if-else statement\n",
            "x is not greater than 5\n",
            "\n",
            "if-elif-else statement\n",
            "x is exactly 7\n",
            "\n",
            "nested if statement\n",
            "x is greater than 10\n",
            "x is not greater than 20\n",
            "\n",
            "multiple conditions in one line\n",
            "Both conditions are True\n",
            "\n",
            "ternary conditional expression\n",
            "The maximum value is: 10\n"
          ]
        }
      ]
    },
    {
      "cell_type": "markdown",
      "source": [
        "# While loop"
      ],
      "metadata": {
        "id": "yiCnjxIUflYa"
      }
    },
    {
      "cell_type": "code",
      "execution_count": 16,
      "metadata": {
        "id": "zc1tSC18BHyL",
        "colab": {
          "base_uri": "https://localhost:8080/"
        },
        "outputId": "0542a265-b628-4820-fb0e-63af3e0b4a00"
      },
      "outputs": [
        {
          "output_type": "stream",
          "name": "stdout",
          "text": [
            "Count is: 1\n",
            "Count is: 2\n",
            "Count is: 3\n",
            "Count is: 4\n",
            "Count is: 5\n",
            "x is: 3\n",
            "x is: 2\n",
            "x is: 1\n",
            "Loop finished, x is now 0\n",
            "Type 'exit' to stop: exit\n",
            "Exiting loop\n",
            "Current number: 1\n",
            "Current number: 2\n",
            "Current number: 4\n",
            "Current number: 5\n"
          ]
        }
      ],
      "source": [
        "# While Loop in Python\n",
        "\n",
        "# 1. Simple while loop\n",
        "count = 1\n",
        "while count <= 5:\n",
        "    print(\"Count is:\", count)\n",
        "    count += 1\n",
        "\n",
        "# 2. while loop with else\n",
        "x = 3\n",
        "while x > 0:\n",
        "    print(\"x is:\", x)\n",
        "    x -= 1\n",
        "else:\n",
        "    print(\"Loop finished, x is now\", x)\n",
        "\n",
        "# 3. Infinite loop with break\n",
        "while True:\n",
        "    response = input(\"Type 'exit' to stop: \")\n",
        "    if response == 'exit':\n",
        "        print(\"Exiting loop\")\n",
        "        break\n",
        "    print(\"You typed:\", response)\n",
        "\n",
        "# 4. while loop with continue\n",
        "num = 0\n",
        "while num < 5:\n",
        "    num += 1\n",
        "    if num == 3:\n",
        "        continue  # skips 3\n",
        "    print(\"Current number:\", num)\n"
      ]
    },
    {
      "cell_type": "code",
      "source": [
        "menu = input(\"\"\"\n",
        "enter 1 for you\n",
        "enter 2 for me\n",
        "enter 3 for us\n",
        "enter 4 for them\n",
        "enter false for exit\n",
        "\"\"\")\n",
        "\n",
        "while True:\n",
        "    if menu == \"1\":\n",
        "        print(\"you\")\n",
        "        break\n",
        "    elif menu == \"2\":\n",
        "        print(\"me\")\n",
        "        break\n",
        "    elif menu == \"3\":\n",
        "        print(\"us\")\n",
        "        break\n",
        "    elif menu == \"4\":\n",
        "        print(\"them\")\n",
        "        break\n",
        "    else:\n",
        "        print(\"invalid input\")\n",
        "        break"
      ],
      "metadata": {
        "colab": {
          "base_uri": "https://localhost:8080/"
        },
        "id": "p3WnSJXsCTbV",
        "outputId": "33d9284a-10fa-483c-f071-35554c6abdaf"
      },
      "execution_count": 20,
      "outputs": [
        {
          "output_type": "stream",
          "name": "stdout",
          "text": [
            "\n",
            "enter 1 for you\n",
            "enter 2 for me\n",
            "enter 3 for us\n",
            "enter 4 for them\n",
            "enter false for exit\n",
            "1\n",
            "you\n"
          ]
        }
      ]
    },
    {
      "cell_type": "code",
      "source": [],
      "metadata": {
        "id": "TIcKa0JLGbmK"
      },
      "execution_count": null,
      "outputs": []
    }
  ]
}