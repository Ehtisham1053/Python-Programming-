{
  "nbformat": 4,
  "nbformat_minor": 0,
  "metadata": {
    "colab": {
      "provenance": [],
      "authorship_tag": "ABX9TyPT8iCWoF+tstDVeAIBpO33",
      "include_colab_link": true
    },
    "kernelspec": {
      "name": "python3",
      "display_name": "Python 3"
    },
    "language_info": {
      "name": "python"
    }
  },
  "cells": [
    {
      "cell_type": "markdown",
      "metadata": {
        "id": "view-in-github",
        "colab_type": "text"
      },
      "source": [
        "<a href=\"https://colab.research.google.com/github/Ehtisham1053/Python-Programming-/blob/main/Generators.ipynb\" target=\"_parent\"><img src=\"https://colab.research.google.com/assets/colab-badge.svg\" alt=\"Open In Colab\"/></a>"
      ]
    },
    {
      "cell_type": "markdown",
      "source": [
        "# ⚙️ Generators in Python\n",
        "\n",
        "---\n",
        "\n",
        "## 📌 What is a Generator?\n",
        "\n",
        "A **generator** is a special type of iterable in Python that allows you to **generate values on the fly** instead of storing them in memory all at once.\n",
        "\n",
        "Generators are created using:\n",
        "- **Generator Functions** (with `yield`)\n",
        "- **Generator Expressions** (like list comprehensions but with `()`)\n",
        "\n",
        "---\n",
        "\n",
        "## 🧠 Key Characteristics\n",
        "\n",
        "| Feature              | Description |\n",
        "|----------------------|-------------|\n",
        "| Lazy Evaluation       | Produces items **one at a time** only when requested (saves memory)\n",
        "| Maintains State       | Remembers the last execution point between calls\n",
        "| Iterators             | All generators are iterators\n",
        "| No `return`, use `yield` | `yield` pauses the function and saves its state\n",
        "\n",
        "---\n",
        "\n",
        "## 🛠️ Generator Function\n",
        "\n",
        "- Defined like a normal function.\n",
        "- Uses `yield` instead of `return`.\n",
        "- Each `yield` temporarily suspends the function, resuming on the next call.\n",
        "\n",
        "### ✅ Syntax:\n",
        "```python\n",
        "def my_generator():\n",
        "    yield value1\n",
        "    yield value2\n",
        "    yield value3\n"
      ],
      "metadata": {
        "id": "9BWOr4ljDHWy"
      }
    },
    {
      "cell_type": "code",
      "execution_count": null,
      "metadata": {
        "colab": {
          "base_uri": "https://localhost:8080/"
        },
        "id": "tVhhbe6u_bHp",
        "outputId": "beba2e5c-1b7a-450e-f17d-0d73c5875912"
      },
      "outputs": [
        {
          "output_type": "stream",
          "name": "stdout",
          "text": [
            "3\n",
            "2\n",
            "1\n"
          ]
        }
      ],
      "source": [
        "def countdown(n):\n",
        "    \"\"\"A simple countdown generator\"\"\"\n",
        "    while n > 0:\n",
        "        yield n\n",
        "        n -= 1\n",
        "\n",
        "\n",
        "\n",
        "\n",
        "\n",
        "\n",
        "for num in countdown(3):\n",
        "    print(num)\n"
      ]
    },
    {
      "cell_type": "code",
      "source": [
        "'''\n",
        "📈 Why Use Generators?\n",
        "Efficient for large datasets or infinite sequences\n",
        "\n",
        "Reduces memory usage\n",
        "\n",
        "Great for streaming data, reading large files, etc.\n",
        "'''"
      ],
      "metadata": {
        "id": "qkR_wQWVDPi2"
      },
      "execution_count": null,
      "outputs": []
    },
    {
      "cell_type": "markdown",
      "source": [
        "## 🚫 Common Mistake"
      ],
      "metadata": {
        "id": "xZLDvUfWDYtD"
      }
    },
    {
      "cell_type": "code",
      "source": [
        "def wrong_generator():\n",
        "    return 1  # ❌ Not a generator\n",
        "\n",
        "try:\n",
        "  gen = wrong_generator()\n",
        "  print(next(gen))  # ❌ Error: 'int' object is not an iterator\n",
        "except Exception as e:\n",
        "  print(e)\n"
      ],
      "metadata": {
        "colab": {
          "base_uri": "https://localhost:8080/"
        },
        "id": "fgxo4kACDXHB",
        "outputId": "568b6936-69e3-4e22-abd3-20df70e1187b"
      },
      "execution_count": null,
      "outputs": [
        {
          "output_type": "stream",
          "name": "stdout",
          "text": [
            "'int' object is not an iterator\n"
          ]
        }
      ]
    },
    {
      "cell_type": "code",
      "source": [],
      "metadata": {
        "id": "44S1IGLyDfd3"
      },
      "execution_count": null,
      "outputs": []
    },
    {
      "cell_type": "markdown",
      "source": [
        "# ⚖️ Difference Between `yield` and `return` in Python\n",
        "\n",
        "In Python, both `yield` and `return` are used inside functions, but they serve very different purposes, especially in **iterative** and **generator-based programming**.\n",
        "\n",
        "---\n",
        "\n",
        "## 🧾 `return` Statement\n",
        "\n",
        "- Used to **exit a function** and **return a single value**.\n",
        "- Once `return` is executed, the function terminates completely.\n",
        "- Cannot resume from where it left off.\n",
        "\n",
        "### ✅ Characteristics:\n",
        "- Ends function execution\n",
        "- Returns one value or object\n",
        "- Cannot be used in a generator\n",
        "\n",
        "---\n",
        "\n",
        "## 🔁 `yield` Statement\n",
        "\n",
        "- Used in **generator functions** to **pause** the function and **yield a value** to the caller.\n",
        "- Maintains function state between calls.\n",
        "- The function can **resume** from where it left off when called again.\n",
        "\n",
        "### ✅ Characteristics:\n",
        "- Pauses function execution\n",
        "- Returns a generator object\n",
        "- Can be resumed multiple times\n",
        "- Useful for large data and lazy evaluation\n",
        "\n",
        "---\n",
        "\n",
        "## 📊 Key Differences\n",
        "\n",
        "| Feature               | `return`                         | `yield`                            |\n",
        "|-----------------------|----------------------------------|------------------------------------|\n",
        "| Purpose               | Exit and return a value          | Yield one value at a time          |\n",
        "| Function type         | Normal function                  | Generator function                 |\n",
        "| Multiple values?      | No                               | Yes (over multiple calls)          |\n",
        "| Execution             | Ends function                    | Pauses function, can resume        |\n",
        "| Memory efficiency     | Less efficient for large data    | More efficient (lazy evaluation)   |\n",
        "| State Retention       | No                               | Yes                                |\n",
        "\n",
        "---\n",
        "\n",
        "## 🧪 Code Illustration\n",
        "\n",
        "### Using `return`\n",
        "```python\n",
        "def use_return():\n",
        "    return 5\n",
        "    return 10  # This will never be reached\n",
        "\n",
        "print(use_return())  # Output: 5\n"
      ],
      "metadata": {
        "id": "Z3-PnCG_DvPa"
      }
    },
    {
      "cell_type": "code",
      "source": [
        "def use_yield():\n",
        "    yield 5\n",
        "    yield 10\n",
        "\n",
        "gen = use_yield()\n",
        "print(next(gen))\n",
        "print(next(gen))\n"
      ],
      "metadata": {
        "colab": {
          "base_uri": "https://localhost:8080/"
        },
        "id": "uBA74zygDvt7",
        "outputId": "981b8151-a057-43ce-e5ce-3a8739c792e4"
      },
      "execution_count": null,
      "outputs": [
        {
          "output_type": "stream",
          "name": "stdout",
          "text": [
            "5\n",
            "10\n"
          ]
        }
      ]
    },
    {
      "cell_type": "code",
      "source": [],
      "metadata": {
        "id": "YA_UCP12D0AM"
      },
      "execution_count": null,
      "outputs": []
    },
    {
      "cell_type": "markdown",
      "source": [
        "## 🧪 Custom MyRange Class"
      ],
      "metadata": {
        "id": "ExPgxYy6EnVK"
      }
    },
    {
      "cell_type": "code",
      "source": [
        "class MyRange:\n",
        "    \"\"\"\n",
        "    A custom implementation of Python's built-in range function using OOP.\n",
        "\n",
        "    Attributes:\n",
        "        start (int): Starting value of the sequence.\n",
        "        stop (int): Ending value of the sequence (non-inclusive).\n",
        "        step (int): Step size between values.\n",
        "\n",
        "    Example:\n",
        "        for num in MyRange(1, 10, 2):\n",
        "            print(num)\n",
        "    \"\"\"\n",
        "\n",
        "    def __init__(self, start, stop=None, step=1):\n",
        "        if stop is None:\n",
        "            self.start = 0\n",
        "            self.stop = start\n",
        "        else:\n",
        "            self.start = start\n",
        "            self.stop = stop\n",
        "\n",
        "        self.step = step\n",
        "        self.current = self.start\n",
        "\n",
        "    def __iter__(self):\n",
        "        self.current = self.start  # Reset the iterator\n",
        "        return self\n",
        "\n",
        "    def __next__(self):\n",
        "        if (self.step > 0 and self.current >= self.stop) or (self.step < 0 and self.current <= self.stop):\n",
        "            raise StopIteration\n",
        "        else:\n",
        "            val = self.current\n",
        "            self.current += self.step\n",
        "            return val\n"
      ],
      "metadata": {
        "id": "Sns7a_JeEn7G"
      },
      "execution_count": null,
      "outputs": []
    },
    {
      "cell_type": "code",
      "source": [
        "# Positive step\n",
        "print(\"Range(1, 10, 2):\")\n",
        "for i in MyRange(1, 10, 2):\n",
        "    print(i, end=' ')\n",
        "\n",
        "# Negative step\n",
        "print(\"\\nRange(10, 1, -2):\")\n",
        "for i in MyRange(10, 1, -2):\n",
        "    print(i, end=' ')\n",
        "\n",
        "# Only stop (like range(5))\n",
        "print(\"\\nRange(5):\")\n",
        "for i in MyRange(5):\n",
        "    print(i, end=' ')\n"
      ],
      "metadata": {
        "colab": {
          "base_uri": "https://localhost:8080/"
        },
        "id": "qHXbxpGoEzco",
        "outputId": "24eb60de-2a63-48ba-c61f-0e17730e3ac3"
      },
      "execution_count": null,
      "outputs": [
        {
          "output_type": "stream",
          "name": "stdout",
          "text": [
            "Range(1, 10, 2):\n",
            "1 3 5 7 9 \n",
            "Range(10, 1, -2):\n",
            "10 8 6 4 2 \n",
            "Range(5):\n",
            "0 1 2 3 4 "
          ]
        }
      ]
    },
    {
      "cell_type": "code",
      "source": [],
      "metadata": {
        "id": "o3H_LzJqE260"
      },
      "execution_count": null,
      "outputs": []
    },
    {
      "cell_type": "markdown",
      "source": [
        "## Range function using generator"
      ],
      "metadata": {
        "id": "Xs8zqP7OFT8g"
      }
    },
    {
      "cell_type": "code",
      "source": [
        "def my_range(start, stop=None, step=1):\n",
        "    \"\"\"\n",
        "    A generator version of Python's built-in range() function.\n",
        "\n",
        "    Args:\n",
        "        start (int): Start value, or stop if stop is not provided.\n",
        "        stop (int, optional): Stop value. Required if start is specified.\n",
        "        step (int): Step between values.\n",
        "\n",
        "    Yields:\n",
        "        int: Next number in the range.\n",
        "\n",
        "    Examples:\n",
        "        list(my_range(5)) → [0, 1, 2, 3, 4]\n",
        "        list(my_range(2, 10, 2)) → [2, 4, 6, 8]\n",
        "    \"\"\"\n",
        "    if stop is None:\n",
        "        stop = start\n",
        "        start = 0\n",
        "\n",
        "    if step == 0:\n",
        "        raise ValueError(\"step argument must not be zero\")\n",
        "\n",
        "    if step > 0:\n",
        "        while start < stop:\n",
        "            yield start\n",
        "            start += step\n",
        "    else:\n",
        "        while start > stop:\n",
        "            yield start\n",
        "            start += step\n"
      ],
      "metadata": {
        "id": "dg1csCpaFNt_"
      },
      "execution_count": null,
      "outputs": []
    },
    {
      "cell_type": "code",
      "source": [
        "print(\"my_range(5):\")\n",
        "for num in my_range(5):\n",
        "    print(num, end=' ')\n",
        "\n",
        "print(\"\\nmy_range(2, 10, 2):\")\n",
        "for num in my_range(2, 10, 2):\n",
        "    print(num, end=' ')\n",
        "\n",
        "print(\"\\nmy_range(10, 2, -2):\")\n",
        "for num in my_range(10, 2, -2):\n",
        "    print(num, end=' ')\n"
      ],
      "metadata": {
        "colab": {
          "base_uri": "https://localhost:8080/"
        },
        "id": "FBaLo7vuFPu3",
        "outputId": "694dfb1a-f815-4b95-909d-1deb9e0bfa03"
      },
      "execution_count": null,
      "outputs": [
        {
          "output_type": "stream",
          "name": "stdout",
          "text": [
            "my_range(5):\n",
            "0 1 2 3 4 \n",
            "my_range(2, 10, 2):\n",
            "2 4 6 8 \n",
            "my_range(10, 2, -2):\n",
            "10 8 6 4 "
          ]
        }
      ]
    },
    {
      "cell_type": "code",
      "source": [],
      "metadata": {
        "id": "2lGMC1xBFR5l"
      },
      "execution_count": null,
      "outputs": []
    }
  ]
}