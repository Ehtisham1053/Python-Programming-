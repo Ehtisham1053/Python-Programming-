{
  "nbformat": 4,
  "nbformat_minor": 0,
  "metadata": {
    "colab": {
      "provenance": [],
      "authorship_tag": "ABX9TyOlpOCVmwLes6I9cJW36xdZ",
      "include_colab_link": true
    },
    "kernelspec": {
      "name": "python3",
      "display_name": "Python 3"
    },
    "language_info": {
      "name": "python"
    }
  },
  "cells": [
    {
      "cell_type": "markdown",
      "metadata": {
        "id": "view-in-github",
        "colab_type": "text"
      },
      "source": [
        "<a href=\"https://colab.research.google.com/github/Ehtisham1053/Python-Programming-/blob/main/Set.ipynb\" target=\"_parent\"><img src=\"https://colab.research.google.com/assets/colab-badge.svg\" alt=\"Open In Colab\"/></a>"
      ]
    },
    {
      "cell_type": "markdown",
      "source": [
        "## 🔹 What is a Set in Python?\n",
        "\n",
        "A **set** is an **unordered**, **unindexed** collection of **unique elements** in Python. It is **mutable**, but the elements inside a set must be **immutable** (e.g., numbers, strings, tuples).\n",
        "\n",
        "### ✅ Key Characteristics:\n",
        "- No duplicate elements\n",
        "- Elements are unordered (no indexing or slicing)\n",
        "- Supports mathematical set operations (union, intersection, etc.)\n",
        "- Defined using curly braces `{}` or the `set()` constructor\n",
        "\n",
        "---\n",
        "\n",
        "## 🛠️ Ways to Create a Set\n",
        "\n",
        "1. Using curly braces `{}`  \n",
        "2. Using `set()` constructor  \n",
        "3. From a list  \n",
        "4. From a tuple  \n",
        "5. From a string  \n",
        "6. From another set (copy)\n"
      ],
      "metadata": {
        "id": "y7xjlgI1bciB"
      }
    },
    {
      "cell_type": "code",
      "execution_count": 1,
      "metadata": {
        "colab": {
          "base_uri": "https://localhost:8080/"
        },
        "id": "r4c3Wk6jauJU",
        "outputId": "20f008b4-d4aa-4066-a40c-498d103f1b5b"
      },
      "outputs": [
        {
          "output_type": "stream",
          "name": "stdout",
          "text": [
            "Set A: {1, 2, 3, 4}\n",
            "Set B (from list): {4, 5, 6}\n",
            "Set C (from tuple, duplicates removed): {8, 9, 7}\n",
            "Set D (from string): {'e', 'h', 'l', 'o'}\n",
            "Empty set: set()\n",
            "Copied Set E: {1, 2, 3, 4}\n"
          ]
        }
      ],
      "source": [
        "# 1. Using curly braces\n",
        "set_a = {1, 2, 3, 4}\n",
        "print(\"Set A:\", set_a)\n",
        "\n",
        "# 2. Using set() constructor with iterable\n",
        "set_b = set([4, 5, 6])\n",
        "print(\"Set B (from list):\", set_b)\n",
        "\n",
        "# 3. From a tuple\n",
        "set_c = set((7, 8, 9, 9))\n",
        "print(\"Set C (from tuple, duplicates removed):\", set_c)\n",
        "\n",
        "# 4. From a string\n",
        "set_d = set(\"hello\")\n",
        "print(\"Set D (from string):\", set_d)\n",
        "\n",
        "# 5. Creating an empty set\n",
        "empty_set = set()\n",
        "print(\"Empty set:\", empty_set)\n",
        "\n",
        "# 6. Copying an existing set\n",
        "set_e = set_a.copy()\n",
        "print(\"Copied Set E:\", set_e)\n"
      ]
    },
    {
      "cell_type": "code",
      "source": [],
      "metadata": {
        "id": "Ce7cel6GbiOw"
      },
      "execution_count": null,
      "outputs": []
    }
  ]
}