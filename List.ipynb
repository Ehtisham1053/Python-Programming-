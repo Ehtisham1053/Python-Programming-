{
  "nbformat": 4,
  "nbformat_minor": 0,
  "metadata": {
    "colab": {
      "provenance": [],
      "authorship_tag": "ABX9TyPfdijKT5qSBWnhH7gmjXko",
      "include_colab_link": true
    },
    "kernelspec": {
      "name": "python3",
      "display_name": "Python 3"
    },
    "language_info": {
      "name": "python"
    }
  },
  "cells": [
    {
      "cell_type": "markdown",
      "metadata": {
        "id": "view-in-github",
        "colab_type": "text"
      },
      "source": [
        "<a href=\"https://colab.research.google.com/github/Ehtisham1053/Python-Programming-/blob/main/List.ipynb\" target=\"_parent\"><img src=\"https://colab.research.google.com/assets/colab-badge.svg\" alt=\"Open In Colab\"/></a>"
      ]
    },
    {
      "cell_type": "markdown",
      "source": [
        "### What is a List in Python?\n",
        "\n",
        "A **list** in Python is a built-in **mutable** (changeable) data structure that is used to **store multiple items in a single variable**. Lists can hold elements of different data types including integers, floats, strings, or even other lists.\n",
        "\n",
        "Python lists are:\n",
        "- **Ordered**: Elements have a defined order.\n",
        "- **Mutable**: You can change, add, or remove elements.\n",
        "- **Heterogeneous**: Can store different types of data in a single list.\n",
        "- **Indexable**: Each element is accessed using an index starting from 0.\n",
        "\n",
        "Lists are defined using **square brackets `[]`**, and the elements are separated by **commas**.\n",
        "\n",
        "**Syntax:**\n",
        "```python\n",
        "my_list = [1, 2, 3, \"apple\", 4.5, True]\n"
      ],
      "metadata": {
        "id": "4d20yI9TdDFl"
      }
    },
    {
      "cell_type": "code",
      "execution_count": null,
      "metadata": {
        "colab": {
          "base_uri": "https://localhost:8080/"
        },
        "id": "zMOFctGcZVZZ",
        "outputId": "51cdc6d5-0c31-4155-cefa-2d77bb555771"
      },
      "outputs": [
        {
          "output_type": "stream",
          "name": "stdout",
          "text": [
            "List: [1, 2, 3, 'apple', 4.5, True]\n",
            "List: [1, 2, 3, 4]\n"
          ]
        }
      ],
      "source": [
        "my_list = [1, 2, 3, \"apple\", 4.5, True]\n",
        "print(\"List:\", my_list)\n",
        "my_list = [1,2,3,4]\n",
        "print(\"List:\", my_list)"
      ]
    },
    {
      "cell_type": "code",
      "source": [],
      "metadata": {
        "id": "qYslHp0EdKO3"
      },
      "execution_count": null,
      "outputs": []
    },
    {
      "cell_type": "markdown",
      "source": [
        "# list vs array"
      ],
      "metadata": {
        "id": "2veBN3JxdjsJ"
      }
    },
    {
      "cell_type": "markdown",
      "source": [
        "### List vs Array in Python\n",
        "\n",
        "| Feature              | List                                  | Array (from `array` module)             |\n",
        "|----------------------|----------------------------------------|-----------------------------------------|\n",
        "| Data Type            | Can store different data types         | Stores only similar data types          |\n",
        "| Flexibility          | More flexible                          | Less flexible, more memory efficient    |\n",
        "| Performance          | Slightly slower for large data         | Faster for numerical data operations    |\n",
        "| Memory Usage         | More memory                           | Less memory                             |\n",
        "| Import Requirement   | No need to import                      | Must import `array` module              |\n",
        "| Use Case             | General-purpose storage                | Numeric computations                    |\n",
        "| Methods              | Rich set of methods and functions      | Limited methods                         |\n",
        "\n",
        "#### Summary:\n",
        "- Use **list** when dealing with a collection of mixed or non-numeric data types.\n",
        "- Use **array** (from `array` module or NumPy) for numeric computations and performance optimization.\n"
      ],
      "metadata": {
        "id": "WIAqnhpZdl7P"
      }
    },
    {
      "cell_type": "code",
      "source": [
        "# List Example\n",
        "my_list = [1, \"two\", 3.0, True]\n",
        "print(\"List:\", my_list)\n",
        "\n",
        "# Array Example (using array module)\n",
        "import array\n",
        "\n",
        "# All elements must be of the same type (e.g., integers)\n",
        "my_array = array.array('i', [1, 2, 3, 4])\n",
        "print(\"Array:\", my_array)\n",
        "\n",
        "# Access elements\n",
        "print(\"\\nAccess elements\")\n",
        "print(\"List first element:\", my_list[0])\n",
        "print(\"Array first element:\", my_array[0])\n",
        "\n",
        "# Add elements\n",
        "print(\"\\nAdd elements\")\n",
        "my_list.append(\"new\")\n",
        "print(\"List after append:\", my_list)\n",
        "\n",
        "my_array.append(5)\n",
        "print(\"Array after append:\", my_array)\n",
        "\n",
        "# Type enforcement (array will raise error on wrong type)\n",
        "print(\"\\nType enforcement\")\n",
        "try:\n",
        "    my_array.append(\"wrong\")  # Will raise an error\n",
        "except TypeError as e:\n",
        "    print(\"Array error:\", e)\n"
      ],
      "metadata": {
        "colab": {
          "base_uri": "https://localhost:8080/"
        },
        "id": "2rAQK1AodlLt",
        "outputId": "ff40faf0-380a-4612-8bb0-3bf3ab2ddd6e"
      },
      "execution_count": 1,
      "outputs": [
        {
          "output_type": "stream",
          "name": "stdout",
          "text": [
            "List: [1, 'two', 3.0, True]\n",
            "Array: array('i', [1, 2, 3, 4])\n",
            "\n",
            "Access elements\n",
            "List first element: 1\n",
            "Array first element: 1\n",
            "\n",
            "Add elements\n",
            "List after append: [1, 'two', 3.0, True, 'new']\n",
            "Array after append: array('i', [1, 2, 3, 4, 5])\n",
            "\n",
            "Type enforcement\n",
            "Array error: 'str' object cannot be interpreted as an integer\n"
          ]
        }
      ]
    },
    {
      "cell_type": "code",
      "source": [],
      "metadata": {
        "id": "QwMNFo_9d2aI"
      },
      "execution_count": null,
      "outputs": []
    },
    {
      "cell_type": "markdown",
      "source": [
        "# How list data is stored in memory"
      ],
      "metadata": {
        "id": "2NPFxYxIeKo5"
      }
    },
    {
      "cell_type": "markdown",
      "source": [
        "### How List Data is Stored in Memory in Python\n",
        "\n",
        "In Python, a **list** is implemented as a **dynamic array of pointers**. Here's how the data is stored and managed in memory:\n",
        "\n",
        "#### Key Characteristics:\n",
        "\n",
        "- **Dynamic Size**: Python lists can grow or shrink dynamically. When the list exceeds its current memory allocation, it resizes itself by allocating more memory.\n",
        "  \n",
        "- **Memory Allocation**: Instead of storing the values directly, a list stores **references (or pointers)** to the objects in memory. Each element in the list is a pointer to the actual data stored elsewhere in memory.\n",
        "\n",
        "- **Heterogeneous Elements**: Because lists store references, they can hold elements of different data types (e.g., integers, strings, objects).\n",
        "\n",
        "- **Internal Representation**: Internally, Python uses an array of pointers (`PyObject*`) in C to implement a list.\n",
        "\n",
        "#### Example:\n",
        "If you create a list like:\n",
        "```python\n",
        "my_list = [10, \"apple\", 3.14]\n"
      ],
      "metadata": {
        "id": "olkcdcxbeO-g"
      }
    },
    {
      "cell_type": "code",
      "source": [
        "import sys\n",
        "my_list = [10, \"apple\", 3.14, True]\n",
        "\n",
        "\n",
        "for index, item in enumerate(my_list):\n",
        "    print(f\"Index {index}: Value = {item}, Type = {type(item)}, Memory Address = {id(item)}, Size = {sys.getsizeof(item)} bytes\")\n",
        "\n",
        "print(\"\\nTotal memory used by the list object (excluding elements):\", sys.getsizeof(my_list), \"bytes\")\n",
        "\n",
        "\n",
        "\n",
        "l = [1,2,3]\n",
        "print(\"\\nMemory address of the l: \",id(l))\n",
        "print(\"Memory address of 1\" , id(l[0]))\n",
        "print(\"Memory address of 2\" , id(l[1]))\n",
        "print(\"Memory address of 3\" , id(l[2]))\n"
      ],
      "metadata": {
        "colab": {
          "base_uri": "https://localhost:8080/"
        },
        "id": "f7trcuBseNVD",
        "outputId": "f3314375-b752-4093-b2f2-ac318cb5994c"
      },
      "execution_count": 4,
      "outputs": [
        {
          "output_type": "stream",
          "name": "stdout",
          "text": [
            "Index 0: Value = 10, Type = <class 'int'>, Memory Address = 10751144, Size = 28 bytes\n",
            "Index 1: Value = apple, Type = <class 'str'>, Memory Address = 133306003221424, Size = 54 bytes\n",
            "Index 2: Value = 3.14, Type = <class 'float'>, Memory Address = 133304882901296, Size = 24 bytes\n",
            "Index 3: Value = True, Type = <class 'bool'>, Memory Address = 9692800, Size = 28 bytes\n",
            "\n",
            "Total memory used by the list object (excluding elements): 88 bytes\n",
            "\n",
            "Memory address of the l:  133304882506112\n",
            "Memory address of 1 10750856\n",
            "Memory address of 2 10750888\n",
            "Memory address of 3 10750920\n"
          ]
        }
      ]
    },
    {
      "cell_type": "code",
      "source": [],
      "metadata": {
        "id": "_a-89jEFeaXb"
      },
      "execution_count": null,
      "outputs": []
    }
  ]
}