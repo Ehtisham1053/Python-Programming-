{
  "nbformat": 4,
  "nbformat_minor": 0,
  "metadata": {
    "colab": {
      "provenance": [],
      "authorship_tag": "ABX9TyPgwEaoCXsDRf5bm1Oh0zCp",
      "include_colab_link": true
    },
    "kernelspec": {
      "name": "python3",
      "display_name": "Python 3"
    },
    "language_info": {
      "name": "python"
    }
  },
  "cells": [
    {
      "cell_type": "markdown",
      "metadata": {
        "id": "view-in-github",
        "colab_type": "text"
      },
      "source": [
        "<a href=\"https://colab.research.google.com/github/Ehtisham1053/Python-Programming-/blob/main/String_and_itsfuntions.ipynb\" target=\"_parent\"><img src=\"https://colab.research.google.com/assets/colab-badge.svg\" alt=\"Open In Colab\"/></a>"
      ]
    },
    {
      "cell_type": "markdown",
      "source": [
        "# Creating a string"
      ],
      "metadata": {
        "id": "94_WhCTALDFY"
      }
    },
    {
      "cell_type": "code",
      "execution_count": 1,
      "metadata": {
        "id": "wemXe2rN-0l7",
        "colab": {
          "base_uri": "https://localhost:8080/"
        },
        "outputId": "e7adba68-4125-4082-db4d-0b87b4422b20"
      },
      "outputs": [
        {
          "output_type": "stream",
          "name": "stdout",
          "text": [
            "Hello World\n",
            "This is \n",
            "a multi-line string.\n"
          ]
        }
      ],
      "source": [
        "# Creating strings\n",
        "str1 = \"Hello\"\n",
        "str2 = 'World'\n",
        "str3 = \"\"\"This is\n",
        "a multi-line string.\"\"\"\n",
        "print(str1, str2)\n",
        "print(str3)"
      ]
    },
    {
      "cell_type": "code",
      "source": [
        "# String concatenation and repetition\n",
        "full = str1 + \" \" + str2\n",
        "print(\"Concatenated String:\", full)\n",
        "print(\"Repeated String:\", str1 * 3)\n"
      ],
      "metadata": {
        "id": "q97B4y06M26E",
        "outputId": "a310d5fc-b480-4611-9c2e-6d8d0b5f5694",
        "colab": {
          "base_uri": "https://localhost:8080/"
        }
      },
      "execution_count": 2,
      "outputs": [
        {
          "output_type": "stream",
          "name": "stdout",
          "text": [
            "Concatenated String: Hello World\n",
            "Repeated String: HelloHelloHello\n"
          ]
        }
      ]
    },
    {
      "cell_type": "markdown",
      "source": [
        "# Accessing the string"
      ],
      "metadata": {
        "id": "JKYqrkpwMkEv"
      }
    },
    {
      "cell_type": "code",
      "source": [
        "# Accessing characters and slicing\n",
        "str1 = \"Python\"\n",
        "print(\"First character:\", str1[0])\n",
        "print(\"Last character:\", str1[-1])\n",
        "print(\"Substring (2 to 4):\", str1[1:4])\n",
        "str1 = \"Ehtisham\"\n",
        "print(\"First character\" , str1[0])"
      ],
      "metadata": {
        "colab": {
          "base_uri": "https://localhost:8080/"
        },
        "id": "krY2Ex19K7Qo",
        "outputId": "4f986c9f-8032-4590-ab2f-30c2c3cc5c91"
      },
      "execution_count": 4,
      "outputs": [
        {
          "output_type": "stream",
          "name": "stdout",
          "text": [
            "First character: P\n",
            "Last character: n\n",
            "Substring (2 to 4): yth\n",
            "first character E\n"
          ]
        }
      ]
    },
    {
      "cell_type": "code",
      "source": [],
      "metadata": {
        "id": "7QZCEYTJM-BS"
      },
      "execution_count": null,
      "outputs": []
    }
  ]
}