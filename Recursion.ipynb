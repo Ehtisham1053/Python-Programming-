{
  "nbformat": 4,
  "nbformat_minor": 0,
  "metadata": {
    "colab": {
      "provenance": [],
      "authorship_tag": "ABX9TyNZ9BIKeNy8uwgHiBV+50Bz",
      "include_colab_link": true
    },
    "kernelspec": {
      "name": "python3",
      "display_name": "Python 3"
    },
    "language_info": {
      "name": "python"
    }
  },
  "cells": [
    {
      "cell_type": "markdown",
      "metadata": {
        "id": "view-in-github",
        "colab_type": "text"
      },
      "source": [
        "<a href=\"https://colab.research.google.com/github/Ehtisham1053/Python-Programming-/blob/main/Recursion.ipynb\" target=\"_parent\"><img src=\"https://colab.research.google.com/assets/colab-badge.svg\" alt=\"Open In Colab\"/></a>"
      ]
    },
    {
      "cell_type": "markdown",
      "source": [
        "# 📘 Recursion in Python\n",
        "\n",
        "---\n",
        "\n",
        "## 🔁 What is Recursion?\n",
        "\n",
        "**Recursion** is a programming technique where a function **calls itself** to solve a problem. It helps break down complex problems into simpler sub-problems by solving smaller instances of the same problem.\n",
        "\n",
        "---\n",
        "\n",
        "## 🔗 Components of Recursion\n",
        "\n",
        "### ✅ Base Case\n",
        "- The condition that **stops the recursion**.\n",
        "- It ensures the recursion **terminates**.\n",
        "- Prevents **infinite loops** or **stack overflow**.\n",
        "\n",
        "### 🔁 Recursive Case\n",
        "- The part where the function **calls itself**.\n",
        "- Gradually brings the problem **closer to the base case**.\n",
        "\n",
        "---\n"
      ],
      "metadata": {
        "id": "ExSM4IkDOzgy"
      }
    },
    {
      "cell_type": "code",
      "execution_count": null,
      "metadata": {
        "id": "rR71LcBhJ3sA"
      },
      "outputs": [],
      "source": [
        "# Syntax\n",
        "'''\n",
        "def recursive_function(parameters):\n",
        "    if base_case_condition:\n",
        "        return base_result\n",
        "    else:\n",
        "        return recursive_function(modified_parameters)\n",
        "\n",
        "'''"
      ]
    },
    {
      "cell_type": "markdown",
      "source": [
        "# 📌 Example 1: Factorial"
      ],
      "metadata": {
        "id": "pNvJCcV6PCtg"
      }
    },
    {
      "cell_type": "code",
      "source": [
        "def factorial(n):\n",
        "    \"\"\"Returns factorial of a number using recursion.\"\"\"\n",
        "    if n == 0 or n == 1:  # Base case\n",
        "        return 1\n",
        "    else:  # Recursive case\n",
        "        return n * factorial(n - 1)\n",
        "\n",
        "\n",
        "print(factorial(5))\n"
      ],
      "metadata": {
        "colab": {
          "base_uri": "https://localhost:8080/"
        },
        "id": "-XJGRZzhO5lS",
        "outputId": "51d16363-8812-4267-cc31-9a663c68426d"
      },
      "execution_count": 1,
      "outputs": [
        {
          "output_type": "stream",
          "name": "stdout",
          "text": [
            "120\n"
          ]
        }
      ]
    },
    {
      "cell_type": "markdown",
      "source": [
        "## 📌 Example 2: Fibonacci Series"
      ],
      "metadata": {
        "id": "6HbL8YMrPO7q"
      }
    },
    {
      "cell_type": "code",
      "source": [
        "def fibonacci(n):\n",
        "    \"\"\"Returns nth Fibonacci number using recursion.\"\"\"\n",
        "    if n == 0:\n",
        "        return 0\n",
        "    elif n == 1:\n",
        "        return 1\n",
        "    else:\n",
        "        return fibonacci(n - 1) + fibonacci(n - 2)\n",
        "\n",
        "\n",
        "print(fibonacci(6))\n"
      ],
      "metadata": {
        "colab": {
          "base_uri": "https://localhost:8080/"
        },
        "id": "xEw_CWmXPExI",
        "outputId": "b1802828-b87e-4671-a969-7a919031931f"
      },
      "execution_count": 2,
      "outputs": [
        {
          "output_type": "stream",
          "name": "stdout",
          "text": [
            "8\n"
          ]
        }
      ]
    },
    {
      "cell_type": "markdown",
      "source": [
        "## 📌 Example 3: Sum of Natural Numbers"
      ],
      "metadata": {
        "id": "rH833vmiPXgj"
      }
    },
    {
      "cell_type": "code",
      "source": [
        "def sum_natural(n):\n",
        "    \"\"\"Returns sum of natural numbers up to n using recursion.\"\"\"\n",
        "    if n == 1:\n",
        "        return 1\n",
        "    else:\n",
        "        return n + sum_natural(n - 1)\n",
        "\n",
        "\n",
        "print(sum_natural(5))\n"
      ],
      "metadata": {
        "colab": {
          "base_uri": "https://localhost:8080/"
        },
        "id": "vjhqHoBWPSNG",
        "outputId": "807b67a1-53e3-46bb-b4d8-3e8dba700ac0"
      },
      "execution_count": 3,
      "outputs": [
        {
          "output_type": "stream",
          "name": "stdout",
          "text": [
            "15\n"
          ]
        }
      ]
    },
    {
      "cell_type": "code",
      "source": [],
      "metadata": {
        "id": "O4vyfDdePZV2"
      },
      "execution_count": null,
      "outputs": []
    }
  ]
}