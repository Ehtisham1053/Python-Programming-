{
  "nbformat": 4,
  "nbformat_minor": 0,
  "metadata": {
    "colab": {
      "provenance": [],
      "authorship_tag": "ABX9TyPi+TAG15WG5xA79INS2H+x",
      "include_colab_link": true
    },
    "kernelspec": {
      "name": "python3",
      "display_name": "Python 3"
    },
    "language_info": {
      "name": "python"
    }
  },
  "cells": [
    {
      "cell_type": "markdown",
      "metadata": {
        "id": "view-in-github",
        "colab_type": "text"
      },
      "source": [
        "<a href=\"https://colab.research.google.com/github/Ehtisham1053/Python-Programming-/blob/main/Dictionary.ipynb\" target=\"_parent\"><img src=\"https://colab.research.google.com/assets/colab-badge.svg\" alt=\"Open In Colab\"/></a>"
      ]
    },
    {
      "cell_type": "markdown",
      "source": [
        "## 📚 What is a Dictionary (`dict`) in Python?\n",
        "\n",
        "A dictionary in Python is an **unordered**, **mutable**, and **indexed** collection that stores data in **key-value pairs**.\n",
        "\n",
        "### ✅ Characteristics:\n",
        "- Each key in a dictionary must be unique and immutable.\n",
        "- Values can be of any data type and can be duplicated.\n",
        "- Defined using `{ key: value }` syntax.\n",
        "\n",
        "---\n",
        "\n",
        "### 🛠️ Different Ways to Create a Dictionary:\n",
        "\n",
        "1. **Using curly braces `{}`**\n",
        "2. **Using the `dict()` constructor**\n",
        "3. **Using list of tuples**\n",
        "4. **Using dictionary comprehension**\n"
      ],
      "metadata": {
        "id": "ka2BXKc7ni2W"
      }
    },
    {
      "cell_type": "code",
      "execution_count": null,
      "metadata": {
        "colab": {
          "base_uri": "https://localhost:8080/"
        },
        "id": "uk5QDjWZnX1C",
        "outputId": "c756e53a-78a7-41ac-dc08-58e2439d1017"
      },
      "outputs": [
        {
          "output_type": "stream",
          "name": "stdout",
          "text": [
            "Dict 1: {'name': 'Alice', 'age': 25, 'city': 'Lahore'}\n",
            "Dict 2: {'name': 'Bob', 'age': 30, 'city': 'Karachi'}\n",
            "Dict 3: {'name': 'Charlie', 'age': 28, 'city': 'Islamabad'}\n",
            "Dict 4 (Comprehension): {1: 1, 2: 4, 3: 9}\n"
          ]
        }
      ],
      "source": [
        "# 1️⃣ Using curly braces\n",
        "dict1 = {\"name\": \"Alice\", \"age\": 25, \"city\": \"Lahore\"}\n",
        "print(\"Dict 1:\", dict1)\n",
        "\n",
        "# 2️⃣ Using dict() constructor\n",
        "dict2 = dict(name=\"Bob\", age=30, city=\"Karachi\")\n",
        "print(\"Dict 2:\", dict2)\n",
        "\n",
        "# 3️⃣ Using list of tuples\n",
        "dict3 = dict([(\"name\", \"Charlie\"), (\"age\", 28), (\"city\", \"Islamabad\")])\n",
        "print(\"Dict 3:\", dict3)\n",
        "\n",
        "# 4️⃣ Using dictionary comprehension\n",
        "dict4 = {x: x**2 for x in range(1, 4)}\n",
        "print(\"Dict 4 (Comprehension):\", dict4)\n"
      ]
    },
    {
      "cell_type": "code",
      "source": [],
      "metadata": {
        "id": "dBmGGXlooMZB"
      },
      "execution_count": null,
      "outputs": []
    },
    {
      "cell_type": "markdown",
      "source": [
        "## 📚 Characteristics of `dict` in Python\n",
        "\n",
        "A dictionary (`dict`) in Python is a powerful and flexible data structure. Here are its main characteristics:\n",
        "\n",
        "---\n",
        "\n",
        "### ✅ 1. **Unordered (Before Python 3.7) / Ordered (Python 3.7+)**\n",
        "- From Python 3.7 onwards, dictionaries preserve insertion order.\n",
        "- Prior to Python 3.7, dictionaries did not guarantee order.\n",
        "\n",
        "---\n",
        "\n",
        "### ✅ 2. **Key-Value Pairs**\n",
        "- Data is stored in `key: value` format.\n",
        "- Keys must be unique and immutable (e.g., strings, numbers, tuples).\n",
        "- Values can be any data type and can be duplicated.\n",
        "\n",
        "---\n",
        "\n",
        "### ✅ 3. **Mutable**\n",
        "- Dictionaries can be changed after creation.\n",
        "- You can add, update, or delete key-value pairs.\n",
        "\n",
        "---\n",
        "\n",
        "### ✅ 4. **Dynamic Size**\n",
        "- You can add or remove items at runtime.\n",
        "- There is no fixed size.\n",
        "\n",
        "---\n",
        "\n",
        "### ✅ 5. **Efficient Lookup**\n",
        "- Dictionaries provide fast access to data using keys (on average O(1) time complexity).\n",
        "\n",
        "---\n",
        "\n",
        "### ✅ 6. **Nested Dictionaries**\n",
        "- You can store dictionaries within dictionaries (multi-level structure).\n",
        "\n",
        "---\n",
        "\n",
        "### ✅ 7. **Supports Various Methods**\n",
        "- Common methods include `.get()`, `.keys()`, `.values()`, `.items()`, `.pop()`, `.update()`, and more.\n"
      ],
      "metadata": {
        "id": "-0W108LpofR3"
      }
    },
    {
      "cell_type": "code",
      "source": [],
      "metadata": {
        "id": "g-e2X1gKof1E"
      },
      "execution_count": null,
      "outputs": []
    },
    {
      "cell_type": "markdown",
      "source": [
        "## 🔍 Accessing Items from a Dictionary in Python\n",
        "\n",
        "You can access dictionary values using the following methods:\n",
        "\n",
        "---\n",
        "\n",
        "### 1️⃣ Using Square Brackets `[]`\n",
        "- Access the value directly by key.\n",
        "- Raises `KeyError` if the key does not exist.\n",
        "\n",
        "```python\n",
        "value = my_dict[\"key\"]\n"
      ],
      "metadata": {
        "id": "Y9lRtR6hp0Ej"
      }
    },
    {
      "cell_type": "code",
      "source": [
        "# Sample dictionary\n",
        "my_dict = {\n",
        "    \"name\": \"Alice\",\n",
        "    \"age\": 25,\n",
        "    \"city\": \"Lahore\"\n",
        "}\n",
        "\n",
        "# 1. Accessing with square brackets\n",
        "print(\"Name:\", my_dict[\"name\"])\n",
        "\n",
        "# 2. Accessing with get()\n",
        "print(\"Age:\", my_dict.get(\"age\"))\n",
        "print(\"Gender (using get):\", my_dict.get(\"gender\"))\n",
        "print(\"Gender (with default):\", my_dict.get(\"gender\", \"Not specified\"))\n",
        "\n",
        "# 3. Accessing keys, values, and items\n",
        "print(\"Keys:\", list(my_dict.keys()))\n",
        "print(\"Values:\", list(my_dict.values()))\n",
        "print(\"Items:\", list(my_dict.items()))"
      ],
      "metadata": {
        "colab": {
          "base_uri": "https://localhost:8080/"
        },
        "id": "BhuwwSVfp0lw",
        "outputId": "f6a59c26-0363-420b-e3fc-7bac55ea796f"
      },
      "execution_count": null,
      "outputs": [
        {
          "output_type": "stream",
          "name": "stdout",
          "text": [
            "Name: Alice\n",
            "Age: 25\n",
            "Gender (using get): None\n",
            "Gender (with default): Not specified\n",
            "Keys: ['name', 'age', 'city']\n",
            "Values: ['Alice', 25, 'Lahore']\n",
            "Items: [('name', 'Alice'), ('age', 25), ('city', 'Lahore')]\n"
          ]
        }
      ]
    },
    {
      "cell_type": "code",
      "source": [],
      "metadata": {
        "id": "Rt6TlBNMp59d"
      },
      "execution_count": null,
      "outputs": []
    },
    {
      "cell_type": "markdown",
      "source": [
        "## ➕➖ Adding and Removing Items from a Dictionary in Python\n",
        "\n",
        "---\n",
        "\n",
        "### ✅ Adding Items\n",
        "\n",
        "1. **Using Assignment**  \n",
        "   Add a new key-value pair by assigning a value to a new key.\n",
        "\n",
        "```python\n",
        "my_dict[\"new_key\"] = new_value\n"
      ],
      "metadata": {
        "id": "u3dhM44yqFy-"
      }
    },
    {
      "cell_type": "code",
      "source": [
        "# Original dictionary\n",
        "my_dict = {\"name\": \"Alice\", \"age\": 25}\n",
        "print(\"Original Dictionary:\", my_dict)\n",
        "\n",
        "# ➕ Adding Items\n",
        "my_dict[\"city\"] = \"Lahore\"  # Using assignment\n",
        "my_dict.update({\"gender\": \"Female\", \"email\": \"ehtisham@gmail.com\"})  # Using update()\n",
        "print(\"After Adding:\", my_dict)\n",
        "\n",
        "# ❌ Removing Items\n",
        "my_dict.pop(\"age\")  # Remove using pop()\n",
        "print(\"After pop('age'):\", my_dict)\n",
        "\n",
        "del my_dict[\"city\"]  # Remove using del\n",
        "print(\"After del city:\", my_dict)\n",
        "\n",
        "my_dict.popitem()  # Remove last inserted item\n",
        "print(\"After popitem():\", my_dict)\n",
        "\n",
        "my_dict.clear()  # Clear all items\n",
        "print(\"After clear():\", my_dict)"
      ],
      "metadata": {
        "colab": {
          "base_uri": "https://localhost:8080/"
        },
        "id": "YNblh3sAqGRp",
        "outputId": "6c4a0f84-1a9a-496d-c5d0-c82956c3bed5"
      },
      "execution_count": null,
      "outputs": [
        {
          "output_type": "stream",
          "name": "stdout",
          "text": [
            "Original Dictionary: {'name': 'Alice', 'age': 25}\n",
            "After Adding: {'name': 'Alice', 'age': 25, 'city': 'Lahore', 'gender': 'Female', 'email': 'ehtisham@gmail.com'}\n",
            "After pop('age'): {'name': 'Alice', 'city': 'Lahore', 'gender': 'Female', 'email': 'ehtisham@gmail.com'}\n",
            "After del city: {'name': 'Alice', 'gender': 'Female', 'email': 'ehtisham@gmail.com'}\n",
            "After popitem(): {'name': 'Alice', 'gender': 'Female'}\n",
            "After clear(): {}\n"
          ]
        }
      ]
    },
    {
      "cell_type": "code",
      "source": [],
      "metadata": {
        "id": "EX6WIFp_qNZ3"
      },
      "execution_count": null,
      "outputs": []
    },
    {
      "cell_type": "markdown",
      "source": [
        "## ⚙️ Dictionary Operations in Python\n",
        "\n",
        "Python dictionaries support several operations that help manipulate key-value pairs effectively. Below is the list of common operations with explanations and syntax:\n",
        "\n",
        "---\n",
        "\n",
        "### ✅ 1. Membership Operators (`in`, `not in`)\n",
        "- Used to check if a **key** exists in the dictionary.\n",
        "- Only keys are considered, not values.\n",
        "\n",
        "```python\n",
        "\"key\" in my_dict        # True if the key exists\n",
        "\"key\" not in my_dict    # True if the key does not exist\n"
      ],
      "metadata": {
        "id": "Map2mi98q1-7"
      }
    },
    {
      "cell_type": "code",
      "source": [
        "# Sample dictionaries\n",
        "dict1 = {\"name\": \"Ali\", \"age\": 22}\n",
        "dict2 = {\"city\": \"Lahore\", \"country\": \"Pakistan\"}\n",
        "dict3 = {\"name\": \"Ali\", \"age\": 22}\n",
        "\n",
        "# Membership Operators\n",
        "print(\"name\" in dict1)\n",
        "print(\"gender\" not in dict1)\n",
        "\n",
        "# Arithmetic-like operation (Merging)\n",
        "merged_dict = dict1 | dict2\n",
        "print(\"Merged Dict:\", merged_dict)\n",
        "\n",
        "# Logical Operators\n",
        "if dict1:\n",
        "    print(\"dict1 is not empty\")\n",
        "else:\n",
        "    print(\"dict1 is empty\")\n",
        "\n",
        "empty_dict = {}\n",
        "if not empty_dict:\n",
        "    print(\"empty_dict is empty\")\n",
        "\n",
        "# Assignment Operators\n",
        "dict1[\"age\"] = 23\n",
        "dict1[\"gender\"] = \"Male\"\n",
        "dict1.update({\"country\": \"Pakistan\"})\n",
        "\n",
        "print(\"Updated dict1:\", dict1)\n",
        "\n",
        "# Comparison Operators\n",
        "print(dict1 == dict3)\n",
        "print(dict1 != dict3)"
      ],
      "metadata": {
        "colab": {
          "base_uri": "https://localhost:8080/"
        },
        "id": "o8y7T2QIq2h_",
        "outputId": "198b033c-f0c1-4455-d9db-fa98c8b7bb7d"
      },
      "execution_count": null,
      "outputs": [
        {
          "output_type": "stream",
          "name": "stdout",
          "text": [
            "True\n",
            "True\n",
            "Merged Dict: {'name': 'Ali', 'age': 22, 'city': 'Lahore', 'country': 'Pakistan'}\n",
            "dict1 is not empty\n",
            "empty_dict is empty\n",
            "Updated dict1: {'name': 'Ali', 'age': 23, 'gender': 'Male', 'country': 'Pakistan'}\n",
            "False\n",
            "True\n"
          ]
        }
      ]
    },
    {
      "cell_type": "code",
      "source": [],
      "metadata": {
        "id": "cX1VEDyhq_6Q"
      },
      "execution_count": null,
      "outputs": []
    },
    {
      "cell_type": "markdown",
      "source": [
        "# Dictionary Function"
      ],
      "metadata": {
        "id": "l5A9OBBmrKmr"
      }
    },
    {
      "cell_type": "code",
      "source": [
        "# Dictionary functions in Python\n",
        "\n",
        "# Sample dictionary\n",
        "my_dict = {\n",
        "    \"name\": \"Ali\",\n",
        "    \"age\": 22,\n",
        "    \"city\": \"Lahore\",\n",
        "    \"gender\": \"Male\"\n",
        "}\n",
        "\n",
        "# 1. clear() - Removes all items from the dictionary\n",
        "my_dict.clear()\n",
        "print(\"After clear():\", my_dict)  # Output: {}\n",
        "\n",
        "# Sample dictionary for further operations\n",
        "my_dict = {\n",
        "    \"name\": \"Ali\",\n",
        "    \"age\": 22,\n",
        "    \"city\": \"Lahore\",\n",
        "    \"gender\": \"Male\"\n",
        "}\n",
        "\n",
        "# 2. copy() - Returns a shallow copy of the dictionary\n",
        "dict_copy = my_dict.copy()\n",
        "print(\"Copied Dictionary:\", dict_copy)\n",
        "\n",
        "# 3. get() - Returns the value for the given key. Returns None if the key doesn't exist.\n",
        "name = my_dict.get(\"name\")  # Returns \"Ali\"\n",
        "age = my_dict.get(\"age\")    # Returns 22\n",
        "country = my_dict.get(\"country\", \"Not Available\")  # Default value if key doesn't exist\n",
        "print(\"Name:\", name)\n",
        "print(\"Age:\", age)\n",
        "print(\"Country:\", country)\n",
        "\n",
        "# 4. items() - Returns a view object that displays a list of a dictionary's key-value tuple pairs\n",
        "items = my_dict.items()\n",
        "print(\"Items:\", items)\n",
        "\n",
        "# 5. keys() - Returns a view object that displays all the keys in the dictionary\n",
        "keys = my_dict.keys()\n",
        "print(\"Keys:\", keys)\n",
        "\n",
        "# 6. pop() - Removes and returns the value for the given key\n",
        "removed_value = my_dict.pop(\"age\")  # Removes \"age\" and returns 22\n",
        "print(\"Removed value:\", removed_value)\n",
        "print(\"Dictionary after pop:\", my_dict)\n",
        "\n",
        "# 7. popitem() - Removes and returns a random key-value pair\n",
        "random_item = my_dict.popitem()\n",
        "print(\"Random item removed:\", random_item)\n",
        "print(\"Dictionary after popitem:\", my_dict)\n",
        "\n",
        "# 8. setdefault() - Returns the value of a key. If the key doesn't exist, inserts the key with a default value.\n",
        "my_dict.setdefault(\"country\", \"Pakistan\")  # Key does not exist, so it's added\n",
        "print(\"Dictionary after setdefault:\", my_dict)\n",
        "\n",
        "# 9. update() - Updates the dictionary with the key-value pairs from another dictionary or iterable\n",
        "my_dict.update({\"language\": \"English\", \"age\": 23})\n",
        "print(\"Dictionary after update:\", my_dict)\n",
        "\n",
        "# 10. values() - Returns a view object that displays all the values in the dictionary\n",
        "values = my_dict.values()\n",
        "print(\"Values:\", values)\n"
      ],
      "metadata": {
        "colab": {
          "base_uri": "https://localhost:8080/"
        },
        "id": "dlAbtsnCrM-I",
        "outputId": "288564f8-ac82-4ef2-bc2c-8eeb3136e50e"
      },
      "execution_count": null,
      "outputs": [
        {
          "output_type": "stream",
          "name": "stdout",
          "text": [
            "After clear(): {}\n",
            "Copied Dictionary: {'name': 'Ali', 'age': 22, 'city': 'Lahore', 'gender': 'Male'}\n",
            "Name: Ali\n",
            "Age: 22\n",
            "Country: Not Available\n",
            "Items: dict_items([('name', 'Ali'), ('age', 22), ('city', 'Lahore'), ('gender', 'Male')])\n",
            "Keys: dict_keys(['name', 'age', 'city', 'gender'])\n",
            "Removed value: 22\n",
            "Dictionary after pop: {'name': 'Ali', 'city': 'Lahore', 'gender': 'Male'}\n",
            "Random item removed: ('gender', 'Male')\n",
            "Dictionary after popitem: {'name': 'Ali', 'city': 'Lahore'}\n",
            "Dictionary after setdefault: {'name': 'Ali', 'city': 'Lahore', 'country': 'Pakistan'}\n",
            "Dictionary after update: {'name': 'Ali', 'city': 'Lahore', 'country': 'Pakistan', 'language': 'English', 'age': 23}\n",
            "Values: dict_values(['Ali', 'Lahore', 'Pakistan', 'English', 23])\n"
          ]
        }
      ]
    },
    {
      "cell_type": "code",
      "source": [],
      "metadata": {
        "id": "Uff8SWUYrOBA"
      },
      "execution_count": null,
      "outputs": []
    }
  ]
}