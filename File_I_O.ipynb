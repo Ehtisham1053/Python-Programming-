{
  "nbformat": 4,
  "nbformat_minor": 0,
  "metadata": {
    "colab": {
      "provenance": [],
      "authorship_tag": "ABX9TyMR+OkqhhrG8xEbVZuz0oEV",
      "include_colab_link": true
    },
    "kernelspec": {
      "name": "python3",
      "display_name": "Python 3"
    },
    "language_info": {
      "name": "python"
    }
  },
  "cells": [
    {
      "cell_type": "markdown",
      "metadata": {
        "id": "view-in-github",
        "colab_type": "text"
      },
      "source": [
        "<a href=\"https://colab.research.google.com/github/Ehtisham1053/Python-Programming-/blob/main/File_I_O.ipynb\" target=\"_parent\"><img src=\"https://colab.research.google.com/assets/colab-badge.svg\" alt=\"Open In Colab\"/></a>"
      ]
    },
    {
      "cell_type": "markdown",
      "source": [
        "# 📁 File Input and Output (File I/O) in Python\n",
        "\n",
        "## 🧾 What is File I/O?\n",
        "\n",
        "**File I/O (Input/Output)** allows a program to **read data from** and **write data to** files stored on disk.  \n",
        "This enables long-term data storage and retrieval in real-world applications.\n",
        "\n",
        "Python provides built-in functions and methods to perform file operations like:\n",
        "\n",
        "- Reading from files\n",
        "- Writing to files\n",
        "- Appending data\n",
        "- Modifying files\n",
        "- Managing file pointers and closing files\n",
        "\n",
        "---\n",
        "\n",
        "## 🗂️ File Modes\n",
        "\n",
        "You need to specify a mode when opening a file:\n",
        "\n",
        "| Mode | Description                      |\n",
        "|------|----------------------------------|\n",
        "| `'r'`  | Read (default). Error if file doesn't exist |\n",
        "| `'w'`  | Write. Creates a file or truncates if exists |\n",
        "| `'a'`  | Append. Creates a file if it doesn't exist |\n",
        "| `'x'`  | Create. Fails if file already exists |\n",
        "| `'r+'` | Read and Write |\n",
        "| `'b'`  | Binary mode (use with other modes) |\n",
        "| `'t'`  | Text mode (default) |\n",
        "\n",
        "---\n",
        "\n",
        "## 📌 Opening a File\n",
        "\n",
        "```python\n",
        "file = open(\"filename.txt\", \"mode\")\n"
      ],
      "metadata": {
        "id": "Jhoh3VDLcWKI"
      }
    },
    {
      "cell_type": "code",
      "execution_count": null,
      "metadata": {
        "id": "V_vePzj6cH42"
      },
      "outputs": [],
      "source": []
    },
    {
      "cell_type": "markdown",
      "source": [
        "# Writing a file"
      ],
      "metadata": {
        "id": "FaISrkOUcj3F"
      }
    },
    {
      "cell_type": "markdown",
      "source": [
        "# ✍️ Writing to a File in Python\n",
        "\n",
        "In Python, writing to a file is done using the `open()` function with **write** (`'w'`) or **append** (`'a'`) modes.\n",
        "\n",
        "---\n",
        "\n",
        "## 📌 1. Opening a File for Writing\n",
        "\n",
        "You can open a file using:\n",
        "\n",
        "```python\n",
        "file = open(\"filename.txt\", \"w\")\n"
      ],
      "metadata": {
        "id": "W6WPdRcdcnD1"
      }
    },
    {
      "cell_type": "markdown",
      "source": [
        "## ✅ 1. Write a Single Line to a New File"
      ],
      "metadata": {
        "id": "xrRD8dY2c6Wy"
      }
    },
    {
      "cell_type": "code",
      "source": [
        "# Writing a single line using 'w' mode (overwrite if file exists)\n",
        "file = open(\"single_line.txt\", \"w\")\n",
        "file.write(\"This is a single line written to the file.\\n\")\n",
        "file.close()\n"
      ],
      "metadata": {
        "id": "G5aRMVAacmcL"
      },
      "execution_count": null,
      "outputs": []
    },
    {
      "cell_type": "markdown",
      "source": [
        "## ✅ 2. Write Multiple Lines Using a List"
      ],
      "metadata": {
        "id": "LA_YrJUcdWBO"
      }
    },
    {
      "cell_type": "code",
      "source": [
        "# Writing multiple lines from a list\n",
        "lines = [\"Line 1\\n\", \"Line 2\\n\", \"Line 3\\n\"]\n",
        "\n",
        "file = open(\"multiple_lines.txt\", \"w\")\n",
        "file.writelines(lines)\n",
        "file.close()\n"
      ],
      "metadata": {
        "id": "OIgKSD3Kc92_"
      },
      "execution_count": 1,
      "outputs": []
    },
    {
      "cell_type": "code",
      "source": [],
      "metadata": {
        "id": "tL4K7oY5dYvW"
      },
      "execution_count": null,
      "outputs": []
    }
  ]
}