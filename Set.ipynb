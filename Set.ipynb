{
  "nbformat": 4,
  "nbformat_minor": 0,
  "metadata": {
    "colab": {
      "provenance": [],
      "authorship_tag": "ABX9TyM5ZF+51oOsru7jA/4iNsKr",
      "include_colab_link": true
    },
    "kernelspec": {
      "name": "python3",
      "display_name": "Python 3"
    },
    "language_info": {
      "name": "python"
    }
  },
  "cells": [
    {
      "cell_type": "markdown",
      "metadata": {
        "id": "view-in-github",
        "colab_type": "text"
      },
      "source": [
        "<a href=\"https://colab.research.google.com/github/Ehtisham1053/Python-Programming-/blob/main/Set.ipynb\" target=\"_parent\"><img src=\"https://colab.research.google.com/assets/colab-badge.svg\" alt=\"Open In Colab\"/></a>"
      ]
    },
    {
      "cell_type": "markdown",
      "source": [
        "## 🔹 What is a Set in Python?\n",
        "\n",
        "A **set** is an **unordered**, **unindexed** collection of **unique elements** in Python. It is **mutable**, but the elements inside a set must be **immutable** (e.g., numbers, strings, tuples).\n",
        "\n",
        "### ✅ Key Characteristics:\n",
        "- No duplicate elements\n",
        "- Elements are unordered (no indexing or slicing)\n",
        "- Supports mathematical set operations (union, intersection, etc.)\n",
        "- Defined using curly braces `{}` or the `set()` constructor\n",
        "\n",
        "---\n",
        "\n",
        "## 🛠️ Ways to Create a Set\n",
        "\n",
        "1. Using curly braces `{}`  \n",
        "2. Using `set()` constructor  \n",
        "3. From a list  \n",
        "4. From a tuple  \n",
        "5. From a string  \n",
        "6. From another set (copy)\n"
      ],
      "metadata": {
        "id": "y7xjlgI1bciB"
      }
    },
    {
      "cell_type": "code",
      "execution_count": null,
      "metadata": {
        "colab": {
          "base_uri": "https://localhost:8080/"
        },
        "id": "r4c3Wk6jauJU",
        "outputId": "20f008b4-d4aa-4066-a40c-498d103f1b5b"
      },
      "outputs": [
        {
          "output_type": "stream",
          "name": "stdout",
          "text": [
            "Set A: {1, 2, 3, 4}\n",
            "Set B (from list): {4, 5, 6}\n",
            "Set C (from tuple, duplicates removed): {8, 9, 7}\n",
            "Set D (from string): {'e', 'h', 'l', 'o'}\n",
            "Empty set: set()\n",
            "Copied Set E: {1, 2, 3, 4}\n"
          ]
        }
      ],
      "source": [
        "# 1. Using curly braces\n",
        "set_a = {1, 2, 3, 4}\n",
        "print(\"Set A:\", set_a)\n",
        "\n",
        "# 2. Using set() constructor with iterable\n",
        "set_b = set([4, 5, 6])\n",
        "print(\"Set B (from list):\", set_b)\n",
        "\n",
        "# 3. From a tuple\n",
        "set_c = set((7, 8, 9, 9))\n",
        "print(\"Set C (from tuple, duplicates removed):\", set_c)\n",
        "\n",
        "# 4. From a string\n",
        "set_d = set(\"hello\")\n",
        "print(\"Set D (from string):\", set_d)\n",
        "\n",
        "# 5. Creating an empty set\n",
        "empty_set = set()\n",
        "print(\"Empty set:\", empty_set)\n",
        "\n",
        "# 6. Copying an existing set\n",
        "set_e = set_a.copy()\n",
        "print(\"Copied Set E:\", set_e)\n"
      ]
    },
    {
      "cell_type": "code",
      "source": [],
      "metadata": {
        "id": "Ce7cel6GbiOw"
      },
      "execution_count": null,
      "outputs": []
    },
    {
      "cell_type": "markdown",
      "source": [
        "## 🔍 Accessing Elements from a Set in Python\n",
        "\n",
        "In Python, sets are **unordered** and **unindexed**, which means you **cannot access elements using an index** like you do with lists or tuples.\n",
        "\n",
        "However, you can access elements in the following ways:\n",
        "\n",
        "---\n",
        "\n",
        "### ✅ Methods to Access Set Elements:\n",
        "\n",
        "1. **Looping through the set using a `for` loop**\n",
        "2. **Using `in` keyword** for membership test\n",
        "3. **Converting set to list or tuple** for index-based access (indirect method)\n"
      ],
      "metadata": {
        "id": "fkiZH58qcOs1"
      }
    },
    {
      "cell_type": "code",
      "source": [
        "my_set = {\"apple\", \"banana\", \"cherry\"}\n",
        "# 1. Looping through the set\n",
        "print(\"Elements in set:\")\n",
        "for item in my_set:\n",
        "    print(item)\n",
        "\n",
        "# 2. Checking if an element exists in the set\n",
        "print(\"\\nIs 'banana' in the set?\", 'banana' in my_set)\n",
        "print(\"Is 'grape' in the set?\", 'grape' in my_set)\n",
        "\n",
        "# 3. Convert set to list to access by index (indirect access)\n",
        "set_list = list(my_set)\n",
        "print(\"\\nElement at index 0 (after converting to list):\", set_list[0])\n"
      ],
      "metadata": {
        "colab": {
          "base_uri": "https://localhost:8080/"
        },
        "id": "4h5XRbGScPau",
        "outputId": "383d70d8-68c1-401c-e749-c2db6b1d19b4"
      },
      "execution_count": 1,
      "outputs": [
        {
          "output_type": "stream",
          "name": "stdout",
          "text": [
            "Elements in set:\n",
            "banana\n",
            "cherry\n",
            "apple\n",
            "\n",
            "Is 'banana' in the set? True\n",
            "Is 'grape' in the set? False\n",
            "\n",
            "Element at index 0 (after converting to list): banana\n"
          ]
        }
      ]
    },
    {
      "cell_type": "code",
      "source": [],
      "metadata": {
        "id": "SvFAfe-_cWdo"
      },
      "execution_count": null,
      "outputs": []
    },
    {
      "cell_type": "markdown",
      "source": [
        "## ➕ Adding and ➖ Deleting Elements in a Set\n",
        "\n",
        "Sets are **mutable** in Python, which means you can add or remove elements after creation.\n",
        "\n",
        "---\n",
        "\n",
        "### ✅ Adding Elements to a Set:\n",
        "You can add elements using the following methods:\n",
        "1. **`add()`** - Adds a single element to the set.\n",
        "2. **`update()`** - Adds multiple elements from another set, list, tuple, or dictionary.\n",
        "\n",
        "---\n",
        "\n",
        "### ✅ Deleting Elements from a Set:\n",
        "You can delete elements using the following methods:\n",
        "1. **`remove()`** - Removes an element, but raises a `KeyError` if the element doesn't exist.\n",
        "2. **`discard()`** - Removes an element, but does **not** raise an error if the element is not found.\n",
        "3. **`pop()`** - Removes and returns an arbitrary element from the set (unpredictable).\n",
        "4. **`clear()`** - Removes all elements from the set.\n",
        "5. **`del`** - Deletes the entire set.\n",
        "\n",
        "---\n",
        "\n",
        "### ⚠️ Notes:\n",
        "- **`remove()`** raises a `KeyError` if the element doesn't exist, while **`discard()`** doesn't.\n"
      ],
      "metadata": {
        "id": "WeMkybpedBqD"
      }
    },
    {
      "cell_type": "code",
      "source": [
        "my_set = {\"apple\", \"banana\", \"cherry\"}\n",
        "\n",
        "# 1. Adding elements using add()\n",
        "my_set.add(\"orange\")\n",
        "print(\"After adding 'orange':\", my_set)\n",
        "\n",
        "# 2. Adding multiple elements using update()\n",
        "my_set.update([\"pear\", \"grape\", \"kiwi\"])\n",
        "print(\"After updating with multiple elements:\", my_set)\n",
        "\n",
        "# 3. Removing an element using remove()\n",
        "my_set.remove(\"banana\")\n",
        "print(\"After removing 'banana':\", my_set)\n",
        "\n",
        "# 4. Removing an element using discard() (no error if element is not found)\n",
        "my_set.discard(\"pear\")\n",
        "print(\"After discarding 'pear':\", my_set)\n",
        "\n",
        "# 5. Using pop() to remove an arbitrary element\n",
        "removed_element = my_set.pop()\n",
        "print(\"Element removed using pop():\", removed_element)\n",
        "print(\"Set after pop():\", my_set)\n",
        "\n",
        "# 6. Clearing all elements using clear()\n",
        "my_set.clear()\n",
        "print(\"After clearing all elements:\", my_set)\n",
        "\n",
        "# 7. Deleting the entire set using del\n",
        "del my_set\n",
        "# print(my_set)  # Uncommenting this will raise a NameError because the set is deleted\n"
      ],
      "metadata": {
        "colab": {
          "base_uri": "https://localhost:8080/"
        },
        "id": "ooZdB9wGdCZG",
        "outputId": "4dd03fe3-5c82-460e-95eb-f264d334218c"
      },
      "execution_count": 2,
      "outputs": [
        {
          "output_type": "stream",
          "name": "stdout",
          "text": [
            "After adding 'orange': {'banana', 'cherry', 'orange', 'apple'}\n",
            "After updating with multiple elements: {'banana', 'cherry', 'orange', 'apple', 'kiwi', 'pear', 'grape'}\n",
            "After removing 'banana': {'cherry', 'orange', 'apple', 'kiwi', 'pear', 'grape'}\n",
            "After discarding 'pear': {'cherry', 'orange', 'apple', 'kiwi', 'grape'}\n",
            "Element removed using pop(): cherry\n",
            "Set after pop(): {'orange', 'apple', 'kiwi', 'grape'}\n",
            "After clearing all elements: set()\n"
          ]
        }
      ]
    },
    {
      "cell_type": "code",
      "source": [],
      "metadata": {
        "id": "fPmJUJAYdFR4"
      },
      "execution_count": null,
      "outputs": []
    },
    {
      "cell_type": "markdown",
      "source": [
        "## 🔀 Operations on Sets in Python\n",
        "\n",
        "Python provides several built-in operations that allow you to perform mathematical set operations on sets. Here are the key set operations:\n",
        "\n",
        "### ✅ Set Operations:\n",
        "1. **Union (`|`)** - Returns all unique elements present in both sets.\n",
        "2. **Intersection (`&`)** - Returns the common elements between two sets.\n",
        "3. **Difference (`-`)** - Returns the elements that are in the first set but not in the second.\n",
        "4. **Symmetric Difference (`^`)** - Returns elements that are in either of the sets, but not in both.\n",
        "5. **Subset (`<=`)** - Returns `True` if the first set is a subset of the second set.\n",
        "6. **Superset (`>=`)** - Returns `True` if the first set is a superset of the second set.\n",
        "7. **Disjoint (`isdisjoint()`)** - Returns `True` if two sets have no elements in common.\n",
        "\n",
        "---\n",
        "\n",
        "### ⚠️ Notes:\n",
        "- These operations are immutable, meaning they return a new set and do not modify the original\n"
      ],
      "metadata": {
        "id": "7ZV9exAudZs-"
      }
    },
    {
      "cell_type": "code",
      "source": [
        "set_a = {1, 2, 3, 4, 5}\n",
        "set_b = {4, 5, 6, 7, 8}\n",
        "\n",
        "# 1. Union\n",
        "union_set = set_a | set_b\n",
        "print(\"Union of set_a and set_b:\", union_set)\n",
        "\n",
        "# Using union() method\n",
        "union_set_method = set_a.union(set_b)\n",
        "print(\"Union using union() method:\", union_set_method)\n",
        "\n",
        "# 2. Intersection\n",
        "intersection_set = set_a & set_b\n",
        "print(\"Intersection of set_a and set_b:\", intersection_set)\n",
        "\n",
        "# Using intersection() method\n",
        "intersection_set_method = set_a.intersection(set_b)\n",
        "print(\"Intersection using intersection() method:\", intersection_set_method)\n",
        "\n",
        "# 3. Difference\n",
        "difference_set = set_a - set_b\n",
        "print(\"Difference of set_a and set_b (set_a - set_b):\", difference_set)\n",
        "\n",
        "# Using difference() method\n",
        "difference_set_method = set_a.difference(set_b)\n",
        "print(\"Difference using difference() method:\", difference_set_method)\n",
        "\n",
        "# 4. Symmetric Difference\n",
        "symmetric_difference_set = set_a ^ set_b\n",
        "print(\"Symmetric Difference of set_a and set_b:\", symmetric_difference_set)\n",
        "\n",
        "# Using symmetric_difference() method\n",
        "symmetric_difference_set_method = set_a.symmetric_difference(set_b)\n",
        "print(\"Symmetric Difference using symmetric_difference() method:\", symmetric_difference_set_method)\n",
        "\n",
        "# 5. Subset\n",
        "subset_check = set_a <= set_b\n",
        "print(\"Is set_a a subset of set_b?\", subset_check)\n",
        "\n",
        "# Using issubset() method\n",
        "subset_check_method = set_a.issubset(set_b)\n",
        "print(\"Subset check using issubset() method:\", subset_check_method)\n",
        "\n",
        "# 6. Superset\n",
        "superset_check = set_a >= set_b\n",
        "print(\"Is set_a a superset of set_b?\", superset_check)\n",
        "\n",
        "# Using issuperset() method\n",
        "superset_check_method = set_a.issuperset(set_b)\n",
        "print(\"Superset check using issuperset() method:\", superset_check_method)\n",
        "\n",
        "# 7. Disjoint\n",
        "disjoint_check = set_a.isdisjoint(set_b)\n",
        "print(\"Are set_a and set_b disjoint?\", disjoint_check)\n"
      ],
      "metadata": {
        "colab": {
          "base_uri": "https://localhost:8080/"
        },
        "id": "klzt1w79daHg",
        "outputId": "ea2edb32-6087-4f56-d3d4-47f0073529a7"
      },
      "execution_count": 3,
      "outputs": [
        {
          "output_type": "stream",
          "name": "stdout",
          "text": [
            "Union of set_a and set_b: {1, 2, 3, 4, 5, 6, 7, 8}\n",
            "Union using union() method: {1, 2, 3, 4, 5, 6, 7, 8}\n",
            "Intersection of set_a and set_b: {4, 5}\n",
            "Intersection using intersection() method: {4, 5}\n",
            "Difference of set_a and set_b (set_a - set_b): {1, 2, 3}\n",
            "Difference using difference() method: {1, 2, 3}\n",
            "Symmetric Difference of set_a and set_b: {1, 2, 3, 6, 7, 8}\n",
            "Symmetric Difference using symmetric_difference() method: {1, 2, 3, 6, 7, 8}\n",
            "Is set_a a subset of set_b? False\n",
            "Subset check using issubset() method: False\n",
            "Is set_a a superset of set_b? False\n",
            "Superset check using issuperset() method: False\n",
            "Are set_a and set_b disjoint? False\n"
          ]
        }
      ]
    },
    {
      "cell_type": "code",
      "source": [],
      "metadata": {
        "id": "quHu0Am8dea_"
      },
      "execution_count": null,
      "outputs": []
    },
    {
      "cell_type": "markdown",
      "source": [
        "## 🔀 Other Set Operations in Python\n",
        "\n",
        "In addition to the standard set operations (union, intersection, etc.), Python also supports **arithmetic**, **logical**, **comparison**, and **membership** operations for sets.\n",
        "\n",
        "---\n",
        "\n",
        "### ✅ Set Operations:\n",
        "\n",
        "1. **Arithmetic Operations** (using `|`, `&`, `-`, `^`):\n",
        "   - **Union (`|`)** - Adds all elements from both sets, without duplicates.\n",
        "   - **Intersection (`&`)** - Gets common elements between two sets.\n",
        "   - **Difference (`-`)** - Gets elements present in the first set but not in the second.\n",
        "   - **Symmetric Difference (`^`)** - Gets elements that are in one set or the other, but not in both.\n",
        "\n",
        "2. **Logical Operations**:\n",
        "   - Logical operations are not directly supported on sets, but they can be performed using basic set operations.\n",
        "\n",
        "3. **Comparison Operations**:\n",
        "   - **Equality (`==`)** - Returns `True` if sets are equal.\n",
        "   - **Inequality (`!=`)** - Returns `True` if sets are not equal.\n",
        "   - **Subset (`<=`)** - Returns `True` if set A is a subset of set B.\n",
        "   - **Superset (`>=`)** - Returns `True` if set A is a superset of set B.\n",
        "   - **Proper Subset (`<`)** - Returns `True` if set A is a proper subset of set B.\n",
        "   - **Proper Superset (`>`)** - Returns `True` if set A is a proper superset of set B.\n",
        "\n",
        "4. **Membership Operations**:\n",
        "   - **`in`** - Checks if an element exists in the set.\n",
        "   - **`not in`** - Checks if an element does not exist in the set.\n"
      ],
      "metadata": {
        "id": "oqq3bnLSdsOs"
      }
    },
    {
      "cell_type": "code",
      "source": [
        "set_a = {1, 2, 3, 4, 5}\n",
        "set_b = {4, 5, 6, 7, 8}\n",
        "\n",
        "# Arithmetic Operations:\n",
        "# 1. Union (|)\n",
        "union_set = set_a | set_b\n",
        "print(\"Union (|) of set_a and set_b:\", union_set)\n",
        "\n",
        "# 2. Intersection (&)\n",
        "intersection_set = set_a & set_b\n",
        "print(\"Intersection (&) of set_a and set_b:\", intersection_set)\n",
        "\n",
        "# 3. Difference (-)\n",
        "difference_set = set_a - set_b\n",
        "print(\"Difference (-) of set_a and set_b:\", difference_set)\n",
        "\n",
        "# 4. Symmetric Difference (^)\n",
        "symmetric_difference_set = set_a ^ set_b\n",
        "print(\"Symmetric Difference (^) of set_a and set_b:\", symmetric_difference_set)\n",
        "\n",
        "# Logical Operations (using basic set operations):\n",
        "# Union is a logical OR operation, Intersection is a logical AND operation\n",
        "# Symmetric Difference is like logical XOR\n",
        "\n",
        "# Comparison Operations:\n",
        "# 1. Equality (==)\n",
        "equality_check = set_a == set_b\n",
        "print(\"Is set_a equal to set_b?\", equality_check)\n",
        "\n",
        "# 2. Inequality (!=)\n",
        "inequality_check = set_a != set_b\n",
        "print(\"Is set_a not equal to set_b?\", inequality_check)\n",
        "\n",
        "# 3. Subset (<=)\n",
        "subset_check = set_a <= set_b\n",
        "print(\"Is set_a a subset of set_b?\", subset_check)\n",
        "\n",
        "# 4. Superset (>=)\n",
        "superset_check = set_a >= set_b\n",
        "print(\"Is set_a a superset of set_b?\", superset_check)\n",
        "\n",
        "# 5. Proper Subset (<)\n",
        "proper_subset_check = set_a < set_b\n",
        "print(\"Is set_a a proper subset of set_b?\", proper_subset_check)\n",
        "\n",
        "# 6. Proper Superset (>)\n",
        "proper_superset_check = set_a > set_b\n",
        "print(\"Is set_a a proper superset of set_b?\", proper_superset_check)\n",
        "\n",
        "# Membership Operations:\n",
        "# 1. 'in' operator to check membership\n",
        "membership_check = 3 in set_a\n",
        "print(\"Is 3 in set_a?\", membership_check)\n",
        "\n",
        "# 2. 'not in' operator to check non-membership\n",
        "non_membership_check = 9 not in set_a\n",
        "print(\"Is 9 not in set_a?\", non_membership_check)\n"
      ],
      "metadata": {
        "colab": {
          "base_uri": "https://localhost:8080/"
        },
        "id": "7D_wC8iSds04",
        "outputId": "2195e7b4-e0d2-430c-f274-c3badc30395f"
      },
      "execution_count": 4,
      "outputs": [
        {
          "output_type": "stream",
          "name": "stdout",
          "text": [
            "Union (|) of set_a and set_b: {1, 2, 3, 4, 5, 6, 7, 8}\n",
            "Intersection (&) of set_a and set_b: {4, 5}\n",
            "Difference (-) of set_a and set_b: {1, 2, 3}\n",
            "Symmetric Difference (^) of set_a and set_b: {1, 2, 3, 6, 7, 8}\n",
            "Is set_a equal to set_b? False\n",
            "Is set_a not equal to set_b? True\n",
            "Is set_a a subset of set_b? False\n",
            "Is set_a a superset of set_b? False\n",
            "Is set_a a proper subset of set_b? False\n",
            "Is set_a a proper superset of set_b? False\n",
            "Is 3 in set_a? True\n",
            "Is 9 not in set_a? True\n"
          ]
        }
      ]
    },
    {
      "cell_type": "code",
      "source": [],
      "metadata": {
        "id": "77gxcuGvdzZ_"
      },
      "execution_count": null,
      "outputs": []
    }
  ]
}