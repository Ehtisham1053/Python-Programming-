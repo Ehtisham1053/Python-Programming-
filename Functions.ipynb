{
  "nbformat": 4,
  "nbformat_minor": 0,
  "metadata": {
    "colab": {
      "provenance": [],
      "authorship_tag": "ABX9TyOgnF1DBY0yBq6t3tPiv1vE",
      "include_colab_link": true
    },
    "kernelspec": {
      "name": "python3",
      "display_name": "Python 3"
    },
    "language_info": {
      "name": "python"
    }
  },
  "cells": [
    {
      "cell_type": "markdown",
      "metadata": {
        "id": "view-in-github",
        "colab_type": "text"
      },
      "source": [
        "<a href=\"https://colab.research.google.com/github/Ehtisham1053/Python-Programming-/blob/main/Functions.ipynb\" target=\"_parent\"><img src=\"https://colab.research.google.com/assets/colab-badge.svg\" alt=\"Open In Colab\"/></a>"
      ]
    },
    {
      "cell_type": "markdown",
      "source": [
        "# 🧠 Functions in Python\n",
        "\n",
        "A **function** is a block of reusable code that performs a specific task. Functions help reduce repetition, increase modularity, and make code easier to manage.\n",
        "\n",
        "---\n",
        "\n",
        "## ✅ Why Use Functions?\n",
        "\n",
        "- 📦 Code reusability\n",
        "- 🔍 Easier debugging and testing\n",
        "- 🧩 Modularity\n",
        "- 📖 Better readability\n",
        "\n",
        "---\n",
        "\n",
        "## 🛠️ Types of Functions\n",
        "\n",
        "1. **Built-in Functions**  \n",
        "   - Predefined by Python (e.g., `print()`, `len()`, `type()`, `sum()`, etc.)\n",
        "\n",
        "2. **User-defined Functions**  \n",
        "   - Defined by the user using the `def` keyword.\n",
        "\n",
        "3. **Lambda (Anonymous) Functions**  \n",
        "   - One-liner unnamed functions using `lambda`.\n",
        "\n",
        "---\n",
        "\n",
        "## 🧱 Structure of a Function\n",
        "\n",
        "- `def`: Keyword to define a function.\n",
        "- Function name: Should follow naming rules.\n",
        "- Parameters (optional): Inputs to the function.\n",
        "- Docstring (optional): String describing what the function does.\n",
        "- Function body: Code to execute.\n",
        "- `return` (optional): Outputs result to caller.\n",
        "\n",
        "---\n",
        "\n",
        "## 🧾 Key Function Concepts\n",
        "\n",
        "| Concept              | Description |\n",
        "|----------------------|-------------|\n",
        "| Function Definition  | `def` keyword to define |\n",
        "| Function Call        | Invoke using `function_name()` |\n",
        "| Parameters           | Placeholder variables in definition |\n",
        "| Arguments            | Actual values passed to function |\n",
        "| Return Statement     | Send result back |\n",
        "| Docstring            | Document the purpose of function |\n",
        "| Scope                | Variable visibility and lifetime |\n",
        "| Default Arguments    | Provide default value to a parameter |\n",
        "| Keyword Arguments    | Call function using parameter names |\n",
        "| Variable Arguments   | Use `*args` and `**kwargs` for flexibility |\n",
        "\n",
        "---\n",
        "\n",
        "## 🔄 Types of Arguments\n",
        "\n",
        "### 1. Positional Arguments\n",
        "- Passed in the order they are defined.\n",
        "\n",
        "### 2. Keyword Arguments\n",
        "- Specified by parameter name.\n",
        "\n",
        "### 3. Default Arguments\n",
        "- Arguments with a default value.\n",
        "\n",
        "### 4. Variable-length Arguments\n",
        "- `*args`: Multiple non-keyword arguments.\n",
        "- `**kwargs`: Multiple keyword arguments.\n",
        "\n",
        "---\n",
        "\n",
        "## 🧠 Scope and Lifetime of Variables\n",
        "\n",
        "- **Local Scope**: Inside the function only.\n",
        "- **Global Scope**: Accessible throughout the program.\n",
        "- **LEGB Rule**: Local → Enclosing → Global → Built-in\n",
        "\n",
        "---\n",
        "\n",
        "## ⚡ Lambda (Anonymous) Functions\n",
        "\n",
        "- Defined using `lambda`.\n",
        "- No `def` or name required.\n",
        "- Single-expression only.\n",
        "- Often used with functions like `map()`, `filter()`, `reduce()`.\n",
        "\n",
        "---\n",
        "\n",
        "Let me know when you want the full code examples for each type and concept!\n"
      ],
      "metadata": {
        "id": "_Dd0HOB31gX4"
      }
    },
    {
      "cell_type": "code",
      "execution_count": null,
      "metadata": {
        "id": "4-UvSNXgtpLk"
      },
      "outputs": [],
      "source": []
    },
    {
      "cell_type": "markdown",
      "source": [
        "# ✅ 1. Basic Function (No Arguments, No Return)"
      ],
      "metadata": {
        "id": "6KLcGfYE1zlJ"
      }
    },
    {
      "cell_type": "code",
      "source": [
        "def greet():\n",
        "    print(\"Hello, welcome to Python functions!\")\n",
        "\n",
        "greet()\n"
      ],
      "metadata": {
        "colab": {
          "base_uri": "https://localhost:8080/"
        },
        "id": "W93Q3hYu10O0",
        "outputId": "5dbc162a-1595-4cbc-f503-d34a1db5ba13"
      },
      "execution_count": null,
      "outputs": [
        {
          "output_type": "stream",
          "name": "stdout",
          "text": [
            "Hello, welcome to Python functions!\n"
          ]
        }
      ]
    },
    {
      "cell_type": "code",
      "source": [],
      "metadata": {
        "id": "8Ngcufda13Ix"
      },
      "execution_count": null,
      "outputs": []
    },
    {
      "cell_type": "markdown",
      "source": [
        "#✅ 2. Function with Arguments (No Return)"
      ],
      "metadata": {
        "id": "JfTq8EEn2FfW"
      }
    },
    {
      "cell_type": "code",
      "source": [
        "def greet_user(name):\n",
        "    print(f\"Hello, {name}!\")\n",
        "\n",
        "\n",
        "greet_user(\"Ehtisham\")\n"
      ],
      "metadata": {
        "colab": {
          "base_uri": "https://localhost:8080/"
        },
        "id": "mFisbTE62GBd",
        "outputId": "3d4aeb24-db38-4ed6-bccf-b2e88b7fe9be"
      },
      "execution_count": 1,
      "outputs": [
        {
          "output_type": "stream",
          "name": "stdout",
          "text": [
            "Hello, Ehtisham!\n"
          ]
        }
      ]
    },
    {
      "cell_type": "code",
      "source": [],
      "metadata": {
        "id": "yt_jUcxS2Jhf"
      },
      "execution_count": null,
      "outputs": []
    },
    {
      "cell_type": "markdown",
      "source": [
        "# ✅ 3. Function with Return Statement"
      ],
      "metadata": {
        "id": "djtk4dSf2OhF"
      }
    },
    {
      "cell_type": "code",
      "source": [
        "def add(a, b):\n",
        "    return a + b\n",
        "\n",
        "result = add(5, 3)\n",
        "print(\"Sum:\", result)\n"
      ],
      "metadata": {
        "colab": {
          "base_uri": "https://localhost:8080/"
        },
        "id": "O_dfJaIh2PE8",
        "outputId": "00b98dd4-d098-4457-964a-99de14e803f1"
      },
      "execution_count": 2,
      "outputs": [
        {
          "output_type": "stream",
          "name": "stdout",
          "text": [
            "Sum: 8\n"
          ]
        }
      ]
    },
    {
      "cell_type": "code",
      "source": [],
      "metadata": {
        "colab": {
          "base_uri": "https://localhost:8080/"
        },
        "id": "IdwKJzU123vo",
        "outputId": "6b96dce6-97e5-490a-f69d-2b36bd7e54bf"
      },
      "execution_count": 6,
      "outputs": [
        {
          "output_type": "execute_result",
          "data": {
            "text/plain": [
              "int"
            ]
          },
          "metadata": {},
          "execution_count": 6
        }
      ]
    },
    {
      "cell_type": "code",
      "source": [
        "def add(a,b):\n",
        "  if type(a) == int and type(b) == int:\n",
        "    return a+b\n",
        "  else:\n",
        "    return \"Enter the integer only\"\n",
        "\n",
        "\n",
        "print(add(3,4))\n",
        "print(add(\"ehtisham\" , 3))"
      ],
      "metadata": {
        "colab": {
          "base_uri": "https://localhost:8080/"
        },
        "id": "YLQD-VtM2RkW",
        "outputId": "df0bb96f-755a-4751-fb21-73cbc7698e0e"
      },
      "execution_count": 9,
      "outputs": [
        {
          "output_type": "stream",
          "name": "stdout",
          "text": [
            "7\n",
            "Enter the integer only\n"
          ]
        }
      ]
    },
    {
      "cell_type": "code",
      "source": [],
      "metadata": {
        "id": "QyhCqZWq2n4Q"
      },
      "execution_count": null,
      "outputs": []
    },
    {
      "cell_type": "markdown",
      "source": [
        "# ✅ 4. Function with Default Argument"
      ],
      "metadata": {
        "id": "ujwFcFhr3gho"
      }
    },
    {
      "cell_type": "code",
      "source": [
        "def greet(name=\"Ehtisham\"):\n",
        "    print(f\"Hello, {name}!\")\n",
        "\n",
        "greet()\n",
        "greet(\"Aisha\")\n"
      ],
      "metadata": {
        "colab": {
          "base_uri": "https://localhost:8080/"
        },
        "id": "iqeCzlIe3fk-",
        "outputId": "00aafa49-def0-4a6a-e3fc-4a77af515d65"
      },
      "execution_count": 10,
      "outputs": [
        {
          "output_type": "stream",
          "name": "stdout",
          "text": [
            "Hello, Ehtisham!\n",
            "Hello, Aisha!\n"
          ]
        }
      ]
    },
    {
      "cell_type": "code",
      "source": [],
      "metadata": {
        "id": "_JflTstd3lnW"
      },
      "execution_count": null,
      "outputs": []
    },
    {
      "cell_type": "markdown",
      "source": [
        "# ✅ 5. Function with Keyword Arguments"
      ],
      "metadata": {
        "id": "0ZjaQlLT3n_u"
      }
    },
    {
      "cell_type": "code",
      "source": [
        "def student_info(name, age):\n",
        "    print(f\"Name: {name}, Age: {age}\")\n",
        "\n",
        "student_info(age=20, name=\"Ali\")\n"
      ],
      "metadata": {
        "colab": {
          "base_uri": "https://localhost:8080/"
        },
        "id": "MMGbVf9e3obt",
        "outputId": "30c4d611-8ac8-465f-84a1-106ea69bdae4"
      },
      "execution_count": 11,
      "outputs": [
        {
          "output_type": "stream",
          "name": "stdout",
          "text": [
            "Name: Ali, Age: 20\n"
          ]
        }
      ]
    },
    {
      "cell_type": "code",
      "source": [],
      "metadata": {
        "id": "eE3u9Vfb3qdW"
      },
      "execution_count": null,
      "outputs": []
    },
    {
      "cell_type": "markdown",
      "source": [
        "# ✅ 6. Function with Positional and Keyword Arguments"
      ],
      "metadata": {
        "id": "TvCHjKDv3tLu"
      }
    },
    {
      "cell_type": "code",
      "source": [
        "def employee_details(name, salary=50000):\n",
        "    print(f\"Employee: {name}, Salary: {salary}\")\n",
        "\n",
        "employee_details(\"Ehtisham\")\n",
        "employee_details(\"Ehti\", 70000)\n"
      ],
      "metadata": {
        "colab": {
          "base_uri": "https://localhost:8080/"
        },
        "id": "BWKN_QW93trW",
        "outputId": "b0353aec-669f-4cfb-bc00-9647f3947b9e"
      },
      "execution_count": 13,
      "outputs": [
        {
          "output_type": "stream",
          "name": "stdout",
          "text": [
            "Employee: Ehtisham, Salary: 50000\n",
            "Employee: Ehti, Salary: 70000\n"
          ]
        }
      ]
    },
    {
      "cell_type": "code",
      "source": [],
      "metadata": {
        "id": "7hU3063n3vHW"
      },
      "execution_count": null,
      "outputs": []
    }
  ]
}