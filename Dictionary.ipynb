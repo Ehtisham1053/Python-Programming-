{
  "nbformat": 4,
  "nbformat_minor": 0,
  "metadata": {
    "colab": {
      "provenance": [],
      "authorship_tag": "ABX9TyNZaZVMvMj7hQBnqXPyvwnp",
      "include_colab_link": true
    },
    "kernelspec": {
      "name": "python3",
      "display_name": "Python 3"
    },
    "language_info": {
      "name": "python"
    }
  },
  "cells": [
    {
      "cell_type": "markdown",
      "metadata": {
        "id": "view-in-github",
        "colab_type": "text"
      },
      "source": [
        "<a href=\"https://colab.research.google.com/github/Ehtisham1053/Python-Programming-/blob/main/Dictionary.ipynb\" target=\"_parent\"><img src=\"https://colab.research.google.com/assets/colab-badge.svg\" alt=\"Open In Colab\"/></a>"
      ]
    },
    {
      "cell_type": "markdown",
      "source": [
        "## 📚 What is a Dictionary (`dict`) in Python?\n",
        "\n",
        "A dictionary in Python is an **unordered**, **mutable**, and **indexed** collection that stores data in **key-value pairs**.\n",
        "\n",
        "### ✅ Characteristics:\n",
        "- Each key in a dictionary must be unique and immutable.\n",
        "- Values can be of any data type and can be duplicated.\n",
        "- Defined using `{ key: value }` syntax.\n",
        "\n",
        "---\n",
        "\n",
        "### 🛠️ Different Ways to Create a Dictionary:\n",
        "\n",
        "1. **Using curly braces `{}`**\n",
        "2. **Using the `dict()` constructor**\n",
        "3. **Using list of tuples**\n",
        "4. **Using dictionary comprehension**\n"
      ],
      "metadata": {
        "id": "ka2BXKc7ni2W"
      }
    },
    {
      "cell_type": "code",
      "execution_count": null,
      "metadata": {
        "colab": {
          "base_uri": "https://localhost:8080/"
        },
        "id": "uk5QDjWZnX1C",
        "outputId": "c756e53a-78a7-41ac-dc08-58e2439d1017"
      },
      "outputs": [
        {
          "output_type": "stream",
          "name": "stdout",
          "text": [
            "Dict 1: {'name': 'Alice', 'age': 25, 'city': 'Lahore'}\n",
            "Dict 2: {'name': 'Bob', 'age': 30, 'city': 'Karachi'}\n",
            "Dict 3: {'name': 'Charlie', 'age': 28, 'city': 'Islamabad'}\n",
            "Dict 4 (Comprehension): {1: 1, 2: 4, 3: 9}\n"
          ]
        }
      ],
      "source": [
        "# 1️⃣ Using curly braces\n",
        "dict1 = {\"name\": \"Alice\", \"age\": 25, \"city\": \"Lahore\"}\n",
        "print(\"Dict 1:\", dict1)\n",
        "\n",
        "# 2️⃣ Using dict() constructor\n",
        "dict2 = dict(name=\"Bob\", age=30, city=\"Karachi\")\n",
        "print(\"Dict 2:\", dict2)\n",
        "\n",
        "# 3️⃣ Using list of tuples\n",
        "dict3 = dict([(\"name\", \"Charlie\"), (\"age\", 28), (\"city\", \"Islamabad\")])\n",
        "print(\"Dict 3:\", dict3)\n",
        "\n",
        "# 4️⃣ Using dictionary comprehension\n",
        "dict4 = {x: x**2 for x in range(1, 4)}\n",
        "print(\"Dict 4 (Comprehension):\", dict4)\n"
      ]
    },
    {
      "cell_type": "code",
      "source": [],
      "metadata": {
        "id": "dBmGGXlooMZB"
      },
      "execution_count": null,
      "outputs": []
    },
    {
      "cell_type": "markdown",
      "source": [
        "## 📚 Characteristics of `dict` in Python\n",
        "\n",
        "A dictionary (`dict`) in Python is a powerful and flexible data structure. Here are its main characteristics:\n",
        "\n",
        "---\n",
        "\n",
        "### ✅ 1. **Unordered (Before Python 3.7) / Ordered (Python 3.7+)**\n",
        "- From Python 3.7 onwards, dictionaries preserve insertion order.\n",
        "- Prior to Python 3.7, dictionaries did not guarantee order.\n",
        "\n",
        "---\n",
        "\n",
        "### ✅ 2. **Key-Value Pairs**\n",
        "- Data is stored in `key: value` format.\n",
        "- Keys must be unique and immutable (e.g., strings, numbers, tuples).\n",
        "- Values can be any data type and can be duplicated.\n",
        "\n",
        "---\n",
        "\n",
        "### ✅ 3. **Mutable**\n",
        "- Dictionaries can be changed after creation.\n",
        "- You can add, update, or delete key-value pairs.\n",
        "\n",
        "---\n",
        "\n",
        "### ✅ 4. **Dynamic Size**\n",
        "- You can add or remove items at runtime.\n",
        "- There is no fixed size.\n",
        "\n",
        "---\n",
        "\n",
        "### ✅ 5. **Efficient Lookup**\n",
        "- Dictionaries provide fast access to data using keys (on average O(1) time complexity).\n",
        "\n",
        "---\n",
        "\n",
        "### ✅ 6. **Nested Dictionaries**\n",
        "- You can store dictionaries within dictionaries (multi-level structure).\n",
        "\n",
        "---\n",
        "\n",
        "### ✅ 7. **Supports Various Methods**\n",
        "- Common methods include `.get()`, `.keys()`, `.values()`, `.items()`, `.pop()`, `.update()`, and more.\n"
      ],
      "metadata": {
        "id": "-0W108LpofR3"
      }
    },
    {
      "cell_type": "code",
      "source": [],
      "metadata": {
        "id": "g-e2X1gKof1E"
      },
      "execution_count": null,
      "outputs": []
    },
    {
      "cell_type": "markdown",
      "source": [
        "## 🔍 Accessing Items from a Dictionary in Python\n",
        "\n",
        "You can access dictionary values using the following methods:\n",
        "\n",
        "---\n",
        "\n",
        "### 1️⃣ Using Square Brackets `[]`\n",
        "- Access the value directly by key.\n",
        "- Raises `KeyError` if the key does not exist.\n",
        "\n",
        "```python\n",
        "value = my_dict[\"key\"]\n"
      ],
      "metadata": {
        "id": "Y9lRtR6hp0Ej"
      }
    },
    {
      "cell_type": "code",
      "source": [
        "# Sample dictionary\n",
        "my_dict = {\n",
        "    \"name\": \"Alice\",\n",
        "    \"age\": 25,\n",
        "    \"city\": \"Lahore\"\n",
        "}\n",
        "\n",
        "# 1. Accessing with square brackets\n",
        "print(\"Name:\", my_dict[\"name\"])\n",
        "\n",
        "# 2. Accessing with get()\n",
        "print(\"Age:\", my_dict.get(\"age\"))\n",
        "print(\"Gender (using get):\", my_dict.get(\"gender\"))\n",
        "print(\"Gender (with default):\", my_dict.get(\"gender\", \"Not specified\"))\n",
        "\n",
        "# 3. Accessing keys, values, and items\n",
        "print(\"Keys:\", list(my_dict.keys()))\n",
        "print(\"Values:\", list(my_dict.values()))\n",
        "print(\"Items:\", list(my_dict.items()))"
      ],
      "metadata": {
        "colab": {
          "base_uri": "https://localhost:8080/"
        },
        "id": "BhuwwSVfp0lw",
        "outputId": "f6a59c26-0363-420b-e3fc-7bac55ea796f"
      },
      "execution_count": 1,
      "outputs": [
        {
          "output_type": "stream",
          "name": "stdout",
          "text": [
            "Name: Alice\n",
            "Age: 25\n",
            "Gender (using get): None\n",
            "Gender (with default): Not specified\n",
            "Keys: ['name', 'age', 'city']\n",
            "Values: ['Alice', 25, 'Lahore']\n",
            "Items: [('name', 'Alice'), ('age', 25), ('city', 'Lahore')]\n"
          ]
        }
      ]
    },
    {
      "cell_type": "code",
      "source": [],
      "metadata": {
        "id": "Rt6TlBNMp59d"
      },
      "execution_count": null,
      "outputs": []
    },
    {
      "cell_type": "markdown",
      "source": [
        "## ➕➖ Adding and Removing Items from a Dictionary in Python\n",
        "\n",
        "---\n",
        "\n",
        "### ✅ Adding Items\n",
        "\n",
        "1. **Using Assignment**  \n",
        "   Add a new key-value pair by assigning a value to a new key.\n",
        "\n",
        "```python\n",
        "my_dict[\"new_key\"] = new_value\n"
      ],
      "metadata": {
        "id": "u3dhM44yqFy-"
      }
    },
    {
      "cell_type": "code",
      "source": [
        "# Original dictionary\n",
        "my_dict = {\"name\": \"Alice\", \"age\": 25}\n",
        "print(\"Original Dictionary:\", my_dict)\n",
        "\n",
        "# ➕ Adding Items\n",
        "my_dict[\"city\"] = \"Lahore\"  # Using assignment\n",
        "my_dict.update({\"gender\": \"Female\", \"email\": \"ehtisham@gmail.com\"})  # Using update()\n",
        "print(\"After Adding:\", my_dict)\n",
        "\n",
        "# ❌ Removing Items\n",
        "my_dict.pop(\"age\")  # Remove using pop()\n",
        "print(\"After pop('age'):\", my_dict)\n",
        "\n",
        "del my_dict[\"city\"]  # Remove using del\n",
        "print(\"After del city:\", my_dict)\n",
        "\n",
        "my_dict.popitem()  # Remove last inserted item\n",
        "print(\"After popitem():\", my_dict)\n",
        "\n",
        "my_dict.clear()  # Clear all items\n",
        "print(\"After clear():\", my_dict)"
      ],
      "metadata": {
        "colab": {
          "base_uri": "https://localhost:8080/"
        },
        "id": "YNblh3sAqGRp",
        "outputId": "6c4a0f84-1a9a-496d-c5d0-c82956c3bed5"
      },
      "execution_count": 3,
      "outputs": [
        {
          "output_type": "stream",
          "name": "stdout",
          "text": [
            "Original Dictionary: {'name': 'Alice', 'age': 25}\n",
            "After Adding: {'name': 'Alice', 'age': 25, 'city': 'Lahore', 'gender': 'Female', 'email': 'ehtisham@gmail.com'}\n",
            "After pop('age'): {'name': 'Alice', 'city': 'Lahore', 'gender': 'Female', 'email': 'ehtisham@gmail.com'}\n",
            "After del city: {'name': 'Alice', 'gender': 'Female', 'email': 'ehtisham@gmail.com'}\n",
            "After popitem(): {'name': 'Alice', 'gender': 'Female'}\n",
            "After clear(): {}\n"
          ]
        }
      ]
    },
    {
      "cell_type": "code",
      "source": [],
      "metadata": {
        "id": "EX6WIFp_qNZ3"
      },
      "execution_count": null,
      "outputs": []
    }
  ]
}