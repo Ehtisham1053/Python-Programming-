{
  "nbformat": 4,
  "nbformat_minor": 0,
  "metadata": {
    "colab": {
      "provenance": [],
      "authorship_tag": "ABX9TyMNUf6X9iLb0HI5r9XmKUXo",
      "include_colab_link": true
    },
    "kernelspec": {
      "name": "python3",
      "display_name": "Python 3"
    },
    "language_info": {
      "name": "python"
    }
  },
  "cells": [
    {
      "cell_type": "markdown",
      "metadata": {
        "id": "view-in-github",
        "colab_type": "text"
      },
      "source": [
        "<a href=\"https://colab.research.google.com/github/Ehtisham1053/Python-Programming-/blob/main/Tuple.ipynb\" target=\"_parent\"><img src=\"https://colab.research.google.com/assets/colab-badge.svg\" alt=\"Open In Colab\"/></a>"
      ]
    },
    {
      "cell_type": "markdown",
      "source": [
        "## 🧱 What is a Tuple in Python?\n",
        "\n",
        "A **tuple** is an immutable, ordered collection of elements. This means:\n",
        "- Elements are indexed (starting from 0)\n",
        "- Elements can be of any data type\n",
        "- You cannot change (modify), add, or remove elements after creation\n",
        "\n",
        "Tuples are faster and memory-efficient compared to lists.\n",
        "\n",
        "---\n",
        "\n",
        "## 🛠️ Ways to Create a Tuple\n",
        "\n",
        "### 1. Using Round Brackets `()`\n",
        "```python\n",
        "t1 = (1, 2, 3)\n"
      ],
      "metadata": {
        "id": "v98H88tPUN67"
      }
    },
    {
      "cell_type": "code",
      "execution_count": 1,
      "metadata": {
        "colab": {
          "base_uri": "https://localhost:8080/"
        },
        "id": "nN83pdadTmef",
        "outputId": "70835a85-22f5-4bcf-947b-cba1bf59fa9c"
      },
      "outputs": [
        {
          "output_type": "stream",
          "name": "stdout",
          "text": [
            "t1: (1, 2, 3)\n",
            "t2: (4, 5, 6)\n",
            "t3: (7,)\n",
            "t4 (not a tuple): 7 Type: <class 'int'>\n",
            "t5: (8, 9, 10)\n",
            "t6: (1, 2, (3, 4), [5, 6])\n"
          ]
        }
      ],
      "source": [
        "# 1. Using ()\n",
        "t1 = (1, 2, 3)\n",
        "\n",
        "# 2. Without parentheses\n",
        "t2 = 4, 5, 6\n",
        "\n",
        "# 3. Single element tuple\n",
        "t3 = (7,)\n",
        "t4 = (7)  # Not a tuple\n",
        "\n",
        "# 4. Using tuple() constructor\n",
        "t5 = tuple([8, 9, 10])\n",
        "\n",
        "# 5. Nested tuple\n",
        "t6 = (1, 2, (3, 4), [5, 6])\n",
        "\n",
        "# Print all tuples\n",
        "print(\"t1:\", t1)\n",
        "print(\"t2:\", t2)\n",
        "print(\"t3:\", t3)\n",
        "print(\"t4 (not a tuple):\", t4, \"Type:\", type(t4))\n",
        "print(\"t5:\", t5)\n",
        "print(\"t6:\", t6)\n"
      ]
    },
    {
      "cell_type": "code",
      "source": [],
      "metadata": {
        "id": "mTbVH4raUU2o"
      },
      "execution_count": null,
      "outputs": []
    }
  ]
}