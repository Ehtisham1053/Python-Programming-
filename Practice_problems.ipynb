{
  "nbformat": 4,
  "nbformat_minor": 0,
  "metadata": {
    "colab": {
      "provenance": [],
      "authorship_tag": "ABX9TyOliOZZ9HE+wNq52eH1XOLx",
      "include_colab_link": true
    },
    "kernelspec": {
      "name": "python3",
      "display_name": "Python 3"
    },
    "language_info": {
      "name": "python"
    }
  },
  "cells": [
    {
      "cell_type": "markdown",
      "metadata": {
        "id": "view-in-github",
        "colab_type": "text"
      },
      "source": [
        "<a href=\"https://colab.research.google.com/github/Ehtisham1053/Python-Programming-/blob/main/Practice_problems.ipynb\" target=\"_parent\"><img src=\"https://colab.research.google.com/assets/colab-badge.svg\" alt=\"Open In Colab\"/></a>"
      ]
    },
    {
      "cell_type": "code",
      "execution_count": 1,
      "metadata": {
        "colab": {
          "base_uri": "https://localhost:8080/"
        },
        "id": "WWz6dOTLykIZ",
        "outputId": "eb21617e-aa3f-420d-812c-9b2b2215a853"
      },
      "outputs": [
        {
          "output_type": "stream",
          "name": "stdout",
          "text": [
            "year 10 and population is 1000\n",
            "year 9 and population is 909.090909090909\n",
            "year 8 and population is 826.4462809917354\n",
            "year 7 and population is 751.3148009015775\n",
            "year 6 and population is 683.0134553650704\n",
            "year 5 and population is 620.9213230591548\n",
            "year 4 and population is 564.473930053777\n",
            "year 3 and population is 513.1581182307064\n",
            "year 2 and population is 466.507380209733\n",
            "year 1 and population is 424.09761837248453\n"
          ]
        }
      ],
      "source": [
        "pop = 1000\n",
        "\n",
        "for i in range(10,0,-1):\n",
        "  print(f\"year {i} and population is {pop}\")\n",
        "  pop = pop/1.1"
      ]
    },
    {
      "cell_type": "code",
      "source": [
        "n = int(input(\"enter the n \"))\n",
        "\n",
        "result = 0\n",
        "fact = 1\n",
        "for i in range(1 , n+1):\n",
        "  fact = fact * i\n",
        "  result = result + i/fact\n",
        "\n",
        "print(result)"
      ],
      "metadata": {
        "colab": {
          "base_uri": "https://localhost:8080/"
        },
        "id": "0U6FpAA7y8ge",
        "outputId": "df1be569-8473-44e2-c689-9f6a512c9c7e"
      },
      "execution_count": 6,
      "outputs": [
        {
          "output_type": "stream",
          "name": "stdout",
          "text": [
            "enter the n 15\n",
            "2.71828182845823\n"
          ]
        }
      ]
    },
    {
      "cell_type": "code",
      "source": [
        "n = int(input(\"enter the n \"))\n",
        "\n",
        "\n",
        "for i in range( 1 , n+1):\n",
        "  for j in range(1, i+1):\n",
        "    print(j , end=\" \")\n",
        "\n",
        "  for k in range(i-1,0,-1):\n",
        "    print(k , end=\" \")\n",
        "\n",
        "  print()\n",
        "\n",
        "\n"
      ],
      "metadata": {
        "colab": {
          "base_uri": "https://localhost:8080/"
        },
        "id": "33b69WE2zJYS",
        "outputId": "ba9d9fc7-9dc7-4459-bd56-84a6bb23a0ae"
      },
      "execution_count": 9,
      "outputs": [
        {
          "output_type": "stream",
          "name": "stdout",
          "text": [
            "enter the n 5\n",
            "1 \n",
            "1 2 1 \n",
            "1 2 3 2 1 \n",
            "1 2 3 4 3 2 1 \n",
            "1 2 3 4 5 4 3 2 1 \n"
          ]
        }
      ]
    },
    {
      "cell_type": "code",
      "source": [],
      "metadata": {
        "id": "Wb63TWTh5O51"
      },
      "execution_count": null,
      "outputs": []
    }
  ]
}