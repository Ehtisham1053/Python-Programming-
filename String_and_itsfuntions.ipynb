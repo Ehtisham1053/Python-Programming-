{
  "nbformat": 4,
  "nbformat_minor": 0,
  "metadata": {
    "colab": {
      "provenance": [],
      "authorship_tag": "ABX9TyN/6h/K02rhhDWsNvxRHTS1",
      "include_colab_link": true
    },
    "kernelspec": {
      "name": "python3",
      "display_name": "Python 3"
    },
    "language_info": {
      "name": "python"
    }
  },
  "cells": [
    {
      "cell_type": "markdown",
      "metadata": {
        "id": "view-in-github",
        "colab_type": "text"
      },
      "source": [
        "<a href=\"https://colab.research.google.com/github/Ehtisham1053/Python-Programming-/blob/main/String_and_itsfuntions.ipynb\" target=\"_parent\"><img src=\"https://colab.research.google.com/assets/colab-badge.svg\" alt=\"Open In Colab\"/></a>"
      ]
    },
    {
      "cell_type": "markdown",
      "source": [
        "# Creating a string"
      ],
      "metadata": {
        "id": "94_WhCTALDFY"
      }
    },
    {
      "cell_type": "code",
      "execution_count": 1,
      "metadata": {
        "id": "wemXe2rN-0l7",
        "colab": {
          "base_uri": "https://localhost:8080/"
        },
        "outputId": "e7adba68-4125-4082-db4d-0b87b4422b20"
      },
      "outputs": [
        {
          "output_type": "stream",
          "name": "stdout",
          "text": [
            "Hello World\n",
            "This is \n",
            "a multi-line string.\n"
          ]
        }
      ],
      "source": [
        "# Creating strings\n",
        "str1 = \"Hello\"\n",
        "str2 = 'World'\n",
        "str3 = \"\"\"This is\n",
        "a multi-line string.\"\"\"\n",
        "print(str1, str2)\n",
        "print(str3)"
      ]
    },
    {
      "cell_type": "code",
      "source": [
        "# String concatenation and repetition\n",
        "full = str1 + \" \" + str2\n",
        "print(\"Concatenated String:\", full)\n",
        "print(\"Repeated String:\", str1 * 3)\n"
      ],
      "metadata": {
        "colab": {
          "base_uri": "https://localhost:8080/"
        },
        "id": "q97B4y06M26E",
        "outputId": "a310d5fc-b480-4611-9c2e-6d8d0b5f5694"
      },
      "execution_count": 2,
      "outputs": [
        {
          "output_type": "stream",
          "name": "stdout",
          "text": [
            "Concatenated String: Hello World\n",
            "Repeated String: HelloHelloHello\n"
          ]
        }
      ]
    },
    {
      "cell_type": "markdown",
      "source": [
        "# Accessing the string"
      ],
      "metadata": {
        "id": "JKYqrkpwMkEv"
      }
    },
    {
      "cell_type": "code",
      "source": [
        "# Accessing characters and slicing\n",
        "str1 = \"Python\"\n",
        "print(\"First character:\", str1[0])\n",
        "print(\"Last character:\", str1[-1])\n",
        "print(\"Substring (2 to 4):\", str1[1:4])\n",
        "str1 = \"Ehtisham\"\n",
        "print(\"First character\" , str1[0])"
      ],
      "metadata": {
        "colab": {
          "base_uri": "https://localhost:8080/"
        },
        "id": "krY2Ex19K7Qo",
        "outputId": "4f986c9f-8032-4590-ab2f-30c2c3cc5c91"
      },
      "execution_count": 4,
      "outputs": [
        {
          "output_type": "stream",
          "name": "stdout",
          "text": [
            "First character: P\n",
            "Last character: n\n",
            "Substring (2 to 4): yth\n",
            "first character E\n"
          ]
        }
      ]
    },
    {
      "cell_type": "markdown",
      "source": [
        "# Strings methods"
      ],
      "metadata": {
        "id": "UgJkzzhNNfO-"
      }
    },
    {
      "cell_type": "code",
      "source": [
        "# String methods\n",
        "sample = \"  Python Programming!  \"\n",
        "print(sample)\n",
        "\n",
        "\n",
        "print(\"\\nString Methods\")\n",
        "print(\"Upper:\", sample.upper())\n",
        "print(\"Lower:\", sample.lower())\n",
        "print(\"Strip:\", sample.strip())\n",
        "print(\"Lstrip:\", sample.lstrip())\n",
        "print(\"Rstrip:\", sample.rstrip())\n",
        "print(\"Replace:\", sample.replace(\"Python\", \"Java\"))\n",
        "print(\"Split:\", sample.split())\n",
        "print(\"Join:\", \"-\".join([\"2025\", \"04\", \"01\"]))\n",
        "print(\"Find:\", sample.find(\"Programming\"))\n",
        "print(\"Index:\", sample.index(\"Programming\"))\n",
        "print(\"Count:\", sample.count(\"m\"))\n",
        "print(\"Startswith:\", sample.startswith(\"  Py\"))\n",
        "print(\"Endswith:\", sample.endswith(\"!  \"))\n",
        "print(\"Isalpha (no spaces):\", \"HelloWorld\".isalpha())\n",
        "print(\"Isdigit:\", \"1234\".isdigit())\n",
        "print(\"Isalnum:\", \"Python3\".isalnum())\n",
        "print(\"Title:\", sample.title())\n",
        "print(\"Capitalize:\", sample.capitalize())\n",
        "print(\"Swapcase:\", sample.swapcase())\n",
        "print(\"Zfill:\", \"42\".zfill(5))\n",
        "print(\"reverse a string\" , sample[::-1])"
      ],
      "metadata": {
        "colab": {
          "base_uri": "https://localhost:8080/"
        },
        "id": "7QZCEYTJM-BS",
        "outputId": "c87a9ed3-f0e4-45b8-fa44-a7d76b768ab9"
      },
      "execution_count": 7,
      "outputs": [
        {
          "output_type": "stream",
          "name": "stdout",
          "text": [
            "  Python Programming!  \n",
            "\n",
            "String Methods\n",
            "Upper:   PYTHON PROGRAMMING!  \n",
            "Lower:   python programming!  \n",
            "Strip: Python Programming!\n",
            "Lstrip: Python Programming!  \n",
            "Rstrip:   Python Programming!\n",
            "Replace:   Java Programming!  \n",
            "Split: ['Python', 'Programming!']\n",
            "Join: 2025-04-01\n",
            "Find: 9\n",
            "Index: 9\n",
            "Count: 2\n",
            "Startswith: True\n",
            "Endswith: True\n",
            "Isalpha (no spaces): True\n",
            "Isdigit: True\n",
            "Isalnum: True\n",
            "Title:   Python Programming!  \n",
            "Capitalize:   python programming!  \n",
            "Swapcase:   pYTHON pROGRAMMING!  \n",
            "Zfill: 00042\n",
            "reverse a string   !gnimmargorP nohtyP  \n"
          ]
        }
      ]
    },
    {
      "cell_type": "markdown",
      "source": [
        "# Editing and deleting a string"
      ],
      "metadata": {
        "id": "3ePIQBD3QEzO"
      }
    },
    {
      "cell_type": "code",
      "source": [
        "str = \"Ehtisham\"\n",
        "str[0] = \"o\"\n",
        "# it means that the string are immutable in pyton"
      ],
      "metadata": {
        "colab": {
          "base_uri": "https://localhost:8080/",
          "height": 158
        },
        "id": "UhngBD8ANkbr",
        "outputId": "f24ce60e-a6c1-4a18-be15-71567aed72c3"
      },
      "execution_count": 8,
      "outputs": [
        {
          "output_type": "error",
          "ename": "TypeError",
          "evalue": "'str' object does not support item assignment",
          "traceback": [
            "\u001b[0;31m---------------------------------------------------------------------------\u001b[0m",
            "\u001b[0;31mTypeError\u001b[0m                                 Traceback (most recent call last)",
            "\u001b[0;32m<ipython-input-8-0ea4fa31bada>\u001b[0m in \u001b[0;36m<cell line: 0>\u001b[0;34m()\u001b[0m\n\u001b[1;32m      1\u001b[0m \u001b[0mstr\u001b[0m \u001b[0;34m=\u001b[0m \u001b[0;34m\"Ehtisham\"\u001b[0m\u001b[0;34m\u001b[0m\u001b[0;34m\u001b[0m\u001b[0m\n\u001b[0;32m----> 2\u001b[0;31m \u001b[0mstr\u001b[0m\u001b[0;34m[\u001b[0m\u001b[0;36m0\u001b[0m\u001b[0;34m]\u001b[0m \u001b[0;34m=\u001b[0m \u001b[0;34m\"o\"\u001b[0m\u001b[0;34m\u001b[0m\u001b[0;34m\u001b[0m\u001b[0m\n\u001b[0m",
            "\u001b[0;31mTypeError\u001b[0m: 'str' object does not support item assignment"
          ]
        }
      ]
    },
    {
      "cell_type": "code",
      "source": [
        "# Editing a string (strings are immutable, so we create a new one)\n",
        "original = \"Ehtisham\"\n",
        "edited = original[:2] + \"Afzal\" + original[2:]\n",
        "print(\"Edited string:\", edited)"
      ],
      "metadata": {
        "colab": {
          "base_uri": "https://localhost:8080/"
        },
        "id": "wuOWVD1MQQV5",
        "outputId": "eac724ed-21d3-40bb-c45f-0807e6f92a73"
      },
      "execution_count": 10,
      "outputs": [
        {
          "output_type": "stream",
          "name": "stdout",
          "text": [
            "Edited string: EhAfzaltisham\n"
          ]
        }
      ]
    },
    {
      "cell_type": "code",
      "source": [
        "# Deleting a string (using del)\n",
        "temp_str = \"Temporary\"\n",
        "print(\"Before deletion:\", temp_str)\n",
        "del temp_str\n",
        "# Uncomment the following line to see the error after deletion\n",
        "#print(temp_str)"
      ],
      "metadata": {
        "colab": {
          "base_uri": "https://localhost:8080/"
        },
        "id": "tZw4Cil2Q7WI",
        "outputId": "24f2007a-c8b5-4586-ed14-29696e86371e"
      },
      "execution_count": 13,
      "outputs": [
        {
          "output_type": "stream",
          "name": "stdout",
          "text": [
            "Before deletion: Temporary\n"
          ]
        }
      ]
    },
    {
      "cell_type": "markdown",
      "source": [
        "# Operations on python strings"
      ],
      "metadata": {
        "id": "TTBNRAyWSqW-"
      }
    },
    {
      "cell_type": "code",
      "source": [
        "# 1. Arithmetic Operators with Strings (Only '+' and '*' are valid)\n",
        "str1 = \"Hello\"\n",
        "str2 = \"World\"\n",
        "print(\"Concatenation (+):\", str1 + \" \" + str2)\n",
        "print(\"Repetition (*):\", str1 * 3)"
      ],
      "metadata": {
        "colab": {
          "base_uri": "https://localhost:8080/"
        },
        "id": "ZtBYlJycSuV-",
        "outputId": "6bb85dff-a465-4160-bb45-5e291575e1ad"
      },
      "execution_count": 14,
      "outputs": [
        {
          "output_type": "stream",
          "name": "stdout",
          "text": [
            "Concatenation (+): Hello World\n",
            "Repetition (*): HelloHelloHello\n"
          ]
        }
      ]
    },
    {
      "cell_type": "code",
      "source": [
        "# 2. Relational (Comparison) Operators with Strings\n",
        "print(\"Equal (==):\", str1 == str2)\n",
        "print(\"Not Equal (!=):\", str1 != str2)\n",
        "print(\"\\nwe compare using the lexicographically technique not with the number of the character in the string\")\n",
        "print(\"Greater Than (>):\", str1 > str2)\n",
        "print(\"Less Than (<):\", str1 < str2)"
      ],
      "metadata": {
        "colab": {
          "base_uri": "https://localhost:8080/"
        },
        "id": "ETBmbTEzSwCs",
        "outputId": "785bac97-320e-4585-eb97-7ebdeb1fa9b0"
      },
      "execution_count": 22,
      "outputs": [
        {
          "output_type": "stream",
          "name": "stdout",
          "text": [
            "Equal (==): False\n",
            "Not Equal (!=): True\n",
            "\n",
            "we compare using the lexicographically technique not with the number of the character in the string\n",
            "Greater Than (>): False\n",
            "Less Than (<): True\n"
          ]
        }
      ]
    },
    {
      "cell_type": "code",
      "source": [
        "# 3. Assignment Operators with Strings\n",
        "msg = \"Hello\"\n",
        "msg += \" World\"  # Equivalent to msg = msg + \" World\"\n",
        "print(\"After += :\", msg)\n",
        "# Note: Other assignment operators like -=, *= on strings are not valid except += and *="
      ],
      "metadata": {
        "colab": {
          "base_uri": "https://localhost:8080/"
        },
        "id": "gQLcVjliSyHU",
        "outputId": "ec519ace-6e62-4611-ad27-bede22bdee38"
      },
      "execution_count": 16,
      "outputs": [
        {
          "output_type": "stream",
          "name": "stdout",
          "text": [
            "After += : Hello World\n"
          ]
        }
      ]
    },
    {
      "cell_type": "code",
      "source": [
        "# 4. Logical Operators with Strings (non-empty = True, empty = False)\n",
        "a = \"Python\"\n",
        "b = \"\"\n",
        "print(\"a and b:\", a and b)  # Returns b\n",
        "print(\"a or b:\", a or b)    # Returns a\n",
        "print(\"not a:\", not a)      # Returns False"
      ],
      "metadata": {
        "colab": {
          "base_uri": "https://localhost:8080/"
        },
        "id": "79k0bDP4Szke",
        "outputId": "6d8f4284-18b6-4826-aa34-3d8ed45f89e7"
      },
      "execution_count": 17,
      "outputs": [
        {
          "output_type": "stream",
          "name": "stdout",
          "text": [
            "a and b: \n",
            "a or b: Python\n",
            "not a: False\n"
          ]
        }
      ]
    },
    {
      "cell_type": "code",
      "source": [
        "# 5. Membership Operators\n",
        "print(\"'Py' in a:\", \"Py\" in a)\n",
        "print(\"'on' not in a:\", \"on\" not in a)\n"
      ],
      "metadata": {
        "colab": {
          "base_uri": "https://localhost:8080/"
        },
        "id": "CEI9I_8GS0_M",
        "outputId": "fd79bbb6-84da-420a-cf41-ad38419dae28"
      },
      "execution_count": 18,
      "outputs": [
        {
          "output_type": "stream",
          "name": "stdout",
          "text": [
            "'Py' in a: True\n",
            "'on' not in a: False\n"
          ]
        }
      ]
    },
    {
      "cell_type": "code",
      "source": [
        "# 6. Identity Operators\n",
        "x = \"Data\"\n",
        "y = \"Data\"\n",
        "z = x\n",
        "print(\"x is z:\", x is z)       # True (same object)\n",
        "print(\"x is y:\", x is y)       # True (interpreter may optimize and point to same object)\n",
        "print(\"x == y:\", x == y)       # True (value equality)"
      ],
      "metadata": {
        "colab": {
          "base_uri": "https://localhost:8080/"
        },
        "id": "XEK7ZEnBSpF1",
        "outputId": "f84e71e6-7fa1-46e2-e021-4324f92dd8a6"
      },
      "execution_count": 19,
      "outputs": [
        {
          "output_type": "stream",
          "name": "stdout",
          "text": [
            "x is z: True\n",
            "x is y: True\n",
            "x == y: True\n"
          ]
        }
      ]
    },
    {
      "cell_type": "code",
      "source": [],
      "metadata": {
        "id": "WWAmwMJ3RI_Z"
      },
      "execution_count": null,
      "outputs": []
    }
  ]
}