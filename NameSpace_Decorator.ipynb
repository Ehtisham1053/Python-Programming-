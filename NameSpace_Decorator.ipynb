{
  "nbformat": 4,
  "nbformat_minor": 0,
  "metadata": {
    "colab": {
      "provenance": [],
      "authorship_tag": "ABX9TyNBNR0jRNnaK6jo4Usm9Lww",
      "include_colab_link": true
    },
    "kernelspec": {
      "name": "python3",
      "display_name": "Python 3"
    },
    "language_info": {
      "name": "python"
    }
  },
  "cells": [
    {
      "cell_type": "markdown",
      "metadata": {
        "id": "view-in-github",
        "colab_type": "text"
      },
      "source": [
        "<a href=\"https://colab.research.google.com/github/Ehtisham1053/Python-Programming-/blob/main/NameSpace_Decorator.ipynb\" target=\"_parent\"><img src=\"https://colab.research.google.com/assets/colab-badge.svg\" alt=\"Open In Colab\"/></a>"
      ]
    },
    {
      "cell_type": "markdown",
      "source": [
        "# 📘 Namespace in Python\n",
        "\n",
        "## 📌 What is a Namespace?\n",
        "\n",
        "A **namespace** is a container that holds a mapping between names (identifiers) and objects (variables, functions, classes, etc.). It ensures that names are unique and prevents naming conflicts in Python programs.\n",
        "\n",
        "In simple terms, it’s like a dictionary where the keys are variable names and the values are the objects.\n",
        "\n",
        "---\n",
        "\n",
        "## 🧠 Why Use Namespace?\n",
        "\n",
        "- Avoids name collisions.\n",
        "- Organizes code for better readability.\n",
        "- Makes debugging easier.\n",
        "- Helps Python know where to find and store variables.\n",
        "\n",
        "---\n",
        "\n",
        "## 🗂️ Types of Namespaces in Python\n",
        "\n",
        "### 1️⃣ **Built-in Namespace**\n",
        "- Created when the Python interpreter starts.\n",
        "- Contains built-in functions and exceptions.\n",
        "- Example: `print()`, `len()`, `type()`\n",
        "\n",
        "---\n",
        "\n",
        "### 2️⃣ **Global Namespace**\n",
        "- Created when a script or module is run.\n",
        "- Includes functions, classes, and variables defined at the top-level of a module.\n",
        "- Each module has its own global namespace.\n",
        "\n",
        "---\n",
        "\n",
        "### 3️⃣ **Local Namespace**\n",
        "- Created when a function is called.\n",
        "- Contains local variables defined inside the function.\n",
        "- It exists temporarily and is destroyed once the function returns.\n",
        "\n",
        "---\n",
        "\n",
        "### 4️⃣ **Enclosing Namespace**\n",
        "- Specific to nested functions (functions inside functions).\n",
        "- The enclosing function’s local namespace acts as an enclosing namespace for the inner function.\n",
        "\n",
        "---\n",
        "\n",
        "## 🔄 Scope and Namespace\n",
        "\n",
        "The **scope** defines the visibility of a name (variable/function) within a program. Python uses the **LEGB Rule** for resolving names:\n",
        "\n",
        "| Level     | Namespace         | Description                           |\n",
        "|-----------|-------------------|---------------------------------------|\n",
        "| L         | Local             | Names inside the current function     |\n",
        "| E         | Enclosing         | Names in enclosing functions          |\n",
        "| G         | Global            | Names defined at the top-level script |\n",
        "| B         | Built-in          | Names preassigned in Python           |\n",
        "\n",
        "---\n",
        "\n",
        "## ✅ Summary\n",
        "\n",
        "- Namespaces help Python know where to look for names.\n",
        "- They are essential for organizing and resolving variable/function/class names.\n",
        "- LEGB rule is used to resolve the scope and precedence of variable names.\n"
      ],
      "metadata": {
        "id": "Ubvq-6DqmUYj"
      }
    },
    {
      "cell_type": "code",
      "execution_count": 1,
      "metadata": {
        "colab": {
          "base_uri": "https://localhost:8080/"
        },
        "id": "YaJPc-05lEPx",
        "outputId": "a45a9a3e-edee-4621-b7dc-2d49916206b4"
      },
      "outputs": [
        {
          "output_type": "stream",
          "name": "stdout",
          "text": [
            "5\n",
            "Accessing Global Variable: Global Variable\n",
            "Accessing Local Variable inside function: Local Variable\n",
            "Accessing Enclosing Variable: Enclosing Variable\n"
          ]
        }
      ],
      "source": [
        "# ✅ Built-in Namespace Example\n",
        "print(len(\"Hello\"))  # len is a built-in function\n",
        "\n",
        "# -------------------------------------------------\n",
        "\n",
        "# ✅ Global Namespace\n",
        "x = \"Global Variable\"\n",
        "\n",
        "def global_example():\n",
        "    print(\"Accessing Global Variable:\", x)\n",
        "\n",
        "global_example()\n",
        "\n",
        "# -------------------------------------------------\n",
        "\n",
        "# ✅ Local Namespace\n",
        "def local_example():\n",
        "    y = \"Local Variable\"\n",
        "    print(\"Accessing Local Variable inside function:\", y)\n",
        "\n",
        "local_example()\n",
        "# print(y)  # ❌ This will give an error because y is not defined in global scope\n",
        "\n",
        "# -------------------------------------------------\n",
        "\n",
        "# ✅ Enclosing Namespace\n",
        "def outer_function():\n",
        "    z = \"Enclosing Variable\"\n",
        "\n",
        "    def inner_function():\n",
        "        print(\"Accessing Enclosing Variable:\", z)\n",
        "\n",
        "    inner_function()\n",
        "\n",
        "outer_function()\n"
      ]
    },
    {
      "cell_type": "code",
      "source": [],
      "metadata": {
        "id": "3qNSSfNTmmiM"
      },
      "execution_count": null,
      "outputs": []
    }
  ]
}