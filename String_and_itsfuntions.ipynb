{
  "nbformat": 4,
  "nbformat_minor": 0,
  "metadata": {
    "colab": {
      "provenance": [],
      "authorship_tag": "ABX9TyNLvlgBQyRBy30WwPX8M0BL",
      "include_colab_link": true
    },
    "kernelspec": {
      "name": "python3",
      "display_name": "Python 3"
    },
    "language_info": {
      "name": "python"
    }
  },
  "cells": [
    {
      "cell_type": "markdown",
      "metadata": {
        "id": "view-in-github",
        "colab_type": "text"
      },
      "source": [
        "<a href=\"https://colab.research.google.com/github/Ehtisham1053/Python-Programming-/blob/main/String_and_itsfuntions.ipynb\" target=\"_parent\"><img src=\"https://colab.research.google.com/assets/colab-badge.svg\" alt=\"Open In Colab\"/></a>"
      ]
    },
    {
      "cell_type": "code",
      "execution_count": 1,
      "metadata": {
        "id": "wemXe2rN-0l7",
        "outputId": "e7adba68-4125-4082-db4d-0b87b4422b20",
        "colab": {
          "base_uri": "https://localhost:8080/"
        }
      },
      "outputs": [
        {
          "output_type": "stream",
          "name": "stdout",
          "text": [
            "Hello World\n",
            "This is \n",
            "a multi-line string.\n"
          ]
        }
      ],
      "source": [
        "# Creating strings\n",
        "str1 = \"Hello\"\n",
        "str2 = 'World'\n",
        "str3 = \"\"\"This is\n",
        "a multi-line string.\"\"\"\n",
        "print(str1, str2)\n",
        "print(str3)"
      ]
    },
    {
      "cell_type": "code",
      "source": [],
      "metadata": {
        "id": "krY2Ex19K7Qo"
      },
      "execution_count": null,
      "outputs": []
    }
  ]
}