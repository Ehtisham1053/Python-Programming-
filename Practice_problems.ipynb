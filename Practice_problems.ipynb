{
  "nbformat": 4,
  "nbformat_minor": 0,
  "metadata": {
    "colab": {
      "provenance": [],
      "authorship_tag": "ABX9TyOdY+Plj/ETYJjBb2feknrc",
      "include_colab_link": true
    },
    "kernelspec": {
      "name": "python3",
      "display_name": "Python 3"
    },
    "language_info": {
      "name": "python"
    }
  },
  "cells": [
    {
      "cell_type": "markdown",
      "metadata": {
        "id": "view-in-github",
        "colab_type": "text"
      },
      "source": [
        "<a href=\"https://colab.research.google.com/github/Ehtisham1053/Python-Programming-/blob/main/Practice_problems.ipynb\" target=\"_parent\"><img src=\"https://colab.research.google.com/assets/colab-badge.svg\" alt=\"Open In Colab\"/></a>"
      ]
    },
    {
      "cell_type": "code",
      "execution_count": null,
      "metadata": {
        "colab": {
          "base_uri": "https://localhost:8080/"
        },
        "id": "WWz6dOTLykIZ",
        "outputId": "eb21617e-aa3f-420d-812c-9b2b2215a853"
      },
      "outputs": [
        {
          "output_type": "stream",
          "name": "stdout",
          "text": [
            "year 10 and population is 1000\n",
            "year 9 and population is 909.090909090909\n",
            "year 8 and population is 826.4462809917354\n",
            "year 7 and population is 751.3148009015775\n",
            "year 6 and population is 683.0134553650704\n",
            "year 5 and population is 620.9213230591548\n",
            "year 4 and population is 564.473930053777\n",
            "year 3 and population is 513.1581182307064\n",
            "year 2 and population is 466.507380209733\n",
            "year 1 and population is 424.09761837248453\n"
          ]
        }
      ],
      "source": [
        "pop = 1000\n",
        "\n",
        "for i in range(10,0,-1):\n",
        "  print(f\"year {i} and population is {pop}\")\n",
        "  pop = pop/1.1"
      ]
    },
    {
      "cell_type": "code",
      "source": [
        "n = int(input(\"enter the n \"))\n",
        "\n",
        "result = 0\n",
        "fact = 1\n",
        "for i in range(1 , n+1):\n",
        "  fact = fact * i\n",
        "  result = result + i/fact\n",
        "\n",
        "print(result)"
      ],
      "metadata": {
        "colab": {
          "base_uri": "https://localhost:8080/"
        },
        "id": "0U6FpAA7y8ge",
        "outputId": "df1be569-8473-44e2-c689-9f6a512c9c7e"
      },
      "execution_count": null,
      "outputs": [
        {
          "output_type": "stream",
          "name": "stdout",
          "text": [
            "enter the n 15\n",
            "2.71828182845823\n"
          ]
        }
      ]
    },
    {
      "cell_type": "code",
      "source": [
        "n = int(input(\"enter the n \"))\n",
        "\n",
        "\n",
        "for i in range( 1 , n+1):\n",
        "  for j in range(1, i+1):\n",
        "    print(j , end=\" \")\n",
        "\n",
        "  for k in range(i-1,0,-1):\n",
        "    print(k , end=\" \")\n",
        "\n",
        "  print()\n",
        "\n",
        "\n"
      ],
      "metadata": {
        "colab": {
          "base_uri": "https://localhost:8080/"
        },
        "id": "33b69WE2zJYS",
        "outputId": "ba9d9fc7-9dc7-4459-bd56-84a6bb23a0ae"
      },
      "execution_count": null,
      "outputs": [
        {
          "output_type": "stream",
          "name": "stdout",
          "text": [
            "enter the n 5\n",
            "1 \n",
            "1 2 1 \n",
            "1 2 3 2 1 \n",
            "1 2 3 4 3 2 1 \n",
            "1 2 3 4 5 4 3 2 1 \n"
          ]
        }
      ]
    },
    {
      "cell_type": "code",
      "source": [
        "l = int(input(\"enter the lower range:: \"))\n",
        "u = int(input(\"enter the upper range:: \"))\n",
        "\n",
        "\n",
        "for i in range(l,u+1):\n",
        "  for j in range(2,i):\n",
        "    if i%j == 0:\n",
        "      break\n",
        "  else:\n",
        "    print(i)"
      ],
      "metadata": {
        "id": "Wb63TWTh5O51",
        "outputId": "d4c21d2b-371e-4213-f5ea-061666a1a677",
        "colab": {
          "base_uri": "https://localhost:8080/"
        }
      },
      "execution_count": 4,
      "outputs": [
        {
          "output_type": "stream",
          "name": "stdout",
          "text": [
            "enter the lower range:: 10\n",
            "enter the upper range:: 20\n",
            "11\n",
            "13\n",
            "17\n",
            "19\n"
          ]
        }
      ]
    },
    {
      "cell_type": "code",
      "source": [
        "n = 14\n",
        "for i in range(1,n):\n",
        "  if i>10:\n",
        "    break\n",
        "  print(i*2)"
      ],
      "metadata": {
        "id": "TgDMiqFoGMul",
        "outputId": "5fa46e7d-70a1-49fe-deee-727238fcea36",
        "colab": {
          "base_uri": "https://localhost:8080/"
        }
      },
      "execution_count": 9,
      "outputs": [
        {
          "output_type": "stream",
          "name": "stdout",
          "text": [
            "2\n",
            "4\n",
            "6\n",
            "8\n",
            "10\n",
            "12\n",
            "14\n",
            "16\n",
            "18\n",
            "20\n"
          ]
        }
      ]
    },
    {
      "cell_type": "code",
      "source": [],
      "metadata": {
        "id": "0S7K56bYHQK6"
      },
      "execution_count": null,
      "outputs": []
    }
  ]
}