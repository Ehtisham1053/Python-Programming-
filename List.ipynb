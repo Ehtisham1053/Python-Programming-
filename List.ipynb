{
  "nbformat": 4,
  "nbformat_minor": 0,
  "metadata": {
    "colab": {
      "provenance": [],
      "authorship_tag": "ABX9TyMNt2F026v+sfN/JsHik18A",
      "include_colab_link": true
    },
    "kernelspec": {
      "name": "python3",
      "display_name": "Python 3"
    },
    "language_info": {
      "name": "python"
    }
  },
  "cells": [
    {
      "cell_type": "markdown",
      "metadata": {
        "id": "view-in-github",
        "colab_type": "text"
      },
      "source": [
        "<a href=\"https://colab.research.google.com/github/Ehtisham1053/Python-Programming-/blob/main/List.ipynb\" target=\"_parent\"><img src=\"https://colab.research.google.com/assets/colab-badge.svg\" alt=\"Open In Colab\"/></a>"
      ]
    },
    {
      "cell_type": "markdown",
      "source": [
        "### What is a List in Python?\n",
        "\n",
        "A **list** in Python is a built-in **mutable** (changeable) data structure that is used to **store multiple items in a single variable**. Lists can hold elements of different data types including integers, floats, strings, or even other lists.\n",
        "\n",
        "Python lists are:\n",
        "- **Ordered**: Elements have a defined order.\n",
        "- **Mutable**: You can change, add, or remove elements.\n",
        "- **Heterogeneous**: Can store different types of data in a single list.\n",
        "- **Indexable**: Each element is accessed using an index starting from 0.\n",
        "\n",
        "Lists are defined using **square brackets `[]`**, and the elements are separated by **commas**.\n",
        "\n",
        "**Syntax:**\n",
        "```python\n",
        "my_list = [1, 2, 3, \"apple\", 4.5, True]\n"
      ],
      "metadata": {
        "id": "4d20yI9TdDFl"
      }
    },
    {
      "cell_type": "code",
      "execution_count": 2,
      "metadata": {
        "colab": {
          "base_uri": "https://localhost:8080/"
        },
        "id": "zMOFctGcZVZZ",
        "outputId": "51cdc6d5-0c31-4155-cefa-2d77bb555771"
      },
      "outputs": [
        {
          "output_type": "stream",
          "name": "stdout",
          "text": [
            "List: [1, 2, 3, 'apple', 4.5, True]\n",
            "List: [1, 2, 3, 4]\n"
          ]
        }
      ],
      "source": [
        "my_list = [1, 2, 3, \"apple\", 4.5, True]\n",
        "print(\"List:\", my_list)\n",
        "my_list = [1,2,3,4]\n",
        "print(\"List:\", my_list)"
      ]
    },
    {
      "cell_type": "code",
      "source": [],
      "metadata": {
        "id": "qYslHp0EdKO3"
      },
      "execution_count": null,
      "outputs": []
    }
  ]
}